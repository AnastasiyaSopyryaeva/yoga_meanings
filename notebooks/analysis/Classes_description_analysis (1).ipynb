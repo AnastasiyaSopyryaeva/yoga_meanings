{
  "nbformat": 4,
  "nbformat_minor": 0,
  "metadata": {
    "colab": {
      "provenance": [],
      "collapsed_sections": [
        "PXOEhLUavCUX"
      ]
    },
    "kernelspec": {
      "name": "python3",
      "display_name": "Python 3"
    },
    "language_info": {
      "name": "python"
    }
  },
  "cells": [
    {
      "cell_type": "markdown",
      "source": [
        "## Class descriptions analysis"
      ],
      "metadata": {
        "id": "mxHk5z8jwTjR"
      }
    },
    {
      "cell_type": "markdown",
      "source": [
        "In this notebook I explore descriptions of classes offered by different Yoga studios in New York City.\n",
        "\n",
        "\n",
        "\n",
        "---\n",
        "\n",
        "\n"
      ],
      "metadata": {
        "id": "af8ujUgAwDca"
      }
    },
    {
      "cell_type": "markdown",
      "source": [
        "Steps:\n",
        "1. Data cleaning and inspection\n",
        "2. Text data pre-processing\n",
        "3. Text data basic descriptive analysis\n",
        "4. Topic modeling\n"
      ],
      "metadata": {
        "id": "RUyC0wcDwcbk"
      }
    },
    {
      "cell_type": "code",
      "source": [
        "# access google drive folder\n",
        "%cd /content/drive/MyDrive/Yoga_Classes\n",
        "\n",
        "# running the files containing neccesary libraries and functions\n",
        "%run 'notebooks/scripts/setup.ipynb'\n",
        "%run 'notebooks/scripts/text_processing.ipynb'\n",
        "%run 'notebooks/scripts/inspect_distributions.ipynb'\n",
        "%run 'notebooks/scripts/topic_modeling.ipynb'"
      ],
      "metadata": {
        "id": "COzGDiN2tP3g",
        "colab": {
          "base_uri": "https://localhost:8080/"
        },
        "outputId": "ed3906b4-7553-4c69-a934-01b77e1222e4"
      },
      "execution_count": 1,
      "outputs": [
        {
          "output_type": "stream",
          "name": "stdout",
          "text": [
            "/content/drive/MyDrive/Yoga_Classes\n",
            "/content/drive/MyDrive/Yoga_Classes\n"
          ]
        },
        {
          "output_type": "stream",
          "name": "stderr",
          "text": [
            "[nltk_data] Downloading package stopwords to /root/nltk_data...\n",
            "[nltk_data]   Unzipping corpora/stopwords.zip.\n",
            "[nltk_data] Downloading package wordnet to /root/nltk_data...\n"
          ]
        },
        {
          "output_type": "stream",
          "name": "stdout",
          "text": [
            "/content/drive/MyDrive/Yoga_Classes\n",
            "/content/drive/MyDrive/Yoga_Classes\n",
            "Collecting pyLDAvis==2.1.2\n",
            "  Downloading pyLDAvis-2.1.2.tar.gz (1.6 MB)\n",
            "\u001b[2K     \u001b[90m━━━━━━━━━━━━━━━━━━━━━━━━━━━━━━━━━━━━━━━━\u001b[0m \u001b[32m1.6/1.6 MB\u001b[0m \u001b[31m16.5 MB/s\u001b[0m eta \u001b[36m0:00:00\u001b[0m\n",
            "\u001b[?25h  Preparing metadata (setup.py) ... \u001b[?25l\u001b[?25hdone\n",
            "Requirement already satisfied: wheel>=0.23.0 in /usr/local/lib/python3.10/dist-packages (from pyLDAvis==2.1.2) (0.41.2)\n",
            "Requirement already satisfied: numpy>=1.9.2 in /usr/local/lib/python3.10/dist-packages (from pyLDAvis==2.1.2) (1.23.5)\n",
            "Requirement already satisfied: scipy>=0.18.0 in /usr/local/lib/python3.10/dist-packages (from pyLDAvis==2.1.2) (1.10.1)\n",
            "Requirement already satisfied: pandas>=0.17.0 in /usr/local/lib/python3.10/dist-packages (from pyLDAvis==2.1.2) (1.5.3)\n",
            "Requirement already satisfied: joblib>=0.8.4 in /usr/local/lib/python3.10/dist-packages (from pyLDAvis==2.1.2) (1.3.2)\n",
            "Requirement already satisfied: jinja2>=2.7.2 in /usr/local/lib/python3.10/dist-packages (from pyLDAvis==2.1.2) (3.1.2)\n",
            "Requirement already satisfied: numexpr in /usr/local/lib/python3.10/dist-packages (from pyLDAvis==2.1.2) (2.8.5)\n",
            "Requirement already satisfied: pytest in /usr/local/lib/python3.10/dist-packages (from pyLDAvis==2.1.2) (7.4.0)\n",
            "Requirement already satisfied: future in /usr/local/lib/python3.10/dist-packages (from pyLDAvis==2.1.2) (0.18.3)\n",
            "Collecting funcy (from pyLDAvis==2.1.2)\n",
            "  Downloading funcy-2.0-py2.py3-none-any.whl (30 kB)\n",
            "Requirement already satisfied: MarkupSafe>=2.0 in /usr/local/lib/python3.10/dist-packages (from jinja2>=2.7.2->pyLDAvis==2.1.2) (2.1.3)\n",
            "Requirement already satisfied: python-dateutil>=2.8.1 in /usr/local/lib/python3.10/dist-packages (from pandas>=0.17.0->pyLDAvis==2.1.2) (2.8.2)\n",
            "Requirement already satisfied: pytz>=2020.1 in /usr/local/lib/python3.10/dist-packages (from pandas>=0.17.0->pyLDAvis==2.1.2) (2023.3)\n",
            "Requirement already satisfied: iniconfig in /usr/local/lib/python3.10/dist-packages (from pytest->pyLDAvis==2.1.2) (2.0.0)\n",
            "Requirement already satisfied: packaging in /usr/local/lib/python3.10/dist-packages (from pytest->pyLDAvis==2.1.2) (23.1)\n",
            "Requirement already satisfied: pluggy<2.0,>=0.12 in /usr/local/lib/python3.10/dist-packages (from pytest->pyLDAvis==2.1.2) (1.2.0)\n",
            "Requirement already satisfied: exceptiongroup>=1.0.0rc8 in /usr/local/lib/python3.10/dist-packages (from pytest->pyLDAvis==2.1.2) (1.1.3)\n",
            "Requirement already satisfied: tomli>=1.0.0 in /usr/local/lib/python3.10/dist-packages (from pytest->pyLDAvis==2.1.2) (2.0.1)\n",
            "Requirement already satisfied: six>=1.5 in /usr/local/lib/python3.10/dist-packages (from python-dateutil>=2.8.1->pandas>=0.17.0->pyLDAvis==2.1.2) (1.16.0)\n",
            "Building wheels for collected packages: pyLDAvis\n",
            "  Building wheel for pyLDAvis (setup.py) ... \u001b[?25l\u001b[?25hdone\n",
            "  Created wheel for pyLDAvis: filename=pyLDAvis-2.1.2-py2.py3-none-any.whl size=97718 sha256=d728398f4f6c8ae767945def13c77ca32cf430f3d17216bbec07cd2dc602c6b8\n",
            "  Stored in directory: /root/.cache/pip/wheels/d9/93/d6/16c95da19c32f037fd75135ea152d0df37254c25cd1a8b4b6c\n",
            "Successfully built pyLDAvis\n",
            "Installing collected packages: funcy, pyLDAvis\n",
            "Successfully installed funcy-2.0 pyLDAvis-2.1.2\n"
          ]
        }
      ]
    },
    {
      "cell_type": "markdown",
      "source": [
        "### Dataset description"
      ],
      "metadata": {
        "id": "9_QcN2BRuf_H"
      }
    },
    {
      "cell_type": "code",
      "source": [
        "# read the data\n",
        "df_classes = pd.read_csv('data/yoga_classes.csv', dtype='string', usecols=['class_description'])\n",
        "\n",
        "# drop the rows where no class description is provided for a class\n",
        "df_classes = df_classes.dropna(subset=['class_description']).reset_index(drop=True)\n",
        "df_classes.head()"
      ],
      "metadata": {
        "colab": {
          "base_uri": "https://localhost:8080/",
          "height": 295
        },
        "id": "aesYcPCetP-X",
        "outputId": "c0e7516e-a7c0-4d84-f824-7b81062d5cec"
      },
      "execution_count": 2,
      "outputs": [
        {
          "output_type": "stream",
          "name": "stderr",
          "text": [
            "/usr/local/lib/python3.10/dist-packages/ipykernel/ipkernel.py:283: DeprecationWarning:\n",
            "\n",
            "`should_run_async` will not call `transform_cell` automatically in the future. Please pass the result to `transformed_cell` argument and any exception that happen during thetransform in `preprocessing_exc_tuple` in IPython 7.17 and above.\n",
            "\n"
          ]
        },
        {
          "output_type": "execute_result",
          "data": {
            "text/plain": [
              "                                   class_description\n",
              "0  These classes use an aerial silk to create pos...\n",
              "1  Relax your mind and align your body with aeria...\n",
              "2  Aerial Yoga (Open Level) - this class is for e...\n",
              "3  Ashtanga Yoga involves synchronization between...\n",
              "4  Ashtanga Yoga is a systematic Vinyasa-style cl..."
            ],
            "text/html": [
              "\n",
              "  <div id=\"df-ab6b6729-7f6b-418e-b461-b91f889138de\" class=\"colab-df-container\">\n",
              "    <div>\n",
              "<style scoped>\n",
              "    .dataframe tbody tr th:only-of-type {\n",
              "        vertical-align: middle;\n",
              "    }\n",
              "\n",
              "    .dataframe tbody tr th {\n",
              "        vertical-align: top;\n",
              "    }\n",
              "\n",
              "    .dataframe thead th {\n",
              "        text-align: right;\n",
              "    }\n",
              "</style>\n",
              "<table border=\"1\" class=\"dataframe\">\n",
              "  <thead>\n",
              "    <tr style=\"text-align: right;\">\n",
              "      <th></th>\n",
              "      <th>class_description</th>\n",
              "    </tr>\n",
              "  </thead>\n",
              "  <tbody>\n",
              "    <tr>\n",
              "      <th>0</th>\n",
              "      <td>These classes use an aerial silk to create pos...</td>\n",
              "    </tr>\n",
              "    <tr>\n",
              "      <th>1</th>\n",
              "      <td>Relax your mind and align your body with aeria...</td>\n",
              "    </tr>\n",
              "    <tr>\n",
              "      <th>2</th>\n",
              "      <td>Aerial Yoga (Open Level) - this class is for e...</td>\n",
              "    </tr>\n",
              "    <tr>\n",
              "      <th>3</th>\n",
              "      <td>Ashtanga Yoga involves synchronization between...</td>\n",
              "    </tr>\n",
              "    <tr>\n",
              "      <th>4</th>\n",
              "      <td>Ashtanga Yoga is a systematic Vinyasa-style cl...</td>\n",
              "    </tr>\n",
              "  </tbody>\n",
              "</table>\n",
              "</div>\n",
              "    <div class=\"colab-df-buttons\">\n",
              "\n",
              "  <div class=\"colab-df-container\">\n",
              "    <button class=\"colab-df-convert\" onclick=\"convertToInteractive('df-ab6b6729-7f6b-418e-b461-b91f889138de')\"\n",
              "            title=\"Convert this dataframe to an interactive table.\"\n",
              "            style=\"display:none;\">\n",
              "\n",
              "  <svg xmlns=\"http://www.w3.org/2000/svg\" height=\"24px\" viewBox=\"0 -960 960 960\">\n",
              "    <path d=\"M120-120v-720h720v720H120Zm60-500h600v-160H180v160Zm220 220h160v-160H400v160Zm0 220h160v-160H400v160ZM180-400h160v-160H180v160Zm440 0h160v-160H620v160ZM180-180h160v-160H180v160Zm440 0h160v-160H620v160Z\"/>\n",
              "  </svg>\n",
              "    </button>\n",
              "\n",
              "  <style>\n",
              "    .colab-df-container {\n",
              "      display:flex;\n",
              "      gap: 12px;\n",
              "    }\n",
              "\n",
              "    .colab-df-convert {\n",
              "      background-color: #E8F0FE;\n",
              "      border: none;\n",
              "      border-radius: 50%;\n",
              "      cursor: pointer;\n",
              "      display: none;\n",
              "      fill: #1967D2;\n",
              "      height: 32px;\n",
              "      padding: 0 0 0 0;\n",
              "      width: 32px;\n",
              "    }\n",
              "\n",
              "    .colab-df-convert:hover {\n",
              "      background-color: #E2EBFA;\n",
              "      box-shadow: 0px 1px 2px rgba(60, 64, 67, 0.3), 0px 1px 3px 1px rgba(60, 64, 67, 0.15);\n",
              "      fill: #174EA6;\n",
              "    }\n",
              "\n",
              "    .colab-df-buttons div {\n",
              "      margin-bottom: 4px;\n",
              "    }\n",
              "\n",
              "    [theme=dark] .colab-df-convert {\n",
              "      background-color: #3B4455;\n",
              "      fill: #D2E3FC;\n",
              "    }\n",
              "\n",
              "    [theme=dark] .colab-df-convert:hover {\n",
              "      background-color: #434B5C;\n",
              "      box-shadow: 0px 1px 3px 1px rgba(0, 0, 0, 0.15);\n",
              "      filter: drop-shadow(0px 1px 2px rgba(0, 0, 0, 0.3));\n",
              "      fill: #FFFFFF;\n",
              "    }\n",
              "  </style>\n",
              "\n",
              "    <script>\n",
              "      const buttonEl =\n",
              "        document.querySelector('#df-ab6b6729-7f6b-418e-b461-b91f889138de button.colab-df-convert');\n",
              "      buttonEl.style.display =\n",
              "        google.colab.kernel.accessAllowed ? 'block' : 'none';\n",
              "\n",
              "      async function convertToInteractive(key) {\n",
              "        const element = document.querySelector('#df-ab6b6729-7f6b-418e-b461-b91f889138de');\n",
              "        const dataTable =\n",
              "          await google.colab.kernel.invokeFunction('convertToInteractive',\n",
              "                                                    [key], {});\n",
              "        if (!dataTable) return;\n",
              "\n",
              "        const docLinkHtml = 'Like what you see? Visit the ' +\n",
              "          '<a target=\"_blank\" href=https://colab.research.google.com/notebooks/data_table.ipynb>data table notebook</a>'\n",
              "          + ' to learn more about interactive tables.';\n",
              "        element.innerHTML = '';\n",
              "        dataTable['output_type'] = 'display_data';\n",
              "        await google.colab.output.renderOutput(dataTable, element);\n",
              "        const docLink = document.createElement('div');\n",
              "        docLink.innerHTML = docLinkHtml;\n",
              "        element.appendChild(docLink);\n",
              "      }\n",
              "    </script>\n",
              "  </div>\n",
              "\n",
              "\n",
              "<div id=\"df-6d998f07-d803-4b6a-9af9-6d249131fe48\">\n",
              "  <button class=\"colab-df-quickchart\" onclick=\"quickchart('df-6d998f07-d803-4b6a-9af9-6d249131fe48')\"\n",
              "            title=\"Suggest charts.\"\n",
              "            style=\"display:none;\">\n",
              "\n",
              "<svg xmlns=\"http://www.w3.org/2000/svg\" height=\"24px\"viewBox=\"0 0 24 24\"\n",
              "     width=\"24px\">\n",
              "    <g>\n",
              "        <path d=\"M19 3H5c-1.1 0-2 .9-2 2v14c0 1.1.9 2 2 2h14c1.1 0 2-.9 2-2V5c0-1.1-.9-2-2-2zM9 17H7v-7h2v7zm4 0h-2V7h2v10zm4 0h-2v-4h2v4z\"/>\n",
              "    </g>\n",
              "</svg>\n",
              "  </button>\n",
              "\n",
              "<style>\n",
              "  .colab-df-quickchart {\n",
              "      --bg-color: #E8F0FE;\n",
              "      --fill-color: #1967D2;\n",
              "      --hover-bg-color: #E2EBFA;\n",
              "      --hover-fill-color: #174EA6;\n",
              "      --disabled-fill-color: #AAA;\n",
              "      --disabled-bg-color: #DDD;\n",
              "  }\n",
              "\n",
              "  [theme=dark] .colab-df-quickchart {\n",
              "      --bg-color: #3B4455;\n",
              "      --fill-color: #D2E3FC;\n",
              "      --hover-bg-color: #434B5C;\n",
              "      --hover-fill-color: #FFFFFF;\n",
              "      --disabled-bg-color: #3B4455;\n",
              "      --disabled-fill-color: #666;\n",
              "  }\n",
              "\n",
              "  .colab-df-quickchart {\n",
              "    background-color: var(--bg-color);\n",
              "    border: none;\n",
              "    border-radius: 50%;\n",
              "    cursor: pointer;\n",
              "    display: none;\n",
              "    fill: var(--fill-color);\n",
              "    height: 32px;\n",
              "    padding: 0;\n",
              "    width: 32px;\n",
              "  }\n",
              "\n",
              "  .colab-df-quickchart:hover {\n",
              "    background-color: var(--hover-bg-color);\n",
              "    box-shadow: 0 1px 2px rgba(60, 64, 67, 0.3), 0 1px 3px 1px rgba(60, 64, 67, 0.15);\n",
              "    fill: var(--button-hover-fill-color);\n",
              "  }\n",
              "\n",
              "  .colab-df-quickchart-complete:disabled,\n",
              "  .colab-df-quickchart-complete:disabled:hover {\n",
              "    background-color: var(--disabled-bg-color);\n",
              "    fill: var(--disabled-fill-color);\n",
              "    box-shadow: none;\n",
              "  }\n",
              "\n",
              "  .colab-df-spinner {\n",
              "    border: 2px solid var(--fill-color);\n",
              "    border-color: transparent;\n",
              "    border-bottom-color: var(--fill-color);\n",
              "    animation:\n",
              "      spin 1s steps(1) infinite;\n",
              "  }\n",
              "\n",
              "  @keyframes spin {\n",
              "    0% {\n",
              "      border-color: transparent;\n",
              "      border-bottom-color: var(--fill-color);\n",
              "      border-left-color: var(--fill-color);\n",
              "    }\n",
              "    20% {\n",
              "      border-color: transparent;\n",
              "      border-left-color: var(--fill-color);\n",
              "      border-top-color: var(--fill-color);\n",
              "    }\n",
              "    30% {\n",
              "      border-color: transparent;\n",
              "      border-left-color: var(--fill-color);\n",
              "      border-top-color: var(--fill-color);\n",
              "      border-right-color: var(--fill-color);\n",
              "    }\n",
              "    40% {\n",
              "      border-color: transparent;\n",
              "      border-right-color: var(--fill-color);\n",
              "      border-top-color: var(--fill-color);\n",
              "    }\n",
              "    60% {\n",
              "      border-color: transparent;\n",
              "      border-right-color: var(--fill-color);\n",
              "    }\n",
              "    80% {\n",
              "      border-color: transparent;\n",
              "      border-right-color: var(--fill-color);\n",
              "      border-bottom-color: var(--fill-color);\n",
              "    }\n",
              "    90% {\n",
              "      border-color: transparent;\n",
              "      border-bottom-color: var(--fill-color);\n",
              "    }\n",
              "  }\n",
              "</style>\n",
              "\n",
              "  <script>\n",
              "    async function quickchart(key) {\n",
              "      const quickchartButtonEl =\n",
              "        document.querySelector('#' + key + ' button');\n",
              "      quickchartButtonEl.disabled = true;  // To prevent multiple clicks.\n",
              "      quickchartButtonEl.classList.add('colab-df-spinner');\n",
              "      try {\n",
              "        const charts = await google.colab.kernel.invokeFunction(\n",
              "            'suggestCharts', [key], {});\n",
              "      } catch (error) {\n",
              "        console.error('Error during call to suggestCharts:', error);\n",
              "      }\n",
              "      quickchartButtonEl.classList.remove('colab-df-spinner');\n",
              "      quickchartButtonEl.classList.add('colab-df-quickchart-complete');\n",
              "    }\n",
              "    (() => {\n",
              "      let quickchartButtonEl =\n",
              "        document.querySelector('#df-6d998f07-d803-4b6a-9af9-6d249131fe48 button');\n",
              "      quickchartButtonEl.style.display =\n",
              "        google.colab.kernel.accessAllowed ? 'block' : 'none';\n",
              "    })();\n",
              "  </script>\n",
              "</div>\n",
              "    </div>\n",
              "  </div>\n"
            ]
          },
          "metadata": {},
          "execution_count": 2
        }
      ]
    },
    {
      "cell_type": "code",
      "source": [
        "df_classes.describe()"
      ],
      "metadata": {
        "colab": {
          "base_uri": "https://localhost:8080/",
          "height": 264
        },
        "id": "cV2U26lEtaqn",
        "outputId": "1fcedd08-2b95-4140-c0cb-88e36c4bb2e1"
      },
      "execution_count": 3,
      "outputs": [
        {
          "output_type": "stream",
          "name": "stderr",
          "text": [
            "/usr/local/lib/python3.10/dist-packages/ipykernel/ipkernel.py:283: DeprecationWarning:\n",
            "\n",
            "`should_run_async` will not call `transform_cell` automatically in the future. Please pass the result to `transformed_cell` argument and any exception that happen during thetransform in `preprocessing_exc_tuple` in IPython 7.17 and above.\n",
            "\n"
          ]
        },
        {
          "output_type": "execute_result",
          "data": {
            "text/plain": [
              "                                        class_description\n",
              "count                                                 464\n",
              "unique                                                463\n",
              "top     In this gentle class you will truly learn what...\n",
              "freq                                                    2"
            ],
            "text/html": [
              "\n",
              "  <div id=\"df-388e78fb-0b70-4251-8f04-e619b029aa58\" class=\"colab-df-container\">\n",
              "    <div>\n",
              "<style scoped>\n",
              "    .dataframe tbody tr th:only-of-type {\n",
              "        vertical-align: middle;\n",
              "    }\n",
              "\n",
              "    .dataframe tbody tr th {\n",
              "        vertical-align: top;\n",
              "    }\n",
              "\n",
              "    .dataframe thead th {\n",
              "        text-align: right;\n",
              "    }\n",
              "</style>\n",
              "<table border=\"1\" class=\"dataframe\">\n",
              "  <thead>\n",
              "    <tr style=\"text-align: right;\">\n",
              "      <th></th>\n",
              "      <th>class_description</th>\n",
              "    </tr>\n",
              "  </thead>\n",
              "  <tbody>\n",
              "    <tr>\n",
              "      <th>count</th>\n",
              "      <td>464</td>\n",
              "    </tr>\n",
              "    <tr>\n",
              "      <th>unique</th>\n",
              "      <td>463</td>\n",
              "    </tr>\n",
              "    <tr>\n",
              "      <th>top</th>\n",
              "      <td>In this gentle class you will truly learn what...</td>\n",
              "    </tr>\n",
              "    <tr>\n",
              "      <th>freq</th>\n",
              "      <td>2</td>\n",
              "    </tr>\n",
              "  </tbody>\n",
              "</table>\n",
              "</div>\n",
              "    <div class=\"colab-df-buttons\">\n",
              "\n",
              "  <div class=\"colab-df-container\">\n",
              "    <button class=\"colab-df-convert\" onclick=\"convertToInteractive('df-388e78fb-0b70-4251-8f04-e619b029aa58')\"\n",
              "            title=\"Convert this dataframe to an interactive table.\"\n",
              "            style=\"display:none;\">\n",
              "\n",
              "  <svg xmlns=\"http://www.w3.org/2000/svg\" height=\"24px\" viewBox=\"0 -960 960 960\">\n",
              "    <path d=\"M120-120v-720h720v720H120Zm60-500h600v-160H180v160Zm220 220h160v-160H400v160Zm0 220h160v-160H400v160ZM180-400h160v-160H180v160Zm440 0h160v-160H620v160ZM180-180h160v-160H180v160Zm440 0h160v-160H620v160Z\"/>\n",
              "  </svg>\n",
              "    </button>\n",
              "\n",
              "  <style>\n",
              "    .colab-df-container {\n",
              "      display:flex;\n",
              "      gap: 12px;\n",
              "    }\n",
              "\n",
              "    .colab-df-convert {\n",
              "      background-color: #E8F0FE;\n",
              "      border: none;\n",
              "      border-radius: 50%;\n",
              "      cursor: pointer;\n",
              "      display: none;\n",
              "      fill: #1967D2;\n",
              "      height: 32px;\n",
              "      padding: 0 0 0 0;\n",
              "      width: 32px;\n",
              "    }\n",
              "\n",
              "    .colab-df-convert:hover {\n",
              "      background-color: #E2EBFA;\n",
              "      box-shadow: 0px 1px 2px rgba(60, 64, 67, 0.3), 0px 1px 3px 1px rgba(60, 64, 67, 0.15);\n",
              "      fill: #174EA6;\n",
              "    }\n",
              "\n",
              "    .colab-df-buttons div {\n",
              "      margin-bottom: 4px;\n",
              "    }\n",
              "\n",
              "    [theme=dark] .colab-df-convert {\n",
              "      background-color: #3B4455;\n",
              "      fill: #D2E3FC;\n",
              "    }\n",
              "\n",
              "    [theme=dark] .colab-df-convert:hover {\n",
              "      background-color: #434B5C;\n",
              "      box-shadow: 0px 1px 3px 1px rgba(0, 0, 0, 0.15);\n",
              "      filter: drop-shadow(0px 1px 2px rgba(0, 0, 0, 0.3));\n",
              "      fill: #FFFFFF;\n",
              "    }\n",
              "  </style>\n",
              "\n",
              "    <script>\n",
              "      const buttonEl =\n",
              "        document.querySelector('#df-388e78fb-0b70-4251-8f04-e619b029aa58 button.colab-df-convert');\n",
              "      buttonEl.style.display =\n",
              "        google.colab.kernel.accessAllowed ? 'block' : 'none';\n",
              "\n",
              "      async function convertToInteractive(key) {\n",
              "        const element = document.querySelector('#df-388e78fb-0b70-4251-8f04-e619b029aa58');\n",
              "        const dataTable =\n",
              "          await google.colab.kernel.invokeFunction('convertToInteractive',\n",
              "                                                    [key], {});\n",
              "        if (!dataTable) return;\n",
              "\n",
              "        const docLinkHtml = 'Like what you see? Visit the ' +\n",
              "          '<a target=\"_blank\" href=https://colab.research.google.com/notebooks/data_table.ipynb>data table notebook</a>'\n",
              "          + ' to learn more about interactive tables.';\n",
              "        element.innerHTML = '';\n",
              "        dataTable['output_type'] = 'display_data';\n",
              "        await google.colab.output.renderOutput(dataTable, element);\n",
              "        const docLink = document.createElement('div');\n",
              "        docLink.innerHTML = docLinkHtml;\n",
              "        element.appendChild(docLink);\n",
              "      }\n",
              "    </script>\n",
              "  </div>\n",
              "\n",
              "\n",
              "<div id=\"df-b6b82a82-ffd4-4cc5-a80f-88573352cf51\">\n",
              "  <button class=\"colab-df-quickchart\" onclick=\"quickchart('df-b6b82a82-ffd4-4cc5-a80f-88573352cf51')\"\n",
              "            title=\"Suggest charts.\"\n",
              "            style=\"display:none;\">\n",
              "\n",
              "<svg xmlns=\"http://www.w3.org/2000/svg\" height=\"24px\"viewBox=\"0 0 24 24\"\n",
              "     width=\"24px\">\n",
              "    <g>\n",
              "        <path d=\"M19 3H5c-1.1 0-2 .9-2 2v14c0 1.1.9 2 2 2h14c1.1 0 2-.9 2-2V5c0-1.1-.9-2-2-2zM9 17H7v-7h2v7zm4 0h-2V7h2v10zm4 0h-2v-4h2v4z\"/>\n",
              "    </g>\n",
              "</svg>\n",
              "  </button>\n",
              "\n",
              "<style>\n",
              "  .colab-df-quickchart {\n",
              "      --bg-color: #E8F0FE;\n",
              "      --fill-color: #1967D2;\n",
              "      --hover-bg-color: #E2EBFA;\n",
              "      --hover-fill-color: #174EA6;\n",
              "      --disabled-fill-color: #AAA;\n",
              "      --disabled-bg-color: #DDD;\n",
              "  }\n",
              "\n",
              "  [theme=dark] .colab-df-quickchart {\n",
              "      --bg-color: #3B4455;\n",
              "      --fill-color: #D2E3FC;\n",
              "      --hover-bg-color: #434B5C;\n",
              "      --hover-fill-color: #FFFFFF;\n",
              "      --disabled-bg-color: #3B4455;\n",
              "      --disabled-fill-color: #666;\n",
              "  }\n",
              "\n",
              "  .colab-df-quickchart {\n",
              "    background-color: var(--bg-color);\n",
              "    border: none;\n",
              "    border-radius: 50%;\n",
              "    cursor: pointer;\n",
              "    display: none;\n",
              "    fill: var(--fill-color);\n",
              "    height: 32px;\n",
              "    padding: 0;\n",
              "    width: 32px;\n",
              "  }\n",
              "\n",
              "  .colab-df-quickchart:hover {\n",
              "    background-color: var(--hover-bg-color);\n",
              "    box-shadow: 0 1px 2px rgba(60, 64, 67, 0.3), 0 1px 3px 1px rgba(60, 64, 67, 0.15);\n",
              "    fill: var(--button-hover-fill-color);\n",
              "  }\n",
              "\n",
              "  .colab-df-quickchart-complete:disabled,\n",
              "  .colab-df-quickchart-complete:disabled:hover {\n",
              "    background-color: var(--disabled-bg-color);\n",
              "    fill: var(--disabled-fill-color);\n",
              "    box-shadow: none;\n",
              "  }\n",
              "\n",
              "  .colab-df-spinner {\n",
              "    border: 2px solid var(--fill-color);\n",
              "    border-color: transparent;\n",
              "    border-bottom-color: var(--fill-color);\n",
              "    animation:\n",
              "      spin 1s steps(1) infinite;\n",
              "  }\n",
              "\n",
              "  @keyframes spin {\n",
              "    0% {\n",
              "      border-color: transparent;\n",
              "      border-bottom-color: var(--fill-color);\n",
              "      border-left-color: var(--fill-color);\n",
              "    }\n",
              "    20% {\n",
              "      border-color: transparent;\n",
              "      border-left-color: var(--fill-color);\n",
              "      border-top-color: var(--fill-color);\n",
              "    }\n",
              "    30% {\n",
              "      border-color: transparent;\n",
              "      border-left-color: var(--fill-color);\n",
              "      border-top-color: var(--fill-color);\n",
              "      border-right-color: var(--fill-color);\n",
              "    }\n",
              "    40% {\n",
              "      border-color: transparent;\n",
              "      border-right-color: var(--fill-color);\n",
              "      border-top-color: var(--fill-color);\n",
              "    }\n",
              "    60% {\n",
              "      border-color: transparent;\n",
              "      border-right-color: var(--fill-color);\n",
              "    }\n",
              "    80% {\n",
              "      border-color: transparent;\n",
              "      border-right-color: var(--fill-color);\n",
              "      border-bottom-color: var(--fill-color);\n",
              "    }\n",
              "    90% {\n",
              "      border-color: transparent;\n",
              "      border-bottom-color: var(--fill-color);\n",
              "    }\n",
              "  }\n",
              "</style>\n",
              "\n",
              "  <script>\n",
              "    async function quickchart(key) {\n",
              "      const quickchartButtonEl =\n",
              "        document.querySelector('#' + key + ' button');\n",
              "      quickchartButtonEl.disabled = true;  // To prevent multiple clicks.\n",
              "      quickchartButtonEl.classList.add('colab-df-spinner');\n",
              "      try {\n",
              "        const charts = await google.colab.kernel.invokeFunction(\n",
              "            'suggestCharts', [key], {});\n",
              "      } catch (error) {\n",
              "        console.error('Error during call to suggestCharts:', error);\n",
              "      }\n",
              "      quickchartButtonEl.classList.remove('colab-df-spinner');\n",
              "      quickchartButtonEl.classList.add('colab-df-quickchart-complete');\n",
              "    }\n",
              "    (() => {\n",
              "      let quickchartButtonEl =\n",
              "        document.querySelector('#df-b6b82a82-ffd4-4cc5-a80f-88573352cf51 button');\n",
              "      quickchartButtonEl.style.display =\n",
              "        google.colab.kernel.accessAllowed ? 'block' : 'none';\n",
              "    })();\n",
              "  </script>\n",
              "</div>\n",
              "    </div>\n",
              "  </div>\n"
            ]
          },
          "metadata": {},
          "execution_count": 3
        }
      ]
    },
    {
      "cell_type": "markdown",
      "source": [
        "* `class_description` - Description of the class. The column has 463 unique values (descriptions) out of 464 total. Two class descriptions for Nidra and Restorative practice class by Sury Aside studio are identical; I decided to keep them as there are different classes as defined by the studio."
      ],
      "metadata": {
        "id": "KF08rJhKtoUc"
      }
    },
    {
      "cell_type": "code",
      "source": [
        "# Word count\n",
        "df_classes['word_count']= df_classes['class_description'].apply(lambda x: len(x.strip().split()))\n",
        "\n",
        "# Unique word count\n",
        "df_classes['unique_word_count'] = df_classes['class_description'].apply(lambda x: len(set(str(x).split())))\n",
        "\n",
        "word_count(df_classes['word_count'], \"Histogram of text length distribution\", \"Number of words in a text\", \"Number of texts\", 'Class Description')"
      ],
      "metadata": {
        "colab": {
          "base_uri": "https://localhost:8080/",
          "height": 631
        },
        "id": "uxbhqTAGtonv",
        "outputId": "5c485827-a13e-403f-d557-3b41f18aae43"
      },
      "execution_count": 4,
      "outputs": [
        {
          "output_type": "stream",
          "name": "stderr",
          "text": [
            "/usr/local/lib/python3.10/dist-packages/ipykernel/ipkernel.py:283: DeprecationWarning:\n",
            "\n",
            "`should_run_async` will not call `transform_cell` automatically in the future. Please pass the result to `transformed_cell` argument and any exception that happen during thetransform in `preprocessing_exc_tuple` in IPython 7.17 and above.\n",
            "\n"
          ]
        },
        {
          "output_type": "stream",
          "name": "stdout",
          "text": [
            "The shortest Class Description has 10 words in total\n",
            "The longest Class Description has 755 words in total\n",
            "The mean Class Description length is 73 words\n",
            "The median Class Description length is 59 words\n"
          ]
        },
        {
          "output_type": "display_data",
          "data": {
            "text/plain": [
              "<Figure size 640x480 with 1 Axes>"
            ],
            "image/png": "[encoded data removed]"
          },
          "metadata": {}
        }
      ]
    },
    {
      "cell_type": "code",
      "source": [
        "df_classes.drop(columns=['word_count', 'unique_word_count'], inplace=True)"
      ],
      "metadata": {
        "id": "-KG9yezetsx3",
        "colab": {
          "base_uri": "https://localhost:8080/"
        },
        "outputId": "a6feafe3-cb95-4b45-ea0d-386fd314d6cb"
      },
      "execution_count": 5,
      "outputs": [
        {
          "output_type": "stream",
          "name": "stderr",
          "text": [
            "/usr/local/lib/python3.10/dist-packages/ipykernel/ipkernel.py:283: DeprecationWarning:\n",
            "\n",
            "`should_run_async` will not call `transform_cell` automatically in the future. Please pass the result to `transformed_cell` argument and any exception that happen during thetransform in `preprocessing_exc_tuple` in IPython 7.17 and above.\n",
            "\n"
          ]
        }
      ]
    },
    {
      "cell_type": "markdown",
      "source": [
        "### Text data pre-processing"
      ],
      "metadata": {
        "id": "LKqZzr5tt4Ko"
      }
    },
    {
      "cell_type": "markdown",
      "source": [
        "Load and prepare stopwords sets"
      ],
      "metadata": {
        "id": "Cgepy75ezHNs"
      }
    },
    {
      "cell_type": "code",
      "source": [
        "stop_words_styles_df = pd.read_csv('data/stopwords.csv', usecols=['yoga_related'])\n",
        "stop_words_styles = set(stop_words_styles_df['yoga_related'])\n",
        "stop_words_general_df = pd.read_csv('data/stopwords.csv', usecols=['org_details', 'irr_verbs', 'city_name', 'common_words', 'other'])\n",
        "stop_words_general = set(stop_words_general_df.values.ravel().tolist())\n",
        "\n",
        "stop_set_no_styles = stop_words.union(stop_words_general)\n",
        "stop_set_with_styles = stop_set_no_styles.union(stop_words_styles)\n",
        "\n",
        "cleaned_text_with_styles = preprocess_text(df_classes[\"class_description\"], stop_set=stop_set_no_styles)\n",
        "cleaned_text_no_styles = preprocess_text(df_classes[\"class_description\"], stop_set=stop_set_with_styles)"
      ],
      "metadata": {
        "colab": {
          "base_uri": "https://localhost:8080/"
        },
        "id": "kIiFV27jts0T",
        "outputId": "d01e8513-fce9-4fb9-c3a3-8e79d5fb6f4e"
      },
      "execution_count": 6,
      "outputs": [
        {
          "output_type": "stream",
          "name": "stderr",
          "text": [
            "/usr/local/lib/python3.10/dist-packages/ipykernel/ipkernel.py:283: DeprecationWarning:\n",
            "\n",
            "`should_run_async` will not call `transform_cell` automatically in the future. Please pass the result to `transformed_cell` argument and any exception that happen during thetransform in `preprocessing_exc_tuple` in IPython 7.17 and above.\n",
            "\n"
          ]
        }
      ]
    },
    {
      "cell_type": "markdown",
      "source": [
        "Normalize texts"
      ],
      "metadata": {
        "id": "oDeqFORzzIyG"
      }
    },
    {
      "cell_type": "code",
      "source": [
        "df_classes[\"cleaned_text_with_styles\"] = cleaned_text_with_styles\n",
        "df_classes[\"cleaned_text_no_styles\"] = cleaned_text_no_styles\n",
        "\n",
        "df_classes.head(3)"
      ],
      "metadata": {
        "colab": {
          "base_uri": "https://localhost:8080/",
          "height": 233
        },
        "id": "NqAyXCWEt6aa",
        "outputId": "adb945d0-5a7e-4a05-808b-8e124cbe82ab"
      },
      "execution_count": 7,
      "outputs": [
        {
          "output_type": "stream",
          "name": "stderr",
          "text": [
            "/usr/local/lib/python3.10/dist-packages/ipykernel/ipkernel.py:283: DeprecationWarning:\n",
            "\n",
            "`should_run_async` will not call `transform_cell` automatically in the future. Please pass the result to `transformed_cell` argument and any exception that happen during thetransform in `preprocessing_exc_tuple` in IPython 7.17 and above.\n",
            "\n"
          ]
        },
        {
          "output_type": "execute_result",
          "data": {
            "text/plain": [
              "                                   class_description  \\\n",
              "0  These classes use an aerial silk to create pos...   \n",
              "1  Relax your mind and align your body with aeria...   \n",
              "2  Aerial Yoga (Open Level) - this class is for e...   \n",
              "\n",
              "                            cleaned_text_with_styles  \\\n",
              "0  use aerial silk create less gravitational pull...   \n",
              "1  relax mind align body aerial yoga gently guide...   \n",
              "2  aerial yoga exist yoga practitioners aerial ex...   \n",
              "\n",
              "                              cleaned_text_no_styles  \n",
              "0  use silk create less gravitational pull body c...  \n",
              "1  relax mind align body gently guide elevate ins...  \n",
              "2  exist practitioners experience require best ma...  "
            ],
            "text/html": [
              "\n",
              "  <div id=\"df-3ded9344-a00a-4d32-9439-7cd73ae59263\" class=\"colab-df-container\">\n",
              "    <div>\n",
              "<style scoped>\n",
              "    .dataframe tbody tr th:only-of-type {\n",
              "        vertical-align: middle;\n",
              "    }\n",
              "\n",
              "    .dataframe tbody tr th {\n",
              "        vertical-align: top;\n",
              "    }\n",
              "\n",
              "    .dataframe thead th {\n",
              "        text-align: right;\n",
              "    }\n",
              "</style>\n",
              "<table border=\"1\" class=\"dataframe\">\n",
              "  <thead>\n",
              "    <tr style=\"text-align: right;\">\n",
              "      <th></th>\n",
              "      <th>class_description</th>\n",
              "      <th>cleaned_text_with_styles</th>\n",
              "      <th>cleaned_text_no_styles</th>\n",
              "    </tr>\n",
              "  </thead>\n",
              "  <tbody>\n",
              "    <tr>\n",
              "      <th>0</th>\n",
              "      <td>These classes use an aerial silk to create pos...</td>\n",
              "      <td>use aerial silk create less gravitational pull...</td>\n",
              "      <td>use silk create less gravitational pull body c...</td>\n",
              "    </tr>\n",
              "    <tr>\n",
              "      <th>1</th>\n",
              "      <td>Relax your mind and align your body with aeria...</td>\n",
              "      <td>relax mind align body aerial yoga gently guide...</td>\n",
              "      <td>relax mind align body gently guide elevate ins...</td>\n",
              "    </tr>\n",
              "    <tr>\n",
              "      <th>2</th>\n",
              "      <td>Aerial Yoga (Open Level) - this class is for e...</td>\n",
              "      <td>aerial yoga exist yoga practitioners aerial ex...</td>\n",
              "      <td>exist practitioners experience require best ma...</td>\n",
              "    </tr>\n",
              "  </tbody>\n",
              "</table>\n",
              "</div>\n",
              "    <div class=\"colab-df-buttons\">\n",
              "\n",
              "  <div class=\"colab-df-container\">\n",
              "    <button class=\"colab-df-convert\" onclick=\"convertToInteractive('df-3ded9344-a00a-4d32-9439-7cd73ae59263')\"\n",
              "            title=\"Convert this dataframe to an interactive table.\"\n",
              "            style=\"display:none;\">\n",
              "\n",
              "  <svg xmlns=\"http://www.w3.org/2000/svg\" height=\"24px\" viewBox=\"0 -960 960 960\">\n",
              "    <path d=\"M120-120v-720h720v720H120Zm60-500h600v-160H180v160Zm220 220h160v-160H400v160Zm0 220h160v-160H400v160ZM180-400h160v-160H180v160Zm440 0h160v-160H620v160ZM180-180h160v-160H180v160Zm440 0h160v-160H620v160Z\"/>\n",
              "  </svg>\n",
              "    </button>\n",
              "\n",
              "  <style>\n",
              "    .colab-df-container {\n",
              "      display:flex;\n",
              "      gap: 12px;\n",
              "    }\n",
              "\n",
              "    .colab-df-convert {\n",
              "      background-color: #E8F0FE;\n",
              "      border: none;\n",
              "      border-radius: 50%;\n",
              "      cursor: pointer;\n",
              "      display: none;\n",
              "      fill: #1967D2;\n",
              "      height: 32px;\n",
              "      padding: 0 0 0 0;\n",
              "      width: 32px;\n",
              "    }\n",
              "\n",
              "    .colab-df-convert:hover {\n",
              "      background-color: #E2EBFA;\n",
              "      box-shadow: 0px 1px 2px rgba(60, 64, 67, 0.3), 0px 1px 3px 1px rgba(60, 64, 67, 0.15);\n",
              "      fill: #174EA6;\n",
              "    }\n",
              "\n",
              "    .colab-df-buttons div {\n",
              "      margin-bottom: 4px;\n",
              "    }\n",
              "\n",
              "    [theme=dark] .colab-df-convert {\n",
              "      background-color: #3B4455;\n",
              "      fill: #D2E3FC;\n",
              "    }\n",
              "\n",
              "    [theme=dark] .colab-df-convert:hover {\n",
              "      background-color: #434B5C;\n",
              "      box-shadow: 0px 1px 3px 1px rgba(0, 0, 0, 0.15);\n",
              "      filter: drop-shadow(0px 1px 2px rgba(0, 0, 0, 0.3));\n",
              "      fill: #FFFFFF;\n",
              "    }\n",
              "  </style>\n",
              "\n",
              "    <script>\n",
              "      const buttonEl =\n",
              "        document.querySelector('#df-3ded9344-a00a-4d32-9439-7cd73ae59263 button.colab-df-convert');\n",
              "      buttonEl.style.display =\n",
              "        google.colab.kernel.accessAllowed ? 'block' : 'none';\n",
              "\n",
              "      async function convertToInteractive(key) {\n",
              "        const element = document.querySelector('#df-3ded9344-a00a-4d32-9439-7cd73ae59263');\n",
              "        const dataTable =\n",
              "          await google.colab.kernel.invokeFunction('convertToInteractive',\n",
              "                                                    [key], {});\n",
              "        if (!dataTable) return;\n",
              "\n",
              "        const docLinkHtml = 'Like what you see? Visit the ' +\n",
              "          '<a target=\"_blank\" href=https://colab.research.google.com/notebooks/data_table.ipynb>data table notebook</a>'\n",
              "          + ' to learn more about interactive tables.';\n",
              "        element.innerHTML = '';\n",
              "        dataTable['output_type'] = 'display_data';\n",
              "        await google.colab.output.renderOutput(dataTable, element);\n",
              "        const docLink = document.createElement('div');\n",
              "        docLink.innerHTML = docLinkHtml;\n",
              "        element.appendChild(docLink);\n",
              "      }\n",
              "    </script>\n",
              "  </div>\n",
              "\n",
              "\n",
              "<div id=\"df-c398d63d-d895-4e43-9588-9fa9eab5cd8d\">\n",
              "  <button class=\"colab-df-quickchart\" onclick=\"quickchart('df-c398d63d-d895-4e43-9588-9fa9eab5cd8d')\"\n",
              "            title=\"Suggest charts.\"\n",
              "            style=\"display:none;\">\n",
              "\n",
              "<svg xmlns=\"http://www.w3.org/2000/svg\" height=\"24px\"viewBox=\"0 0 24 24\"\n",
              "     width=\"24px\">\n",
              "    <g>\n",
              "        <path d=\"M19 3H5c-1.1 0-2 .9-2 2v14c0 1.1.9 2 2 2h14c1.1 0 2-.9 2-2V5c0-1.1-.9-2-2-2zM9 17H7v-7h2v7zm4 0h-2V7h2v10zm4 0h-2v-4h2v4z\"/>\n",
              "    </g>\n",
              "</svg>\n",
              "  </button>\n",
              "\n",
              "<style>\n",
              "  .colab-df-quickchart {\n",
              "      --bg-color: #E8F0FE;\n",
              "      --fill-color: #1967D2;\n",
              "      --hover-bg-color: #E2EBFA;\n",
              "      --hover-fill-color: #174EA6;\n",
              "      --disabled-fill-color: #AAA;\n",
              "      --disabled-bg-color: #DDD;\n",
              "  }\n",
              "\n",
              "  [theme=dark] .colab-df-quickchart {\n",
              "      --bg-color: #3B4455;\n",
              "      --fill-color: #D2E3FC;\n",
              "      --hover-bg-color: #434B5C;\n",
              "      --hover-fill-color: #FFFFFF;\n",
              "      --disabled-bg-color: #3B4455;\n",
              "      --disabled-fill-color: #666;\n",
              "  }\n",
              "\n",
              "  .colab-df-quickchart {\n",
              "    background-color: var(--bg-color);\n",
              "    border: none;\n",
              "    border-radius: 50%;\n",
              "    cursor: pointer;\n",
              "    display: none;\n",
              "    fill: var(--fill-color);\n",
              "    height: 32px;\n",
              "    padding: 0;\n",
              "    width: 32px;\n",
              "  }\n",
              "\n",
              "  .colab-df-quickchart:hover {\n",
              "    background-color: var(--hover-bg-color);\n",
              "    box-shadow: 0 1px 2px rgba(60, 64, 67, 0.3), 0 1px 3px 1px rgba(60, 64, 67, 0.15);\n",
              "    fill: var(--button-hover-fill-color);\n",
              "  }\n",
              "\n",
              "  .colab-df-quickchart-complete:disabled,\n",
              "  .colab-df-quickchart-complete:disabled:hover {\n",
              "    background-color: var(--disabled-bg-color);\n",
              "    fill: var(--disabled-fill-color);\n",
              "    box-shadow: none;\n",
              "  }\n",
              "\n",
              "  .colab-df-spinner {\n",
              "    border: 2px solid var(--fill-color);\n",
              "    border-color: transparent;\n",
              "    border-bottom-color: var(--fill-color);\n",
              "    animation:\n",
              "      spin 1s steps(1) infinite;\n",
              "  }\n",
              "\n",
              "  @keyframes spin {\n",
              "    0% {\n",
              "      border-color: transparent;\n",
              "      border-bottom-color: var(--fill-color);\n",
              "      border-left-color: var(--fill-color);\n",
              "    }\n",
              "    20% {\n",
              "      border-color: transparent;\n",
              "      border-left-color: var(--fill-color);\n",
              "      border-top-color: var(--fill-color);\n",
              "    }\n",
              "    30% {\n",
              "      border-color: transparent;\n",
              "      border-left-color: var(--fill-color);\n",
              "      border-top-color: var(--fill-color);\n",
              "      border-right-color: var(--fill-color);\n",
              "    }\n",
              "    40% {\n",
              "      border-color: transparent;\n",
              "      border-right-color: var(--fill-color);\n",
              "      border-top-color: var(--fill-color);\n",
              "    }\n",
              "    60% {\n",
              "      border-color: transparent;\n",
              "      border-right-color: var(--fill-color);\n",
              "    }\n",
              "    80% {\n",
              "      border-color: transparent;\n",
              "      border-right-color: var(--fill-color);\n",
              "      border-bottom-color: var(--fill-color);\n",
              "    }\n",
              "    90% {\n",
              "      border-color: transparent;\n",
              "      border-bottom-color: var(--fill-color);\n",
              "    }\n",
              "  }\n",
              "</style>\n",
              "\n",
              "  <script>\n",
              "    async function quickchart(key) {\n",
              "      const quickchartButtonEl =\n",
              "        document.querySelector('#' + key + ' button');\n",
              "      quickchartButtonEl.disabled = true;  // To prevent multiple clicks.\n",
              "      quickchartButtonEl.classList.add('colab-df-spinner');\n",
              "      try {\n",
              "        const charts = await google.colab.kernel.invokeFunction(\n",
              "            'suggestCharts', [key], {});\n",
              "      } catch (error) {\n",
              "        console.error('Error during call to suggestCharts:', error);\n",
              "      }\n",
              "      quickchartButtonEl.classList.remove('colab-df-spinner');\n",
              "      quickchartButtonEl.classList.add('colab-df-quickchart-complete');\n",
              "    }\n",
              "    (() => {\n",
              "      let quickchartButtonEl =\n",
              "        document.querySelector('#df-c398d63d-d895-4e43-9588-9fa9eab5cd8d button');\n",
              "      quickchartButtonEl.style.display =\n",
              "        google.colab.kernel.accessAllowed ? 'block' : 'none';\n",
              "    })();\n",
              "  </script>\n",
              "</div>\n",
              "    </div>\n",
              "  </div>\n"
            ]
          },
          "metadata": {},
          "execution_count": 7
        }
      ]
    },
    {
      "cell_type": "code",
      "source": [
        "print('Text before pre-processing:')\n",
        "print(df_classes['class_description'].iloc[-3])\n",
        "print()\n",
        "print('Text after pre-processing (without yoga words):')\n",
        "print(df_classes['cleaned_text_no_styles'].iloc[-3])\n",
        "print()\n",
        "print('Text after pre-processing (with yoga words):')\n",
        "print(df_classes['cleaned_text_with_styles'].iloc[-3])\n",
        "print()"
      ],
      "metadata": {
        "colab": {
          "base_uri": "https://localhost:8080/"
        },
        "id": "q9CHYB8it6c4",
        "outputId": "de650068-474e-4b85-c29c-96b7dbf7d4eb"
      },
      "execution_count": 8,
      "outputs": [
        {
          "output_type": "stream",
          "name": "stdout",
          "text": [
            "Text before pre-processing:\n",
            "After a long week, what could be better than a deliciously relaxing yoga sesh followed by a tasty glass of vino? It’s the perfect pairing. To start, we'll get centered and release frenetic energy with gentle movement set to a soundscape of relaxing vibes. Then we’ll take it down a notch more, winding down with some grounding seated postures. Finally, we’ll melt layers of deeply held tension, supported by bolsters, blankets, and blocks, in restorative postures that bring bliss to our urban souls! Before floating home (or wherever your weekend plans take you), you're invited to hang for a bit... Mix and mingle with the tribe, enjoying a glass of wine on the house. Here's to your health and happiness!\n",
            "\n",
            "Text after pre-processing (without yoga words):\n",
            "long week could better deliciously relax sesh follow tasty glass vino perfect pair center release frenetic energy gentle soundscape relax vibes notch wind ground seat finally melt layer deeply hold tension support bolster blanket block restorative bring bliss urban souls float home weekend plan invite hang bite mix mingle tribe enjoy glass wine house health happiness\n",
            "\n",
            "Text after pre-processing (with yoga words):\n",
            "long week could better deliciously relax yoga sesh follow tasty glass vino perfect pair center release frenetic energy gentle soundscape relax vibes notch wind ground seat finally melt layer deeply hold tension support bolster blanket block restorative bring bliss urban souls float home weekend plan invite hang bite mix mingle tribe enjoy glass wine house health happiness\n",
            "\n"
          ]
        },
        {
          "output_type": "stream",
          "name": "stderr",
          "text": [
            "/usr/local/lib/python3.10/dist-packages/ipykernel/ipkernel.py:283: DeprecationWarning:\n",
            "\n",
            "`should_run_async` will not call `transform_cell` automatically in the future. Please pass the result to `transformed_cell` argument and any exception that happen during thetransform in `preprocessing_exc_tuple` in IPython 7.17 and above.\n",
            "\n"
          ]
        }
      ]
    },
    {
      "cell_type": "markdown",
      "source": [
        "### Text data basic descriptive analysis"
      ],
      "metadata": {
        "id": "o6_cd-4LuBHu"
      }
    },
    {
      "cell_type": "markdown",
      "source": [
        "WORDCLOUD"
      ],
      "metadata": {
        "id": "3cYNJm9VuEM8"
      }
    },
    {
      "cell_type": "code",
      "source": [
        "text = \" \".join(var for var in df_classes[\"cleaned_text_no_styles\"])\n",
        "create_word_cloud(text)"
      ],
      "metadata": {
        "colab": {
          "base_uri": "https://localhost:8080/",
          "height": 526
        },
        "id": "bN94-3KAt6f8",
        "outputId": "b319350c-b2a7-4cb8-b3e7-e00a3d5693d7"
      },
      "execution_count": 9,
      "outputs": [
        {
          "output_type": "stream",
          "name": "stderr",
          "text": [
            "/usr/local/lib/python3.10/dist-packages/ipykernel/ipkernel.py:283: DeprecationWarning:\n",
            "\n",
            "`should_run_async` will not call `transform_cell` automatically in the future. Please pass the result to `transformed_cell` argument and any exception that happen during thetransform in `preprocessing_exc_tuple` in IPython 7.17 and above.\n",
            "\n",
            "/usr/local/lib/python3.10/dist-packages/wordcloud/wordcloud.py:106: MatplotlibDeprecationWarning:\n",
            "\n",
            "The get_cmap function was deprecated in Matplotlib 3.7 and will be removed two minor releases later. Use ``matplotlib.colormaps[name]`` or ``matplotlib.colormaps.get_cmap(obj)`` instead.\n",
            "\n"
          ]
        },
        {
          "output_type": "display_data",
          "data": {
            "text/plain": [
              "<Figure size 640x480 with 1 Axes>"
            ],
            "image/png": "[encoded data removed]"
          },
          "metadata": {}
        }
      ]
    },
    {
      "cell_type": "markdown",
      "source": [
        "Word cloud by styles"
      ],
      "metadata": {
        "id": "tuu5daj2uIna"
      }
    },
    {
      "cell_type": "code",
      "source": [
        "# class_styles_list = df_classes['class_style'].unique()\n",
        "\n",
        "# get_style_word_clouds(df_classes, class_styles_list)"
      ],
      "metadata": {
        "id": "sIEy35RHt6jN",
        "colab": {
          "base_uri": "https://localhost:8080/"
        },
        "outputId": "52844cfd-7e4e-400a-f4b7-9c6904c85913"
      },
      "execution_count": 10,
      "outputs": [
        {
          "output_type": "stream",
          "name": "stderr",
          "text": [
            "/usr/local/lib/python3.10/dist-packages/ipykernel/ipkernel.py:283: DeprecationWarning:\n",
            "\n",
            "`should_run_async` will not call `transform_cell` automatically in the future. Please pass the result to `transformed_cell` argument and any exception that happen during thetransform in `preprocessing_exc_tuple` in IPython 7.17 and above.\n",
            "\n"
          ]
        }
      ]
    },
    {
      "cell_type": "markdown",
      "source": [
        "NGRAMS"
      ],
      "metadata": {
        "id": "3PUAKF8duN0t"
      }
    },
    {
      "cell_type": "code",
      "source": [
        "df_unigrams = get_top_n_words(df_classes[\"cleaned_text_no_styles\"], 15)\n",
        "plot_ngrams_distribution(df_unigrams, 'unigram')"
      ],
      "metadata": {
        "colab": {
          "base_uri": "https://localhost:8080/",
          "height": 631
        },
        "id": "7F3yoKuHt6nv",
        "outputId": "eaafc55e-ef78-495d-9283-5cd73c5afb67"
      },
      "execution_count": 11,
      "outputs": [
        {
          "output_type": "stream",
          "name": "stderr",
          "text": [
            "/usr/local/lib/python3.10/dist-packages/ipykernel/ipkernel.py:283: DeprecationWarning:\n",
            "\n",
            "`should_run_async` will not call `transform_cell` automatically in the future. Please pass the result to `transformed_cell` argument and any exception that happen during thetransform in `preprocessing_exc_tuple` in IPython 7.17 and above.\n",
            "\n"
          ]
        },
        {
          "output_type": "display_data",
          "data": {
            "text/html": [
              "<html>\n",
              "<head><meta charset=\"utf-8\" /></head>\n",
              "<body>\n",
              "    <div>            <script src=\"https://cdnjs.cloudflare.com/ajax/libs/mathjax/2.7.5/MathJax.js?config=TeX-AMS-MML_SVG\"></script><script type=\"text/javascript\">if (window.MathJax && window.MathJax.Hub && window.MathJax.Hub.Config) {window.MathJax.Hub.Config({SVG: {font: \"STIX-Web\"}});}</script>                <script type=\"text/javascript\">window.PlotlyConfig = {MathJaxConfig: 'local'};</script>\n",
              "        <script charset=\"utf-8\" src=\"https://cdn.plot.ly/plotly-2.24.1.min.js\"></script>                <div id=\"94dc93c3-3e0d-4109-a92b-8dee61404c3e\" class=\"plotly-graph-div\" style=\"height:525px; width:100%;\"></div>            <script type=\"text/javascript\">                                    window.PLOTLYENV=window.PLOTLYENV || {};                                    if (document.getElementById(\"94dc93c3-3e0d-4109-a92b-8dee61404c3e\")) {                    Plotly.newPlot(                        \"94dc93c3-3e0d-4109-a92b-8dee61404c3e\",                        [{\"x\":[\"body\",\"breath\",\"mind\",\"focus\",\"balance\",\"help\",\"experience\",\"strength\",\"sequence\",\"use\",\"muscle\",\"hold\",\"feel\",\"energy\",\"deep\"],\"y\":[368,152,142,120,113,112,109,106,105,98,90,84,82,80,78],\"type\":\"bar\"}],                        {\"template\":{\"data\":{\"histogram2dcontour\":[{\"type\":\"histogram2dcontour\",\"colorbar\":{\"outlinewidth\":0,\"ticks\":\"\"},\"colorscale\":[[0.0,\"#0d0887\"],[0.1111111111111111,\"#46039f\"],[0.2222222222222222,\"#7201a8\"],[0.3333333333333333,\"#9c179e\"],[0.4444444444444444,\"#bd3786\"],[0.5555555555555556,\"#d8576b\"],[0.6666666666666666,\"#ed7953\"],[0.7777777777777778,\"#fb9f3a\"],[0.8888888888888888,\"#fdca26\"],[1.0,\"#f0f921\"]]}],\"choropleth\":[{\"type\":\"choropleth\",\"colorbar\":{\"outlinewidth\":0,\"ticks\":\"\"}}],\"histogram2d\":[{\"type\":\"histogram2d\",\"colorbar\":{\"outlinewidth\":0,\"ticks\":\"\"},\"colorscale\":[[0.0,\"#0d0887\"],[0.1111111111111111,\"#46039f\"],[0.2222222222222222,\"#7201a8\"],[0.3333333333333333,\"#9c179e\"],[0.4444444444444444,\"#bd3786\"],[0.5555555555555556,\"#d8576b\"],[0.6666666666666666,\"#ed7953\"],[0.7777777777777778,\"#fb9f3a\"],[0.8888888888888888,\"#fdca26\"],[1.0,\"#f0f921\"]]}],\"heatmap\":[{\"type\":\"heatmap\",\"colorbar\":{\"outlinewidth\":0,\"ticks\":\"\"},\"colorscale\":[[0.0,\"#0d0887\"],[0.1111111111111111,\"#46039f\"],[0.2222222222222222,\"#7201a8\"],[0.3333333333333333,\"#9c179e\"],[0.4444444444444444,\"#bd3786\"],[0.5555555555555556,\"#d8576b\"],[0.6666666666666666,\"#ed7953\"],[0.7777777777777778,\"#fb9f3a\"],[0.8888888888888888,\"#fdca26\"],[1.0,\"#f0f921\"]]}],\"heatmapgl\":[{\"type\":\"heatmapgl\",\"colorbar\":{\"outlinewidth\":0,\"ticks\":\"\"},\"colorscale\":[[0.0,\"#0d0887\"],[0.1111111111111111,\"#46039f\"],[0.2222222222222222,\"#7201a8\"],[0.3333333333333333,\"#9c179e\"],[0.4444444444444444,\"#bd3786\"],[0.5555555555555556,\"#d8576b\"],[0.6666666666666666,\"#ed7953\"],[0.7777777777777778,\"#fb9f3a\"],[0.8888888888888888,\"#fdca26\"],[1.0,\"#f0f921\"]]}],\"contourcarpet\":[{\"type\":\"contourcarpet\",\"colorbar\":{\"outlinewidth\":0,\"ticks\":\"\"}}],\"contour\":[{\"type\":\"contour\",\"colorbar\":{\"outlinewidth\":0,\"ticks\":\"\"},\"colorscale\":[[0.0,\"#0d0887\"],[0.1111111111111111,\"#46039f\"],[0.2222222222222222,\"#7201a8\"],[0.3333333333333333,\"#9c179e\"],[0.4444444444444444,\"#bd3786\"],[0.5555555555555556,\"#d8576b\"],[0.6666666666666666,\"#ed7953\"],[0.7777777777777778,\"#fb9f3a\"],[0.8888888888888888,\"#fdca26\"],[1.0,\"#f0f921\"]]}],\"surface\":[{\"type\":\"surface\",\"colorbar\":{\"outlinewidth\":0,\"ticks\":\"\"},\"colorscale\":[[0.0,\"#0d0887\"],[0.1111111111111111,\"#46039f\"],[0.2222222222222222,\"#7201a8\"],[0.3333333333333333,\"#9c179e\"],[0.4444444444444444,\"#bd3786\"],[0.5555555555555556,\"#d8576b\"],[0.6666666666666666,\"#ed7953\"],[0.7777777777777778,\"#fb9f3a\"],[0.8888888888888888,\"#fdca26\"],[1.0,\"#f0f921\"]]}],\"mesh3d\":[{\"type\":\"mesh3d\",\"colorbar\":{\"outlinewidth\":0,\"ticks\":\"\"}}],\"scatter\":[{\"fillpattern\":{\"fillmode\":\"overlay\",\"size\":10,\"solidity\":0.2},\"type\":\"scatter\"}],\"parcoords\":[{\"type\":\"parcoords\",\"line\":{\"colorbar\":{\"outlinewidth\":0,\"ticks\":\"\"}}}],\"scatterpolargl\":[{\"type\":\"scatterpolargl\",\"marker\":{\"colorbar\":{\"outlinewidth\":0,\"ticks\":\"\"}}}],\"bar\":[{\"error_x\":{\"color\":\"#2a3f5f\"},\"error_y\":{\"color\":\"#2a3f5f\"},\"marker\":{\"line\":{\"color\":\"#E5ECF6\",\"width\":0.5},\"pattern\":{\"fillmode\":\"overlay\",\"size\":10,\"solidity\":0.2}},\"type\":\"bar\"}],\"scattergeo\":[{\"type\":\"scattergeo\",\"marker\":{\"colorbar\":{\"outlinewidth\":0,\"ticks\":\"\"}}}],\"scatterpolar\":[{\"type\":\"scatterpolar\",\"marker\":{\"colorbar\":{\"outlinewidth\":0,\"ticks\":\"\"}}}],\"histogram\":[{\"marker\":{\"pattern\":{\"fillmode\":\"overlay\",\"size\":10,\"solidity\":0.2}},\"type\":\"histogram\"}],\"scattergl\":[{\"type\":\"scattergl\",\"marker\":{\"colorbar\":{\"outlinewidth\":0,\"ticks\":\"\"}}}],\"scatter3d\":[{\"type\":\"scatter3d\",\"line\":{\"colorbar\":{\"outlinewidth\":0,\"ticks\":\"\"}},\"marker\":{\"colorbar\":{\"outlinewidth\":0,\"ticks\":\"\"}}}],\"scattermapbox\":[{\"type\":\"scattermapbox\",\"marker\":{\"colorbar\":{\"outlinewidth\":0,\"ticks\":\"\"}}}],\"scatterternary\":[{\"type\":\"scatterternary\",\"marker\":{\"colorbar\":{\"outlinewidth\":0,\"ticks\":\"\"}}}],\"scattercarpet\":[{\"type\":\"scattercarpet\",\"marker\":{\"colorbar\":{\"outlinewidth\":0,\"ticks\":\"\"}}}],\"carpet\":[{\"aaxis\":{\"endlinecolor\":\"#2a3f5f\",\"gridcolor\":\"white\",\"linecolor\":\"white\",\"minorgridcolor\":\"white\",\"startlinecolor\":\"#2a3f5f\"},\"baxis\":{\"endlinecolor\":\"#2a3f5f\",\"gridcolor\":\"white\",\"linecolor\":\"white\",\"minorgridcolor\":\"white\",\"startlinecolor\":\"#2a3f5f\"},\"type\":\"carpet\"}],\"table\":[{\"cells\":{\"fill\":{\"color\":\"#EBF0F8\"},\"line\":{\"color\":\"white\"}},\"header\":{\"fill\":{\"color\":\"#C8D4E3\"},\"line\":{\"color\":\"white\"}},\"type\":\"table\"}],\"barpolar\":[{\"marker\":{\"line\":{\"color\":\"#E5ECF6\",\"width\":0.5},\"pattern\":{\"fillmode\":\"overlay\",\"size\":10,\"solidity\":0.2}},\"type\":\"barpolar\"}],\"pie\":[{\"automargin\":true,\"type\":\"pie\"}]},\"layout\":{\"autotypenumbers\":\"strict\",\"colorway\":[\"#636efa\",\"#EF553B\",\"#00cc96\",\"#ab63fa\",\"#FFA15A\",\"#19d3f3\",\"#FF6692\",\"#B6E880\",\"#FF97FF\",\"#FECB52\"],\"font\":{\"color\":\"#2a3f5f\"},\"hovermode\":\"closest\",\"hoverlabel\":{\"align\":\"left\"},\"paper_bgcolor\":\"white\",\"plot_bgcolor\":\"#E5ECF6\",\"polar\":{\"bgcolor\":\"#E5ECF6\",\"angularaxis\":{\"gridcolor\":\"white\",\"linecolor\":\"white\",\"ticks\":\"\"},\"radialaxis\":{\"gridcolor\":\"white\",\"linecolor\":\"white\",\"ticks\":\"\"}},\"ternary\":{\"bgcolor\":\"#E5ECF6\",\"aaxis\":{\"gridcolor\":\"white\",\"linecolor\":\"white\",\"ticks\":\"\"},\"baxis\":{\"gridcolor\":\"white\",\"linecolor\":\"white\",\"ticks\":\"\"},\"caxis\":{\"gridcolor\":\"white\",\"linecolor\":\"white\",\"ticks\":\"\"}},\"coloraxis\":{\"colorbar\":{\"outlinewidth\":0,\"ticks\":\"\"}},\"colorscale\":{\"sequential\":[[0.0,\"#0d0887\"],[0.1111111111111111,\"#46039f\"],[0.2222222222222222,\"#7201a8\"],[0.3333333333333333,\"#9c179e\"],[0.4444444444444444,\"#bd3786\"],[0.5555555555555556,\"#d8576b\"],[0.6666666666666666,\"#ed7953\"],[0.7777777777777778,\"#fb9f3a\"],[0.8888888888888888,\"#fdca26\"],[1.0,\"#f0f921\"]],\"sequentialminus\":[[0.0,\"#0d0887\"],[0.1111111111111111,\"#46039f\"],[0.2222222222222222,\"#7201a8\"],[0.3333333333333333,\"#9c179e\"],[0.4444444444444444,\"#bd3786\"],[0.5555555555555556,\"#d8576b\"],[0.6666666666666666,\"#ed7953\"],[0.7777777777777778,\"#fb9f3a\"],[0.8888888888888888,\"#fdca26\"],[1.0,\"#f0f921\"]],\"diverging\":[[0,\"#8e0152\"],[0.1,\"#c51b7d\"],[0.2,\"#de77ae\"],[0.3,\"#f1b6da\"],[0.4,\"#fde0ef\"],[0.5,\"#f7f7f7\"],[0.6,\"#e6f5d0\"],[0.7,\"#b8e186\"],[0.8,\"#7fbc41\"],[0.9,\"#4d9221\"],[1,\"#276419\"]]},\"xaxis\":{\"gridcolor\":\"white\",\"linecolor\":\"white\",\"ticks\":\"\",\"title\":{\"standoff\":15},\"zerolinecolor\":\"white\",\"automargin\":true,\"zerolinewidth\":2},\"yaxis\":{\"gridcolor\":\"white\",\"linecolor\":\"white\",\"ticks\":\"\",\"title\":{\"standoff\":15},\"zerolinecolor\":\"white\",\"automargin\":true,\"zerolinewidth\":2},\"scene\":{\"xaxis\":{\"backgroundcolor\":\"#E5ECF6\",\"gridcolor\":\"white\",\"linecolor\":\"white\",\"showbackground\":true,\"ticks\":\"\",\"zerolinecolor\":\"white\",\"gridwidth\":2},\"yaxis\":{\"backgroundcolor\":\"#E5ECF6\",\"gridcolor\":\"white\",\"linecolor\":\"white\",\"showbackground\":true,\"ticks\":\"\",\"zerolinecolor\":\"white\",\"gridwidth\":2},\"zaxis\":{\"backgroundcolor\":\"#E5ECF6\",\"gridcolor\":\"white\",\"linecolor\":\"white\",\"showbackground\":true,\"ticks\":\"\",\"zerolinecolor\":\"white\",\"gridwidth\":2}},\"shapedefaults\":{\"line\":{\"color\":\"#2a3f5f\"}},\"annotationdefaults\":{\"arrowcolor\":\"#2a3f5f\",\"arrowhead\":0,\"arrowwidth\":1},\"geo\":{\"bgcolor\":\"white\",\"landcolor\":\"#E5ECF6\",\"subunitcolor\":\"white\",\"showland\":true,\"showlakes\":true,\"lakecolor\":\"white\"},\"title\":{\"x\":0.05},\"mapbox\":{\"style\":\"light\"}}},\"title\":{\"text\":\"Top 15 unigram in the corpus after pre-processing\"}},                        {\"responsive\": true}                    ).then(function(){\n",
              "                            \n",
              "var gd = document.getElementById('94dc93c3-3e0d-4109-a92b-8dee61404c3e');\n",
              "var x = new MutationObserver(function (mutations, observer) {{\n",
              "        var display = window.getComputedStyle(gd).display;\n",
              "        if (!display || display === 'none') {{\n",
              "            console.log([gd, 'removed!']);\n",
              "            Plotly.purge(gd);\n",
              "            observer.disconnect();\n",
              "        }}\n",
              "}});\n",
              "\n",
              "// Listen for the removal of the full notebook cells\n",
              "var notebookContainer = gd.closest('#notebook-container');\n",
              "if (notebookContainer) {{\n",
              "    x.observe(notebookContainer, {childList: true});\n",
              "}}\n",
              "\n",
              "// Listen for the clearing of the current output cell\n",
              "var outputEl = gd.closest('.output');\n",
              "if (outputEl) {{\n",
              "    x.observe(outputEl, {childList: true});\n",
              "}}\n",
              "\n",
              "                        })                };                            </script>        </div>\n",
              "</body>\n",
              "</html>"
            ]
          },
          "metadata": {}
        }
      ]
    },
    {
      "cell_type": "markdown",
      "source": [
        "<figure>\n",
        "<center>\n",
        "<img src='https://drive.google.com/uc?id=1oykWYpx7RlOELrH_kkJsIm1PTZYNnQhk'/>\n",
        "</center>\n",
        "</figure>\n"
      ],
      "metadata": {
        "id": "vLQTFwWlquCR"
      }
    },
    {
      "cell_type": "code",
      "source": [
        "df_bigrams = get_top_n_bigram(df_classes[\"cleaned_text_no_styles\"], 15)\n",
        "plot_ngrams_distribution(df_bigrams, 'bigram')"
      ],
      "metadata": {
        "colab": {
          "base_uri": "https://localhost:8080/",
          "height": 631
        },
        "id": "nHdg99qYts3C",
        "outputId": "e1744163-19d6-4ffc-e570-f297df0d0d5f"
      },
      "execution_count": 12,
      "outputs": [
        {
          "output_type": "stream",
          "name": "stderr",
          "text": [
            "/usr/local/lib/python3.10/dist-packages/ipykernel/ipkernel.py:283: DeprecationWarning:\n",
            "\n",
            "`should_run_async` will not call `transform_cell` automatically in the future. Please pass the result to `transformed_cell` argument and any exception that happen during thetransform in `preprocessing_exc_tuple` in IPython 7.17 and above.\n",
            "\n"
          ]
        },
        {
          "output_type": "display_data",
          "data": {
            "text/html": [
              "<html>\n",
              "<head><meta charset=\"utf-8\" /></head>\n",
              "<body>\n",
              "    <div>            <script src=\"https://cdnjs.cloudflare.com/ajax/libs/mathjax/2.7.5/MathJax.js?config=TeX-AMS-MML_SVG\"></script><script type=\"text/javascript\">if (window.MathJax && window.MathJax.Hub && window.MathJax.Hub.Config) {window.MathJax.Hub.Config({SVG: {font: \"STIX-Web\"}});}</script>                <script type=\"text/javascript\">window.PlotlyConfig = {MathJaxConfig: 'local'};</script>\n",
              "        <script charset=\"utf-8\" src=\"https://cdn.plot.ly/plotly-2.24.1.min.js\"></script>                <div id=\"289e03a7-0afa-4b59-aec5-4dac0788d9fe\" class=\"plotly-graph-div\" style=\"height:525px; width:100%;\"></div>            <script type=\"text/javascript\">                                    window.PLOTLYENV=window.PLOTLYENV || {};                                    if (document.getElementById(\"289e03a7-0afa-4b59-aec5-4dac0788d9fe\")) {                    Plotly.newPlot(                        \"289e03a7-0afa-4b59-aec5-4dac0788d9fe\",                        [{\"x\":[\"mind body\",\"body mind\",\"strength flexibility\",\"build strength\",\"connective tissue\",\"leave feel\",\"arm balance\",\"use prop\",\"high intensity\",\"deep relaxation\",\"long hold\",\"urban sadhu\",\"longer hold\",\"release tension\",\"breath body\"],\"y\":[40,37,28,24,20,17,17,15,15,14,14,13,12,11,11],\"type\":\"bar\"}],                        {\"template\":{\"data\":{\"histogram2dcontour\":[{\"type\":\"histogram2dcontour\",\"colorbar\":{\"outlinewidth\":0,\"ticks\":\"\"},\"colorscale\":[[0.0,\"#0d0887\"],[0.1111111111111111,\"#46039f\"],[0.2222222222222222,\"#7201a8\"],[0.3333333333333333,\"#9c179e\"],[0.4444444444444444,\"#bd3786\"],[0.5555555555555556,\"#d8576b\"],[0.6666666666666666,\"#ed7953\"],[0.7777777777777778,\"#fb9f3a\"],[0.8888888888888888,\"#fdca26\"],[1.0,\"#f0f921\"]]}],\"choropleth\":[{\"type\":\"choropleth\",\"colorbar\":{\"outlinewidth\":0,\"ticks\":\"\"}}],\"histogram2d\":[{\"type\":\"histogram2d\",\"colorbar\":{\"outlinewidth\":0,\"ticks\":\"\"},\"colorscale\":[[0.0,\"#0d0887\"],[0.1111111111111111,\"#46039f\"],[0.2222222222222222,\"#7201a8\"],[0.3333333333333333,\"#9c179e\"],[0.4444444444444444,\"#bd3786\"],[0.5555555555555556,\"#d8576b\"],[0.6666666666666666,\"#ed7953\"],[0.7777777777777778,\"#fb9f3a\"],[0.8888888888888888,\"#fdca26\"],[1.0,\"#f0f921\"]]}],\"heatmap\":[{\"type\":\"heatmap\",\"colorbar\":{\"outlinewidth\":0,\"ticks\":\"\"},\"colorscale\":[[0.0,\"#0d0887\"],[0.1111111111111111,\"#46039f\"],[0.2222222222222222,\"#7201a8\"],[0.3333333333333333,\"#9c179e\"],[0.4444444444444444,\"#bd3786\"],[0.5555555555555556,\"#d8576b\"],[0.6666666666666666,\"#ed7953\"],[0.7777777777777778,\"#fb9f3a\"],[0.8888888888888888,\"#fdca26\"],[1.0,\"#f0f921\"]]}],\"heatmapgl\":[{\"type\":\"heatmapgl\",\"colorbar\":{\"outlinewidth\":0,\"ticks\":\"\"},\"colorscale\":[[0.0,\"#0d0887\"],[0.1111111111111111,\"#46039f\"],[0.2222222222222222,\"#7201a8\"],[0.3333333333333333,\"#9c179e\"],[0.4444444444444444,\"#bd3786\"],[0.5555555555555556,\"#d8576b\"],[0.6666666666666666,\"#ed7953\"],[0.7777777777777778,\"#fb9f3a\"],[0.8888888888888888,\"#fdca26\"],[1.0,\"#f0f921\"]]}],\"contourcarpet\":[{\"type\":\"contourcarpet\",\"colorbar\":{\"outlinewidth\":0,\"ticks\":\"\"}}],\"contour\":[{\"type\":\"contour\",\"colorbar\":{\"outlinewidth\":0,\"ticks\":\"\"},\"colorscale\":[[0.0,\"#0d0887\"],[0.1111111111111111,\"#46039f\"],[0.2222222222222222,\"#7201a8\"],[0.3333333333333333,\"#9c179e\"],[0.4444444444444444,\"#bd3786\"],[0.5555555555555556,\"#d8576b\"],[0.6666666666666666,\"#ed7953\"],[0.7777777777777778,\"#fb9f3a\"],[0.8888888888888888,\"#fdca26\"],[1.0,\"#f0f921\"]]}],\"surface\":[{\"type\":\"surface\",\"colorbar\":{\"outlinewidth\":0,\"ticks\":\"\"},\"colorscale\":[[0.0,\"#0d0887\"],[0.1111111111111111,\"#46039f\"],[0.2222222222222222,\"#7201a8\"],[0.3333333333333333,\"#9c179e\"],[0.4444444444444444,\"#bd3786\"],[0.5555555555555556,\"#d8576b\"],[0.6666666666666666,\"#ed7953\"],[0.7777777777777778,\"#fb9f3a\"],[0.8888888888888888,\"#fdca26\"],[1.0,\"#f0f921\"]]}],\"mesh3d\":[{\"type\":\"mesh3d\",\"colorbar\":{\"outlinewidth\":0,\"ticks\":\"\"}}],\"scatter\":[{\"fillpattern\":{\"fillmode\":\"overlay\",\"size\":10,\"solidity\":0.2},\"type\":\"scatter\"}],\"parcoords\":[{\"type\":\"parcoords\",\"line\":{\"colorbar\":{\"outlinewidth\":0,\"ticks\":\"\"}}}],\"scatterpolargl\":[{\"type\":\"scatterpolargl\",\"marker\":{\"colorbar\":{\"outlinewidth\":0,\"ticks\":\"\"}}}],\"bar\":[{\"error_x\":{\"color\":\"#2a3f5f\"},\"error_y\":{\"color\":\"#2a3f5f\"},\"marker\":{\"line\":{\"color\":\"#E5ECF6\",\"width\":0.5},\"pattern\":{\"fillmode\":\"overlay\",\"size\":10,\"solidity\":0.2}},\"type\":\"bar\"}],\"scattergeo\":[{\"type\":\"scattergeo\",\"marker\":{\"colorbar\":{\"outlinewidth\":0,\"ticks\":\"\"}}}],\"scatterpolar\":[{\"type\":\"scatterpolar\",\"marker\":{\"colorbar\":{\"outlinewidth\":0,\"ticks\":\"\"}}}],\"histogram\":[{\"marker\":{\"pattern\":{\"fillmode\":\"overlay\",\"size\":10,\"solidity\":0.2}},\"type\":\"histogram\"}],\"scattergl\":[{\"type\":\"scattergl\",\"marker\":{\"colorbar\":{\"outlinewidth\":0,\"ticks\":\"\"}}}],\"scatter3d\":[{\"type\":\"scatter3d\",\"line\":{\"colorbar\":{\"outlinewidth\":0,\"ticks\":\"\"}},\"marker\":{\"colorbar\":{\"outlinewidth\":0,\"ticks\":\"\"}}}],\"scattermapbox\":[{\"type\":\"scattermapbox\",\"marker\":{\"colorbar\":{\"outlinewidth\":0,\"ticks\":\"\"}}}],\"scatterternary\":[{\"type\":\"scatterternary\",\"marker\":{\"colorbar\":{\"outlinewidth\":0,\"ticks\":\"\"}}}],\"scattercarpet\":[{\"type\":\"scattercarpet\",\"marker\":{\"colorbar\":{\"outlinewidth\":0,\"ticks\":\"\"}}}],\"carpet\":[{\"aaxis\":{\"endlinecolor\":\"#2a3f5f\",\"gridcolor\":\"white\",\"linecolor\":\"white\",\"minorgridcolor\":\"white\",\"startlinecolor\":\"#2a3f5f\"},\"baxis\":{\"endlinecolor\":\"#2a3f5f\",\"gridcolor\":\"white\",\"linecolor\":\"white\",\"minorgridcolor\":\"white\",\"startlinecolor\":\"#2a3f5f\"},\"type\":\"carpet\"}],\"table\":[{\"cells\":{\"fill\":{\"color\":\"#EBF0F8\"},\"line\":{\"color\":\"white\"}},\"header\":{\"fill\":{\"color\":\"#C8D4E3\"},\"line\":{\"color\":\"white\"}},\"type\":\"table\"}],\"barpolar\":[{\"marker\":{\"line\":{\"color\":\"#E5ECF6\",\"width\":0.5},\"pattern\":{\"fillmode\":\"overlay\",\"size\":10,\"solidity\":0.2}},\"type\":\"barpolar\"}],\"pie\":[{\"automargin\":true,\"type\":\"pie\"}]},\"layout\":{\"autotypenumbers\":\"strict\",\"colorway\":[\"#636efa\",\"#EF553B\",\"#00cc96\",\"#ab63fa\",\"#FFA15A\",\"#19d3f3\",\"#FF6692\",\"#B6E880\",\"#FF97FF\",\"#FECB52\"],\"font\":{\"color\":\"#2a3f5f\"},\"hovermode\":\"closest\",\"hoverlabel\":{\"align\":\"left\"},\"paper_bgcolor\":\"white\",\"plot_bgcolor\":\"#E5ECF6\",\"polar\":{\"bgcolor\":\"#E5ECF6\",\"angularaxis\":{\"gridcolor\":\"white\",\"linecolor\":\"white\",\"ticks\":\"\"},\"radialaxis\":{\"gridcolor\":\"white\",\"linecolor\":\"white\",\"ticks\":\"\"}},\"ternary\":{\"bgcolor\":\"#E5ECF6\",\"aaxis\":{\"gridcolor\":\"white\",\"linecolor\":\"white\",\"ticks\":\"\"},\"baxis\":{\"gridcolor\":\"white\",\"linecolor\":\"white\",\"ticks\":\"\"},\"caxis\":{\"gridcolor\":\"white\",\"linecolor\":\"white\",\"ticks\":\"\"}},\"coloraxis\":{\"colorbar\":{\"outlinewidth\":0,\"ticks\":\"\"}},\"colorscale\":{\"sequential\":[[0.0,\"#0d0887\"],[0.1111111111111111,\"#46039f\"],[0.2222222222222222,\"#7201a8\"],[0.3333333333333333,\"#9c179e\"],[0.4444444444444444,\"#bd3786\"],[0.5555555555555556,\"#d8576b\"],[0.6666666666666666,\"#ed7953\"],[0.7777777777777778,\"#fb9f3a\"],[0.8888888888888888,\"#fdca26\"],[1.0,\"#f0f921\"]],\"sequentialminus\":[[0.0,\"#0d0887\"],[0.1111111111111111,\"#46039f\"],[0.2222222222222222,\"#7201a8\"],[0.3333333333333333,\"#9c179e\"],[0.4444444444444444,\"#bd3786\"],[0.5555555555555556,\"#d8576b\"],[0.6666666666666666,\"#ed7953\"],[0.7777777777777778,\"#fb9f3a\"],[0.8888888888888888,\"#fdca26\"],[1.0,\"#f0f921\"]],\"diverging\":[[0,\"#8e0152\"],[0.1,\"#c51b7d\"],[0.2,\"#de77ae\"],[0.3,\"#f1b6da\"],[0.4,\"#fde0ef\"],[0.5,\"#f7f7f7\"],[0.6,\"#e6f5d0\"],[0.7,\"#b8e186\"],[0.8,\"#7fbc41\"],[0.9,\"#4d9221\"],[1,\"#276419\"]]},\"xaxis\":{\"gridcolor\":\"white\",\"linecolor\":\"white\",\"ticks\":\"\",\"title\":{\"standoff\":15},\"zerolinecolor\":\"white\",\"automargin\":true,\"zerolinewidth\":2},\"yaxis\":{\"gridcolor\":\"white\",\"linecolor\":\"white\",\"ticks\":\"\",\"title\":{\"standoff\":15},\"zerolinecolor\":\"white\",\"automargin\":true,\"zerolinewidth\":2},\"scene\":{\"xaxis\":{\"backgroundcolor\":\"#E5ECF6\",\"gridcolor\":\"white\",\"linecolor\":\"white\",\"showbackground\":true,\"ticks\":\"\",\"zerolinecolor\":\"white\",\"gridwidth\":2},\"yaxis\":{\"backgroundcolor\":\"#E5ECF6\",\"gridcolor\":\"white\",\"linecolor\":\"white\",\"showbackground\":true,\"ticks\":\"\",\"zerolinecolor\":\"white\",\"gridwidth\":2},\"zaxis\":{\"backgroundcolor\":\"#E5ECF6\",\"gridcolor\":\"white\",\"linecolor\":\"white\",\"showbackground\":true,\"ticks\":\"\",\"zerolinecolor\":\"white\",\"gridwidth\":2}},\"shapedefaults\":{\"line\":{\"color\":\"#2a3f5f\"}},\"annotationdefaults\":{\"arrowcolor\":\"#2a3f5f\",\"arrowhead\":0,\"arrowwidth\":1},\"geo\":{\"bgcolor\":\"white\",\"landcolor\":\"#E5ECF6\",\"subunitcolor\":\"white\",\"showland\":true,\"showlakes\":true,\"lakecolor\":\"white\"},\"title\":{\"x\":0.05},\"mapbox\":{\"style\":\"light\"}}},\"title\":{\"text\":\"Top 15 bigram in the corpus after pre-processing\"}},                        {\"responsive\": true}                    ).then(function(){\n",
              "                            \n",
              "var gd = document.getElementById('289e03a7-0afa-4b59-aec5-4dac0788d9fe');\n",
              "var x = new MutationObserver(function (mutations, observer) {{\n",
              "        var display = window.getComputedStyle(gd).display;\n",
              "        if (!display || display === 'none') {{\n",
              "            console.log([gd, 'removed!']);\n",
              "            Plotly.purge(gd);\n",
              "            observer.disconnect();\n",
              "        }}\n",
              "}});\n",
              "\n",
              "// Listen for the removal of the full notebook cells\n",
              "var notebookContainer = gd.closest('#notebook-container');\n",
              "if (notebookContainer) {{\n",
              "    x.observe(notebookContainer, {childList: true});\n",
              "}}\n",
              "\n",
              "// Listen for the clearing of the current output cell\n",
              "var outputEl = gd.closest('.output');\n",
              "if (outputEl) {{\n",
              "    x.observe(outputEl, {childList: true});\n",
              "}}\n",
              "\n",
              "                        })                };                            </script>        </div>\n",
              "</body>\n",
              "</html>"
            ]
          },
          "metadata": {}
        }
      ]
    },
    {
      "cell_type": "markdown",
      "source": [
        "\n",
        "<figure>\n",
        "<center>\n",
        "<img src='https://drive.google.com/uc?id=1trz_G32D7gXBS-hJpFywwBCF6tibxL-m'/>\n",
        "</center>\n",
        "</figure>\n"
      ],
      "metadata": {
        "id": "egh6KTZGq9cf"
      }
    },
    {
      "cell_type": "markdown",
      "source": [
        "### Topic modeling"
      ],
      "metadata": {
        "id": "S3YaZri-upi-"
      }
    },
    {
      "cell_type": "code",
      "source": [
        "# set seed\n",
        "np.random.seed(222)"
      ],
      "metadata": {
        "id": "imMnVcPcusL1",
        "colab": {
          "base_uri": "https://localhost:8080/"
        },
        "outputId": "597e1f6d-7268-4590-e22c-850aecb74d76"
      },
      "execution_count": 13,
      "outputs": [
        {
          "output_type": "stream",
          "name": "stderr",
          "text": [
            "/usr/local/lib/python3.10/dist-packages/ipykernel/ipkernel.py:283: DeprecationWarning:\n",
            "\n",
            "`should_run_async` will not call `transform_cell` automatically in the future. Please pass the result to `transformed_cell` argument and any exception that happen during thetransform in `preprocessing_exc_tuple` in IPython 7.17 and above.\n",
            "\n"
          ]
        }
      ]
    },
    {
      "cell_type": "code",
      "source": [
        "text_var = df_classes['cleaned_text_no_styles']\n",
        "texts, id2word, corpus = prepare_lda_inputs(text_var, no_below=15)"
      ],
      "metadata": {
        "id": "3WfRsqjvusm8",
        "colab": {
          "base_uri": "https://localhost:8080/"
        },
        "outputId": "8716ed4d-8ae2-4424-cf53-348de4a88327"
      },
      "execution_count": 14,
      "outputs": [
        {
          "output_type": "stream",
          "name": "stderr",
          "text": [
            "/usr/local/lib/python3.10/dist-packages/ipykernel/ipkernel.py:283: DeprecationWarning:\n",
            "\n",
            "`should_run_async` will not call `transform_cell` automatically in the future. Please pass the result to `transformed_cell` argument and any exception that happen during thetransform in `preprocessing_exc_tuple` in IPython 7.17 and above.\n",
            "\n"
          ]
        }
      ]
    },
    {
      "cell_type": "markdown",
      "source": [
        "Find the best number of topics with elbow method"
      ],
      "metadata": {
        "id": "8PqImJ4Kuz_R"
      }
    },
    {
      "cell_type": "code",
      "source": [
        "start=2; limit=16; step=1\n",
        "\n",
        "model_list, coherence_model_list, coherence_values = compare_lda_coherence(dictionary=id2word, corpus=corpus, texts=texts, start=start, limit=limit, step=step)"
      ],
      "metadata": {
        "colab": {
          "base_uri": "https://localhost:8080/",
          "height": 554
        },
        "id": "32cf1o4Xux1P",
        "outputId": "89fb34d2-bdce-4ef1-9d0b-0314233c1cda"
      },
      "execution_count": 15,
      "outputs": [
        {
          "output_type": "stream",
          "name": "stderr",
          "text": [
            "/usr/local/lib/python3.10/dist-packages/ipykernel/ipkernel.py:283: DeprecationWarning:\n",
            "\n",
            "`should_run_async` will not call `transform_cell` automatically in the future. Please pass the result to `transformed_cell` argument and any exception that happen during thetransform in `preprocessing_exc_tuple` in IPython 7.17 and above.\n",
            "\n"
          ]
        },
        {
          "output_type": "stream",
          "name": "stdout",
          "text": [
            "Best coherence value of 0.40302575816695374 was reached for the LDA model with 5 topics\n",
            "Index of the corresponding model: 3\n"
          ]
        },
        {
          "output_type": "display_data",
          "data": {
            "text/plain": [
              "<Figure size 640x480 with 1 Axes>"
            ],
            "image/png": "[encoded data removed]"
          },
          "metadata": {}
        }
      ]
    },
    {
      "cell_type": "code",
      "source": [
        "lda_model = model_list[3]\n",
        "topics = lda_model.show_topics(formatted=False, num_topics=5, num_words=15)"
      ],
      "metadata": {
        "id": "oU2ipLqDux3z",
        "colab": {
          "base_uri": "https://localhost:8080/"
        },
        "outputId": "6e429915-1e24-454e-904d-798ceeb3e8fb"
      },
      "execution_count": 16,
      "outputs": [
        {
          "output_type": "stream",
          "name": "stderr",
          "text": [
            "/usr/local/lib/python3.10/dist-packages/ipykernel/ipkernel.py:283: DeprecationWarning:\n",
            "\n",
            "`should_run_async` will not call `transform_cell` automatically in the future. Please pass the result to `transformed_cell` argument and any exception that happen during thetransform in `preprocessing_exc_tuple` in IPython 7.17 and above.\n",
            "\n"
          ]
        }
      ]
    },
    {
      "cell_type": "code",
      "source": [
        "LDAvis_prepared = get_lda_distance_map(lda_model, corpus, id2word)\n",
        "LDAvis_prepared"
      ],
      "metadata": {
        "colab": {
          "base_uri": "https://localhost:8080/",
          "height": 951
        },
        "id": "0gN_O7Buux6R",
        "outputId": "0196bafd-5313-44bc-e874-132235ca7767"
      },
      "execution_count": 17,
      "outputs": [
        {
          "output_type": "stream",
          "name": "stderr",
          "text": [
            "/usr/local/lib/python3.10/dist-packages/ipykernel/ipkernel.py:283: DeprecationWarning:\n",
            "\n",
            "`should_run_async` will not call `transform_cell` automatically in the future. Please pass the result to `transformed_cell` argument and any exception that happen during thetransform in `preprocessing_exc_tuple` in IPython 7.17 and above.\n",
            "\n"
          ]
        },
        {
          "output_type": "execute_result",
          "data": {
            "text/plain": [
              "PreparedData(topic_coordinates=              x         y  topics  cluster       Freq\n",
              "topic                                                \n",
              "4      0.211415 -0.129549       1        1  25.396217\n",
              "2     -0.158421  0.059386       2        1  24.738615\n",
              "3     -0.123135 -0.061838       3        1  18.828279\n",
              "0     -0.038273 -0.101382       4        1  18.003915\n",
              "1      0.108413  0.233383       5        1  13.032974, topic_info=           Term        Freq       Total Category  logprob  loglift\n",
              "66       muscle   84.000000   84.000000  Default  30.0000  30.0000\n",
              "52      breathe   64.000000   64.000000  Default  29.0000  29.0000\n",
              "35      stretch   82.000000   82.000000  Default  28.0000  28.0000\n",
              "2    experience  112.000000  112.000000  Default  27.0000  27.0000\n",
              "165      gentle   79.000000   79.000000  Default  26.0000  26.0000\n",
              "..          ...         ...         ...      ...      ...      ...\n",
              "89      include   21.062382   68.304771   Topic5  -3.7738   0.8612\n",
              "28         mind   27.351515  126.701810   Topic5  -3.5125   0.5046\n",
              "82      explore   16.469322   53.274725   Topic5  -4.0198   0.8637\n",
              "60        focus   14.541511  107.861373   Topic5  -4.1442   0.0338\n",
              "7       balance   14.368105  118.834565   Topic5  -4.1562  -0.0750\n",
              "\n",
              "[240 rows x 6 columns], token_table=      Topic      Freq     Term\n",
              "term                          \n",
              "128       1  0.103171        1\n",
              "128       3  0.257928        1\n",
              "128       4  0.619027        1\n",
              "129       1  0.489616        2\n",
              "129       3  0.030601        2\n",
              "...     ...       ...      ...\n",
              "116       4  0.148723     well\n",
              "116       5  0.520529     well\n",
              "140       1  0.199513   within\n",
              "140       4  0.748174   within\n",
              "109       1  0.980107  workout\n",
              "\n",
              "[412 rows x 3 columns], R=30, lambda_step=0.01, plot_opts={'xlab': 'PC1', 'ylab': 'PC2'}, topic_order=[5, 3, 4, 1, 2])"
            ],
            "text/html": [
              "\n",
              "<link rel=\"stylesheet\" type=\"text/css\" href=\"https://cdn.rawgit.com/bmabey/pyLDAvis/files/ldavis.v1.0.0.css\">\n",
              "\n",
              "\n",
              "<div id=\"ldavis_el3671362330248585769602870694\"></div>\n",
              "<script type=\"text/javascript\">\n",
              "\n",
              "var ldavis_el3671362330248585769602870694_data = {\"mdsDat\": {\"x\": [0.2114151940429244, -0.15842081391623666, -0.12313473210460747, -0.03827307054374601, 0.10841342252166575], \"y\": [-0.12954887641862778, 0.059385682065013407, -0.06183847496382916, -0.10138160525427489, 0.23338327457171826], \"topics\": [1, 2, 3, 4, 5], \"cluster\": [1, 1, 1, 1, 1], \"Freq\": [25.396217295793317, 24.73861482784565, 18.828278828869554, 18.00391515938279, 13.032973888108693]}, \"tinfo\": {\"Term\": [\"muscle\", \"breathe\", \"stretch\", \"experience\", \"gentle\", \"release\", \"balance\", \"core\", \"techniques\", \"improve\", \"expect\", \"prop\", \"alignment\", \"relax\", \"safe\", \"pace\", \"advance\", \"find\", \"strength\", \"stress\", \"deep\", \"workout\", \"practitioners\", \"allow\", \"train\", \"inversions\", \"increase\", \"guide\", \"weight\", \"restorative\", \"muscle\", \"core\", \"improve\", \"workout\", \"train\", \"weight\", \"power\", \"increase\", \"pilates\", \"tone\", \"unique\", \"high\", \"intensity\", \"group\", \"sweat\", \"circulation\", \"become\", \"age\", \"studio\", \"floor\", \"entire\", \"always\", \"strength\", \"health\", \"different\", \"fun\", \"form\", \"joint\", \"encourage\", \"strengthen\", \"incorporate\", \"create\", \"build\", \"use\", \"energy\", \"feel\", \"help\", \"balance\", \"flexibility\", \"challenge\", \"physical\", \"mind\", \"tissue\", \"allow\", \"tension\", \"nervous\", \"end\", \"transition\", \"join\", \"link\", \"us\", \"live\", \"rejuvenate\", \"long\", \"relax\", \"technique\", \"restore\", \"rest\", \"follow\", \"perfect\", \"week\", \"sound\", \"restorative\", \"slow\", \"relaxation\", \"deep\", \"asanas\", \"guide\", \"heal\", \"self\", \"meditative\", \"blend\", \"know\", \"benefit\", \"support\", \"mind\", \"breath\", \"feel\", \"energy\", \"sequence\", \"traditional\", \"state\", \"hold\", \"help\", \"use\", \"focus\", \"injury\", \"emphasize\", \"want\", \"recover\", \"prop\", \"active\", \"release\", \"stretch\", \"great\", \"blanket\", \"gentle\", \"bolster\", \"block\", \"steady\", \"place\", \"appropriate\", \"slower\", \"look\", \"opportunity\", \"challenge\", \"modifications\", \"next\", \"hold\", \"calm\", \"alignment\", \"connective\", \"foundational\", \"connect\", \"back\", \"explore\", \"focus\", \"include\", \"breath\", \"use\", \"sequence\", \"need\", \"support\", \"strengthen\", \"mind\", \"deep\", \"restorative\", \"build\", \"advance\", \"expect\", \"inversions\", \"arm\", \"strong\", \"invigorate\", \"hour\", \"stand\", \"heart\", \"practitioners\", \"within\", \"energize\", \"pace\", \"basic\", \"deeper\", \"longer\", \"require\", \"full\", \"1\", \"mix\", \"beginners\", \"understand\", \"energetic\", \"60\", \"heat\", \"enhance\", \"alignment\", \"balance\", \"prepare\", \"throughout\", \"experience\", \"design\", \"2\", \"center\", \"include\", \"breath\", \"sequence\", \"physical\", \"build\", \"awareness\", \"guide\", \"explore\", \"hold\", \"focus\", \"techniques\", \"safe\", \"spiritual\", \"reduce\", \"emotional\", \"inspire\", \"breathe\", \"find\", \"stress\", \"mean\", \"life\", \"impact\", \"journey\", \"lead\", \"two\", \"seat\", \"make\", \"well\", \"accessible\", \"come\", \"minutes\", \"type\", \"state\", \"together\", \"result\", \"know\", \"spirit\", \"way\", \"need\", \"mental\", \"experience\", \"help\", \"physical\", \"include\", \"mind\", \"explore\", \"focus\", \"balance\"], \"Freq\": [84.0, 64.0, 82.0, 112.0, 79.0, 60.0, 118.0, 50.0, 32.0, 48.0, 38.0, 49.0, 58.0, 61.0, 28.0, 59.0, 33.0, 38.0, 103.0, 42.0, 80.0, 39.0, 43.0, 39.0, 39.0, 30.0, 38.0, 57.0, 37.0, 62.0, 83.48169261911377, 49.597698463443194, 47.860112107787145, 38.988427660535145, 38.19590876723973, 36.23506363447334, 35.7220201642475, 37.23892422810659, 32.85327353620567, 28.711450229621043, 22.53287034410842, 20.370726477658565, 19.810474073693157, 16.915754542992822, 14.912820159189694, 13.337965980731912, 15.610758074178642, 13.667645418498044, 17.138494028489614, 17.07369908452962, 25.060543910215657, 13.019170861897871, 76.13783733235978, 26.19702026405554, 21.830210537107796, 11.239301353048102, 23.778800720673633, 14.265884336873905, 18.106000880381938, 27.915832230606302, 24.220305113548118, 30.153932481915092, 39.19343134015375, 46.06057692566845, 35.07687689663618, 33.775442235684174, 38.418974474391185, 39.00892303530841, 25.322523200459447, 20.40440886350286, 21.845627839083175, 22.746690330384002, 31.15367135766394, 38.405393900270724, 23.425423159049284, 20.200097269331515, 19.57146460317331, 11.826692937911028, 15.710873313935668, 21.754321309850468, 31.69718583719599, 22.789788103404632, 17.649800753327778, 34.67332945153978, 51.682689619600815, 9.798597307508151, 18.377982786667555, 22.03310363728604, 15.52599823388245, 38.449227334435, 24.211907096980998, 29.718821925965887, 46.3373907181865, 36.1632641310247, 37.201420659276245, 57.99120537646222, 20.46090101445285, 39.82570676699182, 24.55182211670087, 20.487037972292857, 9.355493104816693, 12.769328215831916, 19.604694743232162, 15.61174386314145, 23.65458563692879, 56.72502290078497, 51.2065368623153, 35.54105505068387, 32.00892268389562, 34.91140096628616, 21.92932268025505, 20.473602269196267, 22.767649268387867, 22.749703112049488, 22.493748671617656, 21.931080168146533, 24.493314949128038, 13.011615230640837, 23.81152926650018, 15.70312512633801, 41.42974435139439, 16.93536943741178, 47.756310552459524, 63.5536713667821, 24.1773639816272, 17.296974164737325, 58.430924156197136, 14.851551336498954, 15.796559979409167, 11.729423006431643, 9.396887052181146, 15.942509365985371, 9.297874735614458, 16.29521729866428, 11.74824817968116, 27.537822756247806, 12.835414274361879, 8.504862461550328, 41.353653929051816, 13.410646959135175, 28.45181601310488, 11.799494210426607, 9.89567208547869, 11.023761584605767, 12.28921031275946, 20.142967459739705, 38.27871439522258, 24.641255934394906, 44.623612188696924, 30.4705443746536, 25.16391855781862, 15.947710474090165, 15.461849238120152, 15.253018886440234, 19.637237127042912, 15.969595848549622, 14.25305742067383, 13.49332298383962, 32.79368981074736, 36.98887530364348, 29.342685778380066, 23.63872465086721, 14.005952143148042, 12.94632464251848, 11.60811787838667, 16.080405367884687, 15.74814184764766, 33.56778002637999, 15.10756611772482, 16.45369490259858, 41.738576290112164, 12.459064910383397, 19.018544101819447, 18.233585591123646, 16.944293824292753, 17.64290891648486, 11.587075084536213, 12.72738354052669, 23.42877104246962, 19.60487865010578, 12.141406509709055, 8.714893603872936, 28.610166702869634, 10.786496718227966, 29.687842346077225, 59.44294989299704, 10.748134975844536, 8.310538396965942, 50.76015085647464, 30.047032949327672, 14.910270751585147, 14.620058601205494, 19.808924370827626, 26.750332512508187, 21.797507327241917, 19.275405654005585, 18.81929595874681, 15.977104058093634, 16.941141062984666, 16.209993061067046, 17.29810632647948, 16.95497451117928, 31.495536256208453, 27.552654505285957, 18.784445570258466, 11.74353063552402, 22.17126918511438, 15.3100243409155, 46.36440364963754, 26.791459968805, 28.464914696564385, 16.736937173117617, 20.377170003048683, 10.272660125253713, 10.113268272612924, 15.897561108015914, 9.205207054313343, 10.920119380012958, 24.23379514590739, 21.06150522615936, 9.252875989011535, 11.663024980484353, 23.18119905950608, 10.952095977126259, 17.960353561805146, 13.95763815422256, 9.819619469253327, 12.67859562329597, 6.737961511329072, 17.950093581450815, 16.538799630430788, 11.703511416447986, 40.89177522745374, 33.09659884486105, 23.2015157338907, 21.062381578127685, 27.351515499814823, 16.46932183139801, 14.541511496769216, 14.36810484578895], \"Total\": [84.0, 64.0, 82.0, 112.0, 79.0, 60.0, 118.0, 50.0, 32.0, 48.0, 38.0, 49.0, 58.0, 61.0, 28.0, 59.0, 33.0, 38.0, 103.0, 42.0, 80.0, 39.0, 43.0, 39.0, 39.0, 30.0, 38.0, 57.0, 37.0, 62.0, 84.29452390384286, 50.40207687200425, 48.69313237534485, 39.79158347801335, 39.002759381450204, 37.03748613423322, 36.53971831700626, 38.120750731193134, 33.6518096412387, 29.51543072752927, 23.34136183894225, 21.170492992586166, 20.61216091179421, 17.724153722013043, 15.797243657791599, 14.145110771967339, 16.97438569738693, 14.908536016652608, 19.81149109438396, 20.096298825392267, 29.503919921519028, 17.324239183836116, 103.87914123946499, 36.656608043774824, 32.19562301566296, 17.11666914527614, 36.44588975949188, 22.14364136155765, 28.141227348897157, 43.832951015270744, 38.238068866907355, 50.41834177305346, 72.12324024351992, 102.33628700535075, 73.55382140537542, 81.10092277081968, 105.83943789465985, 118.83456473272183, 57.94533172092592, 48.65828621863227, 75.18459065551735, 126.70180980253157, 31.984658795452955, 39.59458807908602, 24.220772890470872, 20.978143225440878, 20.45256487404138, 12.614173693520517, 16.934405421965863, 23.59391766816326, 34.64207148826017, 24.981499548223262, 19.42099325366214, 38.9520815067078, 61.09235893284431, 11.584478696331303, 22.248321635570505, 27.653769087639734, 19.841302103776844, 49.803611556682156, 31.542000989333385, 39.8933087613487, 62.70694131792578, 49.356447072554104, 50.83348308680797, 80.96761408293513, 29.43361170889726, 57.38054146377909, 35.573870113877966, 30.955109087413437, 15.218371623768634, 20.790154331607596, 32.83987122432677, 26.000586988906186, 42.983923022685104, 126.70180980253157, 140.01122415764172, 81.10092277081968, 73.55382140537542, 94.25863158719268, 40.13661883059173, 38.98802812758174, 84.15512767288435, 105.83943789465985, 102.33628700535075, 107.8613727642309, 25.4771523306639, 13.86694159043357, 26.27457309526014, 18.665425986838716, 49.51742152100286, 20.35917782963894, 60.859373692905834, 82.17512808736522, 31.38499088095328, 22.874668904282185, 79.34675994413571, 20.56455094676237, 22.384514529693536, 17.681497407118904, 14.764609139025403, 25.122224090094306, 15.29792786669163, 27.77459341014769, 20.253906795849527, 48.65828621863227, 24.265522807913744, 16.66579530180283, 84.15512767288435, 27.35945710061761, 58.8208086994464, 25.52550495769169, 21.671439329001785, 26.540347384549435, 31.953698341909327, 53.27472494652304, 107.8613727642309, 68.30477137775065, 140.01122415764172, 102.33628700535075, 94.25863158719268, 44.545636234604316, 42.983923022685104, 43.832951015270744, 126.70180980253157, 80.96761408293513, 62.70694131792578, 72.12324024351992, 33.650384960577234, 38.03979651032945, 30.181902923441786, 24.476469217081828, 14.895063066459361, 13.792573184328148, 13.989606828183225, 20.294762667224877, 20.005897311003565, 43.91361588958199, 20.048810880208777, 23.42069360131923, 59.65336505990175, 17.81765799499295, 28.253761170343854, 27.78275835157139, 27.464604114906425, 29.242995121854975, 19.385274864899408, 21.481920112830107, 39.874871016492456, 33.95122455057715, 21.09856063422639, 15.296158644469042, 50.76633260132202, 19.74995500895425, 58.8208086994464, 118.83456473272183, 21.738260083013934, 17.144406845661088, 112.06918503339568, 65.42754533438243, 32.67868643882535, 32.3971275654736, 68.30477137775065, 140.01122415764172, 94.25863158719268, 75.18459065551735, 72.12324024351992, 44.109136218460314, 57.38054146377909, 53.27472494652304, 84.15512767288435, 107.8613727642309, 32.33338050948327, 28.34901779113814, 19.590218179563113, 12.557658373550941, 23.978003968832553, 18.4332450538093, 64.5556963050439, 38.83856314880225, 42.84072131750017, 25.597514681618595, 32.01067378562491, 17.509989938887863, 17.495289553936303, 28.2642377496164, 16.496474933836613, 19.774525461385675, 46.221065525744876, 40.34354908509211, 18.440439268500775, 25.1036479324327, 50.156960850712196, 23.710549473937256, 38.98802812758174, 30.54439050001624, 23.663496407377885, 32.83987122432677, 17.726205850298932, 48.085926577435366, 44.545636234604316, 31.817084021952667, 112.06918503339568, 105.83943789465985, 75.18459065551735, 68.30477137775065, 126.70180980253157, 53.27472494652304, 107.8613727642309, 118.83456473272183], \"Category\": [\"Default\", \"Default\", \"Default\", \"Default\", \"Default\", \"Default\", \"Default\", \"Default\", \"Default\", \"Default\", \"Default\", \"Default\", \"Default\", \"Default\", \"Default\", \"Default\", \"Default\", \"Default\", \"Default\", \"Default\", \"Default\", \"Default\", \"Default\", \"Default\", \"Default\", \"Default\", \"Default\", \"Default\", \"Default\", \"Default\", \"Topic1\", \"Topic1\", \"Topic1\", \"Topic1\", \"Topic1\", \"Topic1\", \"Topic1\", \"Topic1\", \"Topic1\", \"Topic1\", \"Topic1\", \"Topic1\", \"Topic1\", \"Topic1\", \"Topic1\", \"Topic1\", \"Topic1\", \"Topic1\", \"Topic1\", \"Topic1\", \"Topic1\", \"Topic1\", \"Topic1\", \"Topic1\", \"Topic1\", \"Topic1\", \"Topic1\", \"Topic1\", \"Topic1\", \"Topic1\", \"Topic1\", \"Topic1\", \"Topic1\", \"Topic1\", \"Topic1\", \"Topic1\", \"Topic1\", \"Topic1\", \"Topic1\", \"Topic1\", \"Topic1\", \"Topic1\", \"Topic2\", \"Topic2\", \"Topic2\", \"Topic2\", \"Topic2\", \"Topic2\", \"Topic2\", \"Topic2\", \"Topic2\", \"Topic2\", \"Topic2\", \"Topic2\", \"Topic2\", \"Topic2\", \"Topic2\", \"Topic2\", \"Topic2\", \"Topic2\", \"Topic2\", \"Topic2\", \"Topic2\", \"Topic2\", \"Topic2\", \"Topic2\", \"Topic2\", \"Topic2\", \"Topic2\", \"Topic2\", \"Topic2\", \"Topic2\", \"Topic2\", \"Topic2\", \"Topic2\", \"Topic2\", \"Topic2\", \"Topic2\", \"Topic2\", \"Topic2\", \"Topic2\", \"Topic2\", \"Topic2\", \"Topic2\", \"Topic2\", \"Topic2\", \"Topic3\", \"Topic3\", \"Topic3\", \"Topic3\", \"Topic3\", \"Topic3\", \"Topic3\", \"Topic3\", \"Topic3\", \"Topic3\", \"Topic3\", \"Topic3\", \"Topic3\", \"Topic3\", \"Topic3\", \"Topic3\", \"Topic3\", \"Topic3\", \"Topic3\", \"Topic3\", \"Topic3\", \"Topic3\", \"Topic3\", \"Topic3\", \"Topic3\", \"Topic3\", \"Topic3\", \"Topic3\", \"Topic3\", \"Topic3\", \"Topic3\", \"Topic3\", \"Topic3\", \"Topic3\", \"Topic3\", \"Topic3\", \"Topic3\", \"Topic3\", \"Topic3\", \"Topic3\", \"Topic3\", \"Topic3\", \"Topic4\", \"Topic4\", \"Topic4\", \"Topic4\", \"Topic4\", \"Topic4\", \"Topic4\", \"Topic4\", \"Topic4\", \"Topic4\", \"Topic4\", \"Topic4\", \"Topic4\", \"Topic4\", \"Topic4\", \"Topic4\", \"Topic4\", \"Topic4\", \"Topic4\", \"Topic4\", \"Topic4\", \"Topic4\", \"Topic4\", \"Topic4\", \"Topic4\", \"Topic4\", \"Topic4\", \"Topic4\", \"Topic4\", \"Topic4\", \"Topic4\", \"Topic4\", \"Topic4\", \"Topic4\", \"Topic4\", \"Topic4\", \"Topic4\", \"Topic4\", \"Topic4\", \"Topic4\", \"Topic4\", \"Topic4\", \"Topic4\", \"Topic4\", \"Topic5\", \"Topic5\", \"Topic5\", \"Topic5\", \"Topic5\", \"Topic5\", \"Topic5\", \"Topic5\", \"Topic5\", \"Topic5\", \"Topic5\", \"Topic5\", \"Topic5\", \"Topic5\", \"Topic5\", \"Topic5\", \"Topic5\", \"Topic5\", \"Topic5\", \"Topic5\", \"Topic5\", \"Topic5\", \"Topic5\", \"Topic5\", \"Topic5\", \"Topic5\", \"Topic5\", \"Topic5\", \"Topic5\", \"Topic5\", \"Topic5\", \"Topic5\", \"Topic5\", \"Topic5\", \"Topic5\", \"Topic5\", \"Topic5\", \"Topic5\"], \"logprob\": [30.0, 29.0, 28.0, 27.0, 26.0, 25.0, 24.0, 23.0, 22.0, 21.0, 20.0, 19.0, 18.0, 17.0, 16.0, 15.0, 14.0, 13.0, 12.0, 11.0, 10.0, 9.0, 8.0, 7.0, 6.0, 5.0, 4.0, 3.0, 2.0, 1.0, -3.063699960708618, -3.584399938583374, -3.6201000213623047, -3.8250999450683594, -3.845599889755249, -3.8982999324798584, -3.912600040435791, -3.871000051498413, -3.996299982070923, -4.131100177764893, -4.3734002113342285, -4.474299907684326, -4.502200126647949, -4.660099983215332, -4.786099910736084, -4.897799968719482, -4.7403998374938965, -4.873300075531006, -4.646999835968018, -4.6508002281188965, -4.267099857330322, -4.921899795532227, -3.1558001041412354, -4.222700119018555, -4.405099868774414, -5.068999767303467, -4.3196001052856445, -4.83050012588501, -4.592100143432617, -4.159200191497803, -4.301199913024902, -4.082099914550781, -3.8199000358581543, -3.658400058746338, -3.930799961090088, -3.968600034713745, -3.8397998809814453, -3.8245999813079834, -4.256700038909912, -4.472599983215332, -4.404399871826172, -4.363900184631348, -4.023200035095215, -3.8138999938964844, -4.308300018310547, -4.456399917602539, -4.488100051879883, -4.991799831390381, -4.707799911499023, -4.382299900054932, -4.005899906158447, -4.3358001708984375, -4.591400146484375, -3.9161999225616455, -3.5169999599456787, -5.179900169372559, -4.551000118255615, -4.36959981918335, -4.719600200653076, -3.8127999305725098, -4.275300025939941, -4.070400238037109, -3.626199960708618, -3.8740999698638916, -3.8457999229431152, -3.4017999172210693, -4.443600177764893, -3.777600049972534, -4.261300086975098, -4.442299842834473, -5.226200103759766, -4.91510009765625, -4.486400127410889, -4.714099884033203, -4.298600196838379, -3.4238998889923096, -3.5262999534606934, -3.891400098800659, -3.9960999488830566, -3.9093000888824463, -4.374300003051758, -4.442999839782715, -4.3368000984191895, -4.337600231170654, -4.348899841308594, -4.374199867248535, -3.9907000064849854, -4.623300075531006, -4.019000053405762, -4.435299873352051, -3.465100049972534, -4.3597002029418945, -3.322999954223633, -3.0371999740600586, -4.003699779510498, -4.338600158691406, -3.121299982070923, -4.491000175476074, -4.429299831390381, -4.7270002365112305, -4.948699951171875, -4.420100212097168, -4.9593000411987305, -4.3983001708984375, -4.725399971008301, -3.8736000061035156, -4.636899948120117, -5.048500061035156, -3.4670000076293945, -4.593100070953369, -3.84089994430542, -4.721099853515625, -4.896999835968018, -4.789100170135498, -4.6803998947143555, -4.186299800872803, -3.5441999435424805, -3.9846999645233154, -3.390899896621704, -3.77239990234375, -3.96370005607605, -4.4197998046875, -4.450799942016602, -4.464300155639648, -4.211699962615967, -4.418399810791016, -4.532199859619141, -4.586900234222412, -3.654099941253662, -3.5336999893188477, -3.7653000354766846, -3.9814999103546143, -4.504899978637695, -4.583499908447266, -4.692699909210205, -4.366799831390381, -4.387599945068359, -3.6308000087738037, -4.429200172424316, -4.343800067901611, -3.412899971008301, -4.6219000816345215, -4.19890022277832, -4.241099834442139, -4.3144001960754395, -4.27400016784668, -4.694499969482422, -4.600599765777588, -3.9904000759124756, -4.168600082397461, -4.64769983291626, -4.979300022125244, -3.790600061416626, -4.76609992980957, -3.7535998821258545, -3.059299945831299, -4.769599914550781, -5.026800155639648, -3.2172000408172607, -3.7416000366210938, -4.442299842834473, -4.461999893188477, -4.158199787139893, -3.857800006866455, -4.062600135803223, -4.185500144958496, -4.209499835968018, -4.373199939727783, -4.314599990844727, -4.358699798583984, -4.293799877166748, -4.313799858093262, -3.3714001178741455, -3.505199909210205, -3.888200044631958, -4.357900142669678, -3.7225000858306885, -4.092700004577637, -2.9846999645233154, -3.5332000255584717, -3.472599983215332, -4.003600120544434, -3.80679988861084, -4.491799831390381, -4.507400035858154, -4.055099964141846, -4.601500034332275, -4.430600166320801, -3.633500099182129, -3.7737998962402344, -4.59630012512207, -4.364799976348877, -3.6779000759124756, -4.427700042724609, -3.9330999851226807, -4.185200214385986, -4.536900043487549, -4.281300067901611, -4.91349983215332, -3.9337000846862793, -4.015500068664551, -4.361400127410889, -3.110300064086914, -3.3217999935150146, -3.677000045776367, -3.7737998962402344, -3.512500047683716, -4.019800186157227, -4.144199848175049, -4.156199932098389], \"loglift\": [30.0, 29.0, 28.0, 27.0, 26.0, 25.0, 24.0, 23.0, 22.0, 21.0, 20.0, 19.0, 18.0, 17.0, 16.0, 15.0, 14.0, 13.0, 12.0, 11.0, 10.0, 9.0, 8.0, 7.0, 6.0, 5.0, 4.0, 3.0, 2.0, 1.0, 1.3609, 1.3545, 1.3533, 1.3502, 1.3497, 1.3487, 1.3479, 1.3472, 1.3466, 1.343, 1.3353, 1.3321, 1.3309, 1.3239, 1.313, 1.3118, 1.2868, 1.2837, 1.2256, 1.2076, 1.2073, 1.0849, 1.0599, 1.0346, 0.982, 0.9499, 0.9435, 0.9309, 0.9296, 0.9194, 0.9139, 0.8565, 0.7607, 0.5723, 0.6301, 0.4946, 0.3572, 0.2566, 0.5428, 0.5015, 0.1346, -0.3468, 1.3705, 1.3663, 1.3634, 1.359, 1.3528, 1.3323, 1.3218, 1.3156, 1.308, 1.305, 1.3012, 1.2804, 1.2295, 1.2294, 1.2057, 1.1696, 1.1516, 1.1381, 1.1323, 1.1024, 1.0943, 1.0858, 1.0846, 1.063, 1.0332, 1.0316, 1.026, 0.9841, 0.9103, 0.9094, 0.8809, 0.8867, 0.7995, 0.5932, 0.3909, 0.5718, 0.5648, 0.4036, 0.7923, 0.7527, 0.0895, -0.1406, -0.1182, -0.1961, 1.6304, 1.6061, 1.5714, 1.497, 1.4915, 1.4857, 1.4274, 1.4128, 1.4089, 1.3903, 1.3638, 1.3443, 1.3212, 1.2594, 1.218, 1.215, 1.1719, 1.1366, 1.1252, 1.1005, 1.033, 0.9971, 0.9593, 0.9568, 0.9435, 0.8982, 0.8859, 0.7912, 0.7142, 0.6972, 0.6339, 0.6503, 0.5264, 0.4583, 0.3492, 0.6426, 0.6474, 0.6142, -0.1946, 0.0464, 0.1883, -0.0064, 1.6888, 1.6866, 1.6864, 1.6798, 1.653, 1.6513, 1.528, 1.4818, 1.4753, 1.4459, 1.4316, 1.3615, 1.3575, 1.3568, 1.3188, 1.2934, 1.2316, 1.2093, 1.2, 1.1911, 1.1828, 1.1654, 1.162, 1.152, 1.1411, 1.1097, 1.0308, 1.0219, 1.0102, 0.9904, 0.9226, 0.9364, 0.9299, 0.9189, 0.4767, 0.0594, 0.2503, 0.3535, 0.3711, 0.6991, 0.4946, 0.5247, 0.1325, -0.1357, 2.0114, 2.0092, 1.9957, 1.9707, 1.9593, 1.852, 1.7067, 1.6664, 1.6289, 1.6128, 1.586, 1.5044, 1.4896, 1.4623, 1.4543, 1.4439, 1.392, 1.3877, 1.3481, 1.2711, 1.2659, 1.2653, 1.2626, 1.2545, 1.1581, 1.086, 1.0704, 1.0523, 1.0469, 1.0376, 1.0295, 0.8752, 0.862, 0.8612, 0.5046, 0.8637, 0.0338, -0.075]}, \"token.table\": {\"Topic\": [1, 3, 4, 1, 3, 4, 5, 1, 4, 4, 5, 3, 4, 4, 1, 3, 3, 4, 1, 2, 1, 3, 3, 4, 4, 2, 3, 5, 1, 2, 3, 4, 1, 2, 3, 5, 1, 2, 4, 5, 1, 3, 4, 1, 3, 1, 3, 4, 5, 1, 2, 2, 3, 1, 2, 2, 3, 2, 3, 1, 2, 3, 4, 1, 3, 5, 1, 3, 4, 2, 3, 2, 4, 1, 3, 1, 1, 3, 4, 5, 1, 2, 3, 2, 3, 1, 1, 2, 3, 5, 2, 3, 5, 2, 3, 4, 5, 1, 3, 4, 5, 1, 3, 4, 1, 2, 5, 3, 1, 4, 2, 1, 4, 5, 2, 4, 1, 2, 3, 4, 1, 4, 1, 4, 4, 1, 2, 3, 4, 5, 3, 4, 5, 1, 2, 3, 4, 5, 1, 3, 4, 5, 1, 5, 1, 2, 3, 4, 5, 2, 5, 1, 2, 4, 1, 3, 4, 1, 4, 1, 2, 2, 3, 5, 3, 4, 1, 2, 4, 1, 2, 4, 1, 2, 1, 4, 1, 3, 4, 1, 2, 3, 4, 5, 1, 1, 2, 3, 4, 1, 4, 1, 5, 1, 2, 3, 4, 5, 1, 3, 1, 3, 3, 5, 1, 4, 4, 2, 5, 1, 2, 4, 5, 2, 5, 2, 5, 1, 5, 2, 4, 2, 5, 1, 2, 3, 4, 3, 4, 1, 3, 5, 1, 5, 2, 3, 4, 1, 2, 4, 5, 1, 2, 3, 5, 1, 3, 4, 5, 3, 4, 3, 4, 1, 1, 2, 3, 4, 5, 2, 2, 3, 4, 2, 3, 4, 1, 2, 3, 4, 1, 2, 4, 1, 2, 4, 5, 1, 1, 2, 3, 1, 3, 4, 2, 4, 5, 2, 3, 1, 3, 5, 2, 3, 2, 3, 2, 3, 4, 5, 2, 3, 3, 4, 1, 2, 4, 2, 3, 4, 2, 4, 1, 5, 5, 2, 4, 5, 2, 4, 1, 2, 3, 4, 5, 2, 3, 2, 3, 5, 2, 4, 2, 4, 5, 5, 1, 4, 2, 5, 3, 4, 1, 3, 4, 5, 1, 3, 1, 2, 3, 5, 1, 3, 4, 1, 5, 1, 2, 3, 4, 1, 2, 3, 5, 2, 1, 4, 2, 1, 2, 3, 5, 1, 1, 2, 4, 5, 1, 2, 1, 3, 5, 1, 3, 5, 2, 3, 4, 1, 2, 5, 1, 2, 3, 5, 1, 3, 2, 3, 4, 5, 2, 5, 1, 2, 3, 4, 5, 1, 4, 1], \"Freq\": [0.10317109321061867, 0.25792773302654665, 0.619026559263712, 0.48961576316575856, 0.03060098519785991, 0.4590147779678987, 0.03060098519785991, 0.39225534589820354, 0.5883830188473053, 0.48805778804702565, 0.48805778804702565, 0.8350042492998592, 0.14735369105291632, 0.9806722876621119, 0.9390593405256031, 0.06707566718040023, 0.4760220170224134, 0.5100235896668716, 0.0252559768522558, 0.9597271203857204, 0.7503937034146513, 0.23089037028143117, 0.6368862861273815, 0.3582485359466521, 0.9805335805235623, 0.6794952722011466, 0.10192429083017199, 0.20384858166034397, 0.045342080382045, 0.4307497636294275, 0.1586972813371575, 0.36273664305636, 0.1877716918961651, 0.09388584594808255, 0.3755433837923302, 0.31295281982694184, 0.32818734252712845, 0.05049036038878899, 0.49648854382309177, 0.11781084090717432, 0.1122481978586654, 0.1683722967879981, 0.6734891871519924, 0.9425967033648277, 0.05891229396030173, 0.025078451027124193, 0.3260198633526145, 0.5768043736238565, 0.05015690205424839, 0.38460670154357496, 0.6153707224697199, 0.2185823987626763, 0.7431801557930994, 0.3366978372718374, 0.625295983504841, 0.2680424447910573, 0.7147798527761529, 0.243136843247588, 0.729410529742764, 0.12141883697023693, 0.3642565109107108, 0.32140280374474484, 0.19284168224684692, 0.26333849641509866, 0.01549049978912345, 0.7125629902996787, 0.5407410963278795, 0.1802470321092932, 0.26343797000589003, 0.4751556272549918, 0.4751556272549918, 0.5247378788642147, 0.46300401076254244, 0.4110296838268337, 0.5754415573575672, 0.9190454715818338, 0.07966969602916142, 0.03983484801458071, 0.39834848014580715, 0.47801817617496856, 0.22607089172815134, 0.339106337592227, 0.4144633015016108, 0.509294528023927, 0.47011802586824036, 0.9920226130160207, 0.5950215525738248, 0.23800862102952994, 0.019834051752460828, 0.1388383622672258, 0.7163357924884708, 0.19760987378992295, 0.0864543197830913, 0.17696758919475036, 0.07078703567790014, 0.6724768389400514, 0.07078703567790014, 0.2445453198378197, 0.16812490738850105, 0.45852247469591195, 0.12227265991890986, 0.6833226985325659, 0.18636073596342706, 0.1242404906422847, 0.04170488925182576, 0.04170488925182576, 0.9175075635401666, 0.937481413274889, 0.6396309505919759, 0.31981547529598797, 0.9778724635844681, 0.09479319630721969, 0.5687591778433182, 0.2843795889216591, 0.2561837024187036, 0.6831565397832094, 0.4758420341902474, 0.4350555741167976, 0.06797743345574962, 0.02719097338229985, 0.4050642138867129, 0.5569632940942302, 0.8473450330159674, 0.1355752052825548, 0.9726655606570581, 0.017846118889898385, 0.1159997727843395, 0.04461529722474596, 0.4550760316924088, 0.3658454372429169, 0.3754125435668776, 0.30033003485350207, 0.30033003485350207, 0.41923074162891383, 0.4438913734894382, 0.13563347523288388, 0.2832236598932788, 0.6951853470107753, 0.43144114042532433, 0.20709174740415567, 0.20709174740415567, 0.15531881055311675, 0.8459269116022498, 0.09952081312967644, 0.1483385533667706, 0.20396551087930956, 0.35230406424608013, 0.15760971295219375, 0.13906739378134741, 0.8063986887712555, 0.20159967219281388, 0.6585104701346878, 0.24694142630050794, 0.10975174502244797, 0.3691494541986423, 0.46143681774830286, 0.13843104532449085, 0.3761584596298437, 0.6155320248488351, 0.642648397689908, 0.2921129080408673, 0.1386319996902782, 0.7309687256396487, 0.12602909062752563, 0.7646967332580926, 0.22303654720027702, 0.959143114341552, 0.6971004277686995, 0.29626768180169727, 0.1405526017831109, 0.7027630089155545, 0.16866312213973308, 0.7092854845966968, 0.272802109460268, 0.19994104427397694, 0.7997641770959077, 0.37426378913778807, 0.05909428249544022, 0.5712447307892554, 0.3590344086844144, 0.21731029999319817, 0.09448273912747747, 0.018896547825495495, 0.31179303912067563, 0.9447111131046373, 0.02376563443375799, 0.2733047959882169, 0.48719550589203875, 0.20200789268694289, 0.1429632744196094, 0.8577796465176565, 0.39977178881489417, 0.5711025554498488, 0.9857652949906379, 0.043920797032009525, 0.3660066419334127, 0.2928053135467302, 0.3074455792240667, 0.6276467591377369, 0.3399753278662742, 0.9705999826945682, 0.9420205087486948, 0.1084996154590096, 0.813747115942572, 0.9703009832683805, 0.9608406757373863, 0.9425362349914002, 0.944822070885711, 0.05905137943035694, 0.6322356730498998, 0.3161178365249499, 0.4001076963270411, 0.5715824233243444, 0.6090157864317267, 0.39586026118062234, 0.4245647841736989, 0.5660863788982652, 0.34363537842617325, 0.6247915971384969, 0.9324437047470912, 0.042383804761231415, 0.9206813208150993, 0.0800592452882695, 0.10269027598207234, 0.898539914843133, 0.3239419170015911, 0.6478838340031822, 0.576066038617662, 0.39604540154964263, 0.23798672477321106, 0.23798672477321106, 0.5192437631415514, 0.3125303413047653, 0.6641269752726262, 0.5913904734684923, 0.06571005260761024, 0.262840210430441, 0.4085855256575511, 0.03142965581981162, 0.18857793491886973, 0.37715586983773947, 0.18152858302376393, 0.449875184015415, 0.15785094175979472, 0.2130987713757229, 0.07974964854640317, 0.2591863577758103, 0.1993741213660079, 0.4585604791418182, 0.37240618892451743, 0.6051600570023409, 0.5357395388884963, 0.4533180713671892, 0.9846428469621638, 0.11224444014374314, 0.11224444014374314, 0.35918220845997806, 0.02244888802874863, 0.3816310964887267, 0.9533732220755051, 0.18000941123256647, 0.5400282336976994, 0.3000156853876108, 0.14811957170726026, 0.592478286829041, 0.24686595284543378, 0.050290540977654966, 0.016763513659218323, 0.2179256775698382, 0.7040675736871695, 0.1204731908482444, 0.7629968753722146, 0.10039432570687033, 0.29261315128787696, 0.14630657564393848, 0.2527113579304392, 0.30591374907368957, 0.9806307699886684, 0.06772952745202228, 0.2709181098080891, 0.6095657470682004, 0.9852292699050429, 0.22771980392469543, 0.7742473333439645, 0.3220128921665507, 0.5060202591188654, 0.13800552521423604, 0.1413643882291194, 0.8279914167705564, 0.10714997886521482, 0.8571998309217186, 0.9555921687816029, 0.9268321019886978, 0.051490672332705434, 0.8511702757649434, 0.1473179323439325, 0.7278667081855352, 0.05901621958261097, 0.13770451235942557, 0.07868829277681462, 0.1971758707303095, 0.788703482921238, 0.3641050116055558, 0.6189785197294448, 0.03616143596306244, 0.7955515911873737, 0.14464574385224976, 0.7335711012721675, 0.22326076995239882, 0.03189439570748554, 0.8090497923772232, 0.13484163206287053, 0.5493693652112549, 0.422591819393273, 0.9876885402623281, 0.3539907955651889, 0.050570113652169846, 0.5562712501738684, 0.6460968993364697, 0.32304844966823487, 0.10609107974105941, 0.3713187790937079, 0.2652276993526485, 0.2334003754303307, 0.021218215948211883, 0.7293879955961965, 0.26339010952084874, 0.06536833018916977, 0.5883149717025279, 0.3268416509458489, 0.7520058107856424, 0.25066860359521415, 0.33848190925182203, 0.2820682577098517, 0.3948955607937924, 0.9698717914137965, 0.19709518488037403, 0.7883807395214961, 0.5129779822296572, 0.4616801840066914, 0.6786755512668613, 0.2827814796945255, 0.7316194482663537, 0.06738600181400627, 0.13477200362801253, 0.05775943012629108, 0.6387888415326, 0.34220830796389284, 0.023342277376443385, 0.11671138688221692, 0.21008049638799045, 0.6535837665404147, 0.21904438020301154, 0.7788244629440411, 0.9399087427514919, 0.8580878601721733, 0.10095151296143215, 0.023264512163588283, 0.5583482919261188, 0.3489676824538242, 0.06979353649076485, 0.949532736529111, 0.8632239967057739, 0.0863223996705774, 0.9587614877110608, 0.9495981034134894, 0.46662448412583274, 0.46662448412583274, 0.9692146537579155, 0.03273923570350727, 0.4583492998491018, 0.03273923570350727, 0.4583492998491018, 0.9825369064647081, 0.34880865423894003, 0.54812788523262, 0.04982980774842, 0.04982980774842, 0.9742900400547783, 0.9513108263416415, 0.060619011274272785, 0.3637140676456367, 0.5455711014684551, 0.21087659758775404, 0.3374025561404065, 0.4639285146930589, 0.08836205585253336, 0.2945401861751112, 0.5890803723502224, 0.9853752389728722, 0.9237322892438594, 0.057733268077741214, 0.44949842666848805, 0.21497750840666818, 0.2931511478272748, 0.02931511478272748, 0.07611921962533406, 0.9134306355040087, 0.3951260036427347, 0.1455727381841654, 0.0831844218195231, 0.37432989818785395, 0.7608902177168825, 0.22192631350075737, 0.9719882140360956, 0.02478711027358581, 0.29744532328302975, 0.14872266164151487, 0.520529315745302, 0.1995130795487032, 0.748174048307637, 0.9801067610578821], \"Term\": [\"1\", \"1\", \"1\", \"2\", \"2\", \"2\", \"2\", \"60\", \"60\", \"accessible\", \"accessible\", \"active\", \"active\", \"advance\", \"age\", \"age\", \"alignment\", \"alignment\", \"allow\", \"allow\", \"always\", \"always\", \"appropriate\", \"appropriate\", \"arm\", \"asanas\", \"asanas\", \"asanas\", \"awareness\", \"awareness\", \"awareness\", \"awareness\", \"back\", \"back\", \"back\", \"back\", \"balance\", \"balance\", \"balance\", \"balance\", \"basic\", \"basic\", \"basic\", \"become\", \"become\", \"beginners\", \"beginners\", \"beginners\", \"beginners\", \"benefit\", \"benefit\", \"blanket\", \"blanket\", \"blend\", \"blend\", \"block\", \"block\", \"bolster\", \"bolster\", \"breath\", \"breath\", \"breath\", \"breath\", \"breathe\", \"breathe\", \"breathe\", \"build\", \"build\", \"build\", \"calm\", \"calm\", \"center\", \"center\", \"challenge\", \"challenge\", \"circulation\", \"come\", \"come\", \"come\", \"come\", \"connect\", \"connect\", \"connect\", \"connective\", \"connective\", \"core\", \"create\", \"create\", \"create\", \"create\", \"deep\", \"deep\", \"deep\", \"deeper\", \"deeper\", \"deeper\", \"deeper\", \"design\", \"design\", \"design\", \"design\", \"different\", \"different\", \"different\", \"emotional\", \"emotional\", \"emotional\", \"emphasize\", \"encourage\", \"encourage\", \"end\", \"energetic\", \"energetic\", \"energetic\", \"energize\", \"energize\", \"energy\", \"energy\", \"energy\", \"energy\", \"enhance\", \"enhance\", \"entire\", \"entire\", \"expect\", \"experience\", \"experience\", \"experience\", \"experience\", \"experience\", \"explore\", \"explore\", \"explore\", \"feel\", \"feel\", \"feel\", \"find\", \"find\", \"flexibility\", \"flexibility\", \"flexibility\", \"flexibility\", \"floor\", \"floor\", \"focus\", \"focus\", \"focus\", \"focus\", \"focus\", \"follow\", \"follow\", \"form\", \"form\", \"form\", \"foundational\", \"foundational\", \"foundational\", \"full\", \"full\", \"fun\", \"fun\", \"gentle\", \"gentle\", \"gentle\", \"great\", \"great\", \"group\", \"guide\", \"guide\", \"heal\", \"heal\", \"heal\", \"health\", \"health\", \"heart\", \"heart\", \"heat\", \"heat\", \"heat\", \"help\", \"help\", \"help\", \"help\", \"help\", \"high\", \"hold\", \"hold\", \"hold\", \"hold\", \"hour\", \"hour\", \"impact\", \"impact\", \"improve\", \"include\", \"include\", \"include\", \"include\", \"incorporate\", \"incorporate\", \"increase\", \"injury\", \"inspire\", \"inspire\", \"intensity\", \"inversions\", \"invigorate\", \"join\", \"join\", \"joint\", \"joint\", \"journey\", \"journey\", \"know\", \"know\", \"lead\", \"lead\", \"life\", \"life\", \"link\", \"link\", \"live\", \"live\", \"long\", \"long\", \"longer\", \"longer\", \"look\", \"look\", \"make\", \"make\", \"make\", \"mean\", \"mean\", \"meditative\", \"meditative\", \"meditative\", \"mental\", \"mental\", \"mental\", \"mental\", \"mind\", \"mind\", \"mind\", \"mind\", \"minutes\", \"minutes\", \"minutes\", \"minutes\", \"mix\", \"mix\", \"modifications\", \"modifications\", \"muscle\", \"need\", \"need\", \"need\", \"need\", \"need\", \"nervous\", \"next\", \"next\", \"next\", \"opportunity\", \"opportunity\", \"opportunity\", \"pace\", \"pace\", \"pace\", \"pace\", \"perfect\", \"perfect\", \"perfect\", \"physical\", \"physical\", \"physical\", \"physical\", \"pilates\", \"place\", \"place\", \"place\", \"power\", \"practitioners\", \"practitioners\", \"prepare\", \"prepare\", \"prepare\", \"prop\", \"prop\", \"recover\", \"recover\", \"reduce\", \"rejuvenate\", \"rejuvenate\", \"relax\", \"relax\", \"relaxation\", \"relaxation\", \"relaxation\", \"relaxation\", \"release\", \"release\", \"require\", \"require\", \"rest\", \"rest\", \"rest\", \"restorative\", \"restorative\", \"restorative\", \"restore\", \"restore\", \"result\", \"result\", \"safe\", \"seat\", \"seat\", \"seat\", \"self\", \"self\", \"sequence\", \"sequence\", \"sequence\", \"sequence\", \"sequence\", \"slow\", \"slow\", \"slower\", \"slower\", \"slower\", \"sound\", \"sound\", \"spirit\", \"spirit\", \"spirit\", \"spiritual\", \"stand\", \"stand\", \"state\", \"state\", \"steady\", \"steady\", \"strength\", \"strength\", \"strength\", \"strength\", \"strengthen\", \"strengthen\", \"stress\", \"stress\", \"stress\", \"stress\", \"stretch\", \"stretch\", \"strong\", \"studio\", \"studio\", \"support\", \"support\", \"support\", \"support\", \"sweat\", \"technique\", \"technique\", \"techniques\", \"tension\", \"throughout\", \"throughout\", \"tissue\", \"together\", \"together\", \"together\", \"together\", \"tone\", \"traditional\", \"traditional\", \"traditional\", \"traditional\", \"train\", \"transition\", \"two\", \"two\", \"two\", \"type\", \"type\", \"type\", \"understand\", \"understand\", \"understand\", \"unique\", \"us\", \"us\", \"use\", \"use\", \"use\", \"use\", \"want\", \"want\", \"way\", \"way\", \"way\", \"way\", \"week\", \"week\", \"weight\", \"well\", \"well\", \"well\", \"well\", \"within\", \"within\", \"workout\"]}, \"R\": 30, \"lambda.step\": 0.01, \"plot.opts\": {\"xlab\": \"PC1\", \"ylab\": \"PC2\"}, \"topic.order\": [5, 3, 4, 1, 2]};\n",
              "\n",
              "function LDAvis_load_lib(url, callback){\n",
              "  var s = document.createElement('script');\n",
              "  s.src = url;\n",
              "  s.async = true;\n",
              "  s.onreadystatechange = s.onload = callback;\n",
              "  s.onerror = function(){console.warn(\"failed to load library \" + url);};\n",
              "  document.getElementsByTagName(\"head\")[0].appendChild(s);\n",
              "}\n",
              "\n",
              "if(typeof(LDAvis) !== \"undefined\"){\n",
              "   // already loaded: just create the visualization\n",
              "   !function(LDAvis){\n",
              "       new LDAvis(\"#\" + \"ldavis_el3671362330248585769602870694\", ldavis_el3671362330248585769602870694_data);\n",
              "   }(LDAvis);\n",
              "}else if(typeof define === \"function\" && define.amd){\n",
              "   // require.js is available: use it to load d3/LDAvis\n",
              "   require.config({paths: {d3: \"https://cdnjs.cloudflare.com/ajax/libs/d3/3.5.5/d3.min\"}});\n",
              "   require([\"d3\"], function(d3){\n",
              "      window.d3 = d3;\n",
              "      LDAvis_load_lib(\"https://cdn.rawgit.com/bmabey/pyLDAvis/files/ldavis.v1.0.0.js\", function(){\n",
              "        new LDAvis(\"#\" + \"ldavis_el3671362330248585769602870694\", ldavis_el3671362330248585769602870694_data);\n",
              "      });\n",
              "    });\n",
              "}else{\n",
              "    // require.js not available: dynamically load d3 & LDAvis\n",
              "    LDAvis_load_lib(\"https://cdnjs.cloudflare.com/ajax/libs/d3/3.5.5/d3.min.js\", function(){\n",
              "         LDAvis_load_lib(\"https://cdn.rawgit.com/bmabey/pyLDAvis/files/ldavis.v1.0.0.js\", function(){\n",
              "                 new LDAvis(\"#\" + \"ldavis_el3671362330248585769602870694\", ldavis_el3671362330248585769602870694_data);\n",
              "            })\n",
              "         });\n",
              "}\n",
              "</script>"
            ]
          },
          "metadata": {},
          "execution_count": 17
        }
      ]
    },
    {
      "cell_type": "code",
      "source": [
        "pyLDAvis.save_html(LDAvis_prepared, 'lda.html')"
      ],
      "metadata": {
        "colab": {
          "base_uri": "https://localhost:8080/"
        },
        "id": "FWLQ3P7nqPSs",
        "outputId": "ac5cbb6e-babd-4b30-e2cf-8f3a120cd28a"
      },
      "execution_count": 18,
      "outputs": [
        {
          "output_type": "stream",
          "name": "stderr",
          "text": [
            "/usr/local/lib/python3.10/dist-packages/ipykernel/ipkernel.py:283: DeprecationWarning:\n",
            "\n",
            "`should_run_async` will not call `transform_cell` automatically in the future. Please pass the result to `transformed_cell` argument and any exception that happen during thetransform in `preprocessing_exc_tuple` in IPython 7.17 and above.\n",
            "\n"
          ]
        }
      ]
    },
    {
      "cell_type": "markdown",
      "source": [
        "Topics detection and description:\n",
        "\n",
        "1. Topic 1. Coherence - 0.43. Tokens - 18%. **Balance and Alignment**.\n",
        "It is the fourth biggest topic. It is close to the third one both in terms of distance and the size. These practices focus on finding BALANCE, it is both about body and mind. It is ALIGNMENT. Such words as INVERSIONS, ARM, SEQUENCE let us think that those are advanced traditional practices focusing on full body core improvement and inner peace and balance.\n",
        "\n",
        "2. Topic 2. Coherence - 0.33. Tokens - 13%. **Stress Relief/Breath Techniques**.\n",
        "The fifth biggest topic is the farthest from all the others on the Intertopic Distance Map. It also has the smallest topic coherence and size. These practices seem to be intended for STRESS relief and involve more mind and breath practices rather that body.\n",
        "\n",
        "3. Topic 3. Coherence - 0.38. Tokens - 24.7%. **Deep Relaxation/Mind Practice**\n",
        "It is the second biggest topic, of almost the same N of tokens as the 1st one. These classes are about deep relaxation, mind and breath involving. Physical is not relevant\n",
        "\n",
        "4. Topic 4. Coherence - 0.37. Tokens - 18.8%. **Stretch and Release.**\n",
        "These practices primarily focus on stretching. They seem to be aimed to gentle release and involve breathing practices.\n",
        "\n",
        "5. Topic 5. Coherence - 0.51. Tokens - 25.4%. Core and Strength.\n",
        "It is the biggest topic in the dataset. These classes clearly focus on physical strength of body. Aimed to MUSCLE, STRENGTH, CORE improvement.\n",
        "\n",
        "\n",
        "The topics coherence and the size are correlated. The bigger the size, the bigger the coherence."
      ],
      "metadata": {
        "id": "IB76OLySu9r5"
      }
    },
    {
      "cell_type": "code",
      "source": [
        "coherence_model_lda = coherence_model_list[3]\n",
        "plot_topics_coherence_lda(coherence_model_lda)"
      ],
      "metadata": {
        "colab": {
          "base_uri": "https://localhost:8080/",
          "height": 656
        },
        "id": "0A0nu0pRux9Q",
        "outputId": "bbc84ab4-fa84-4edf-b127-e9018f4563c6"
      },
      "execution_count": 19,
      "outputs": [
        {
          "output_type": "stream",
          "name": "stderr",
          "text": [
            "/usr/local/lib/python3.10/dist-packages/ipykernel/ipkernel.py:283: DeprecationWarning:\n",
            "\n",
            "`should_run_async` will not call `transform_cell` automatically in the future. Please pass the result to `transformed_cell` argument and any exception that happen during thetransform in `preprocessing_exc_tuple` in IPython 7.17 and above.\n",
            "\n"
          ]
        },
        {
          "output_type": "display_data",
          "data": {
            "text/plain": [
              "<Figure size 200x600 with 2 Axes>"
            ],
            "image/png": "[encoded data removed]"
          },
          "metadata": {}
        }
      ]
    },
    {
      "cell_type": "markdown",
      "source": [
        "### Save data features\n"
      ],
      "metadata": {
        "id": "PXOEhLUavCUX"
      }
    },
    {
      "cell_type": "markdown",
      "source": [
        "Prepare dataset for network analysis step"
      ],
      "metadata": {
        "id": "S32Ca68nNgWV"
      }
    },
    {
      "cell_type": "code",
      "source": [
        "# select words with probability of occurence within each topic >= 0.01: for Network 1\n",
        "\n",
        "top_words_per_topic = [(topic[0], [i for i in topic[1] if i[1] >= 0.01]) for topic in lda_model.show_topics(formatted=False, num_topics=5, num_words=100)]\n",
        "top_words_per_topic = [[w for w in t[1]] for t in top_words_per_topic]\n",
        "\n",
        "# to dataframe\n",
        "df_topic_keywords = pd.DataFrame(top_words_per_topic)\n",
        "df_topic_keywords.columns = ['Word '+str(i) for i in range(df_topic_keywords.shape[1])]\n",
        "df_topic_keywords.index = ['Topic '+str(i) for i in range(df_topic_keywords.shape[0])]\n",
        "\n",
        "topics_names = ['Balance and Alignment','Stress Relief/Breath Techniques','Deep Relaxation/Mind Practice','Stretch and Release','Core and Strength']\n",
        "df_topic_keywords['topic_theme'] = topics_names\n",
        "\n",
        "df_topic_keywords"
      ],
      "metadata": {
        "colab": {
          "base_uri": "https://localhost:8080/",
          "height": 0
        },
        "id": "5MZFB1ZGuyAE",
        "outputId": "98b71b5c-740b-482d-9c5c-8509d8a44d5a"
      },
      "execution_count": 20,
      "outputs": [
        {
          "output_type": "stream",
          "name": "stderr",
          "text": [
            "/usr/local/lib/python3.10/dist-packages/ipykernel/ipkernel.py:283: DeprecationWarning:\n",
            "\n",
            "`should_run_async` will not call `transform_cell` automatically in the future. Please pass the result to `transformed_cell` argument and any exception that happen during thetransform in `preprocessing_exc_tuple` in IPython 7.17 and above.\n",
            "\n"
          ]
        },
        {
          "output_type": "execute_result",
          "data": {
            "text/plain": [
              "                         Word 0                     Word 1  \\\n",
              "Topic 0  (balance, 0.046918686)    (experience, 0.0400653)   \n",
              "Topic 1  (breathe, 0.050553776)  (experience, 0.044586655)   \n",
              "Topic 2     (deep, 0.033311885)         (mind, 0.03258455)   \n",
              "Topic 3   (stretch, 0.04796699)       (gentle, 0.04410061)   \n",
              "Topic 4   (muscle, 0.046712667)     (strength, 0.04260337)   \n",
              "\n",
              "                         Word 2                     Word 3  \\\n",
              "Topic 0     (pace, 0.032944515)      (expect, 0.029195547)   \n",
              "Topic 1     (help, 0.036087126)  (techniques, 0.034341395)   \n",
              "Topic 2    (relax, 0.029688084)      (breath, 0.029414568)   \n",
              "Topic 3  (release, 0.036043968)       (breath, 0.03367957)   \n",
              "Topic 4      (core, 0.02775268)     (improve, 0.026780404)   \n",
              "\n",
              "                               Word 4                  Word 5  \\\n",
              "Topic 0  (practitioners, 0.026495256)  (advance, 0.025884261)   \n",
              "Topic 1         (stress, 0.031036934)     (safe, 0.030042244)   \n",
              "Topic 2    (restorative, 0.026617585)    (guide, 0.022877079)   \n",
              "Topic 3           (prop, 0.031269006)     (hold, 0.031211577)   \n",
              "Topic 4            (use, 0.025773464)    (build, 0.021930913)   \n",
              "\n",
              "                         Word 6                    Word 7  \\\n",
              "Topic 0   (design, 0.023716308)  (alignment, 0.023432797)   \n",
              "Topic 1      (mind, 0.02982293)        (find, 0.02921227)   \n",
              "Topic 2  (perfect, 0.022086388)      (allow, 0.022061208)   \n",
              "Topic 3    (focus, 0.028890774)        (use, 0.022997575)   \n",
              "Topic 4   (balance, 0.02182767)    (workout, 0.021816202)   \n",
              "\n",
              "                            Word 8                   Word 9  ...  \\\n",
              "Topic 0  (inversions, 0.023160363)       (heat, 0.02258218)  ...   \n",
              "Topic 1          (make, 0.0264235)  (physical, 0.025297947)  ...   \n",
              "Topic 2   (relaxation, 0.02136961)      (slow, 0.020773262)  ...   \n",
              "Topic 3   (alignment, 0.021473944)  (challenge, 0.02078411)  ...   \n",
              "Topic 4         (help, 0.02149756)     (train, 0.021372743)  ...   \n",
              "\n",
              "                       Word 34                    Word 35  \\\n",
              "Topic 0  (strong, 0.011054984)  (invigorate, 0.010218614)   \n",
              "Topic 1     (back, 0.01109406)     (journey, 0.011027078)   \n",
              "Topic 2    (know, 0.011261524)         (end, 0.011242435)   \n",
              "Topic 3                   None                       None   \n",
              "Topic 4                   None                       None   \n",
              "\n",
              "                           Word 36                 Word 37  \\\n",
              "Topic 0         (mix, 0.010045802)                    None   \n",
              "Topic 1      (result, 0.010706896)   (gentle, 0.010645721)   \n",
              "Topic 2  (awareness, 0.0111066615)  (combine, 0.011028186)   \n",
              "Topic 3                       None                    None   \n",
              "Topic 4                       None                    None   \n",
              "\n",
              "                           Word 38                 Word 39  \\\n",
              "Topic 0                       None                    None   \n",
              "Topic 1  (accessible, 0.010088943)      (two, 0.010036967)   \n",
              "Topic 2         (way, 0.010874372)  (restore, 0.010556864)   \n",
              "Topic 3                       None                    None   \n",
              "Topic 4                       None                    None   \n",
              "\n",
              "                           Word 40                 Word 41  \\\n",
              "Topic 0                       None                    None   \n",
              "Topic 1                       None                    None   \n",
              "Topic 2  (rejuvenate, 0.010138574)  (dynamic, 0.010121598)   \n",
              "Topic 3                       None                    None   \n",
              "Topic 4                       None                    None   \n",
              "\n",
              "                      Word 42                      topic_theme  \n",
              "Topic 0                  None            Balance and Alignment  \n",
              "Topic 1                  None  Stress Relief/Breath Techniques  \n",
              "Topic 2  (bring, 0.010018758)    Deep Relaxation/Mind Practice  \n",
              "Topic 3                  None              Stretch and Release  \n",
              "Topic 4                  None                Core and Strength  \n",
              "\n",
              "[5 rows x 44 columns]"
            ],
            "text/html": [
              "\n",
              "  <div id=\"df-eae46913-1021-4297-910c-47f25c17a07a\" class=\"colab-df-container\">\n",
              "    <div>\n",
              "<style scoped>\n",
              "    .dataframe tbody tr th:only-of-type {\n",
              "        vertical-align: middle;\n",
              "    }\n",
              "\n",
              "    .dataframe tbody tr th {\n",
              "        vertical-align: top;\n",
              "    }\n",
              "\n",
              "    .dataframe thead th {\n",
              "        text-align: right;\n",
              "    }\n",
              "</style>\n",
              "<table border=\"1\" class=\"dataframe\">\n",
              "  <thead>\n",
              "    <tr style=\"text-align: right;\">\n",
              "      <th></th>\n",
              "      <th>Word 0</th>\n",
              "      <th>Word 1</th>\n",
              "      <th>Word 2</th>\n",
              "      <th>Word 3</th>\n",
              "      <th>Word 4</th>\n",
              "      <th>Word 5</th>\n",
              "      <th>Word 6</th>\n",
              "      <th>Word 7</th>\n",
              "      <th>Word 8</th>\n",
              "      <th>Word 9</th>\n",
              "      <th>...</th>\n",
              "      <th>Word 34</th>\n",
              "      <th>Word 35</th>\n",
              "      <th>Word 36</th>\n",
              "      <th>Word 37</th>\n",
              "      <th>Word 38</th>\n",
              "      <th>Word 39</th>\n",
              "      <th>Word 40</th>\n",
              "      <th>Word 41</th>\n",
              "      <th>Word 42</th>\n",
              "      <th>topic_theme</th>\n",
              "    </tr>\n",
              "  </thead>\n",
              "  <tbody>\n",
              "    <tr>\n",
              "      <th>Topic 0</th>\n",
              "      <td>(balance, 0.046918686)</td>\n",
              "      <td>(experience, 0.0400653)</td>\n",
              "      <td>(pace, 0.032944515)</td>\n",
              "      <td>(expect, 0.029195547)</td>\n",
              "      <td>(practitioners, 0.026495256)</td>\n",
              "      <td>(advance, 0.025884261)</td>\n",
              "      <td>(design, 0.023716308)</td>\n",
              "      <td>(alignment, 0.023432797)</td>\n",
              "      <td>(inversions, 0.023160363)</td>\n",
              "      <td>(heat, 0.02258218)</td>\n",
              "      <td>...</td>\n",
              "      <td>(strong, 0.011054984)</td>\n",
              "      <td>(invigorate, 0.010218614)</td>\n",
              "      <td>(mix, 0.010045802)</td>\n",
              "      <td>None</td>\n",
              "      <td>None</td>\n",
              "      <td>None</td>\n",
              "      <td>None</td>\n",
              "      <td>None</td>\n",
              "      <td>None</td>\n",
              "      <td>Balance and Alignment</td>\n",
              "    </tr>\n",
              "    <tr>\n",
              "      <th>Topic 1</th>\n",
              "      <td>(breathe, 0.050553776)</td>\n",
              "      <td>(experience, 0.044586655)</td>\n",
              "      <td>(help, 0.036087126)</td>\n",
              "      <td>(techniques, 0.034341395)</td>\n",
              "      <td>(stress, 0.031036934)</td>\n",
              "      <td>(safe, 0.030042244)</td>\n",
              "      <td>(mind, 0.02982293)</td>\n",
              "      <td>(find, 0.02921227)</td>\n",
              "      <td>(make, 0.0264235)</td>\n",
              "      <td>(physical, 0.025297947)</td>\n",
              "      <td>...</td>\n",
              "      <td>(back, 0.01109406)</td>\n",
              "      <td>(journey, 0.011027078)</td>\n",
              "      <td>(result, 0.010706896)</td>\n",
              "      <td>(gentle, 0.010645721)</td>\n",
              "      <td>(accessible, 0.010088943)</td>\n",
              "      <td>(two, 0.010036967)</td>\n",
              "      <td>None</td>\n",
              "      <td>None</td>\n",
              "      <td>None</td>\n",
              "      <td>Stress Relief/Breath Techniques</td>\n",
              "    </tr>\n",
              "    <tr>\n",
              "      <th>Topic 2</th>\n",
              "      <td>(deep, 0.033311885)</td>\n",
              "      <td>(mind, 0.03258455)</td>\n",
              "      <td>(relax, 0.029688084)</td>\n",
              "      <td>(breath, 0.029414568)</td>\n",
              "      <td>(restorative, 0.026617585)</td>\n",
              "      <td>(guide, 0.022877079)</td>\n",
              "      <td>(perfect, 0.022086388)</td>\n",
              "      <td>(allow, 0.022061208)</td>\n",
              "      <td>(relaxation, 0.02136961)</td>\n",
              "      <td>(slow, 0.020773262)</td>\n",
              "      <td>...</td>\n",
              "      <td>(know, 0.011261524)</td>\n",
              "      <td>(end, 0.011242435)</td>\n",
              "      <td>(awareness, 0.0111066615)</td>\n",
              "      <td>(combine, 0.011028186)</td>\n",
              "      <td>(way, 0.010874372)</td>\n",
              "      <td>(restore, 0.010556864)</td>\n",
              "      <td>(rejuvenate, 0.010138574)</td>\n",
              "      <td>(dynamic, 0.010121598)</td>\n",
              "      <td>(bring, 0.010018758)</td>\n",
              "      <td>Deep Relaxation/Mind Practice</td>\n",
              "    </tr>\n",
              "    <tr>\n",
              "      <th>Topic 3</th>\n",
              "      <td>(stretch, 0.04796699)</td>\n",
              "      <td>(gentle, 0.04410061)</td>\n",
              "      <td>(release, 0.036043968)</td>\n",
              "      <td>(breath, 0.03367957)</td>\n",
              "      <td>(prop, 0.031269006)</td>\n",
              "      <td>(hold, 0.031211577)</td>\n",
              "      <td>(focus, 0.028890774)</td>\n",
              "      <td>(use, 0.022997575)</td>\n",
              "      <td>(alignment, 0.021473944)</td>\n",
              "      <td>(challenge, 0.02078411)</td>\n",
              "      <td>...</td>\n",
              "      <td>None</td>\n",
              "      <td>None</td>\n",
              "      <td>None</td>\n",
              "      <td>None</td>\n",
              "      <td>None</td>\n",
              "      <td>None</td>\n",
              "      <td>None</td>\n",
              "      <td>None</td>\n",
              "      <td>None</td>\n",
              "      <td>Stretch and Release</td>\n",
              "    </tr>\n",
              "    <tr>\n",
              "      <th>Topic 4</th>\n",
              "      <td>(muscle, 0.046712667)</td>\n",
              "      <td>(strength, 0.04260337)</td>\n",
              "      <td>(core, 0.02775268)</td>\n",
              "      <td>(improve, 0.026780404)</td>\n",
              "      <td>(use, 0.025773464)</td>\n",
              "      <td>(build, 0.021930913)</td>\n",
              "      <td>(balance, 0.02182767)</td>\n",
              "      <td>(workout, 0.021816202)</td>\n",
              "      <td>(help, 0.02149756)</td>\n",
              "      <td>(train, 0.021372743)</td>\n",
              "      <td>...</td>\n",
              "      <td>None</td>\n",
              "      <td>None</td>\n",
              "      <td>None</td>\n",
              "      <td>None</td>\n",
              "      <td>None</td>\n",
              "      <td>None</td>\n",
              "      <td>None</td>\n",
              "      <td>None</td>\n",
              "      <td>None</td>\n",
              "      <td>Core and Strength</td>\n",
              "    </tr>\n",
              "  </tbody>\n",
              "</table>\n",
              "<p>5 rows × 44 columns</p>\n",
              "</div>\n",
              "    <div class=\"colab-df-buttons\">\n",
              "\n",
              "  <div class=\"colab-df-container\">\n",
              "    <button class=\"colab-df-convert\" onclick=\"convertToInteractive('df-eae46913-1021-4297-910c-47f25c17a07a')\"\n",
              "            title=\"Convert this dataframe to an interactive table.\"\n",
              "            style=\"display:none;\">\n",
              "\n",
              "  <svg xmlns=\"http://www.w3.org/2000/svg\" height=\"24px\" viewBox=\"0 -960 960 960\">\n",
              "    <path d=\"M120-120v-720h720v720H120Zm60-500h600v-160H180v160Zm220 220h160v-160H400v160Zm0 220h160v-160H400v160ZM180-400h160v-160H180v160Zm440 0h160v-160H620v160ZM180-180h160v-160H180v160Zm440 0h160v-160H620v160Z\"/>\n",
              "  </svg>\n",
              "    </button>\n",
              "\n",
              "  <style>\n",
              "    .colab-df-container {\n",
              "      display:flex;\n",
              "      gap: 12px;\n",
              "    }\n",
              "\n",
              "    .colab-df-convert {\n",
              "      background-color: #E8F0FE;\n",
              "      border: none;\n",
              "      border-radius: 50%;\n",
              "      cursor: pointer;\n",
              "      display: none;\n",
              "      fill: #1967D2;\n",
              "      height: 32px;\n",
              "      padding: 0 0 0 0;\n",
              "      width: 32px;\n",
              "    }\n",
              "\n",
              "    .colab-df-convert:hover {\n",
              "      background-color: #E2EBFA;\n",
              "      box-shadow: 0px 1px 2px rgba(60, 64, 67, 0.3), 0px 1px 3px 1px rgba(60, 64, 67, 0.15);\n",
              "      fill: #174EA6;\n",
              "    }\n",
              "\n",
              "    .colab-df-buttons div {\n",
              "      margin-bottom: 4px;\n",
              "    }\n",
              "\n",
              "    [theme=dark] .colab-df-convert {\n",
              "      background-color: #3B4455;\n",
              "      fill: #D2E3FC;\n",
              "    }\n",
              "\n",
              "    [theme=dark] .colab-df-convert:hover {\n",
              "      background-color: #434B5C;\n",
              "      box-shadow: 0px 1px 3px 1px rgba(0, 0, 0, 0.15);\n",
              "      filter: drop-shadow(0px 1px 2px rgba(0, 0, 0, 0.3));\n",
              "      fill: #FFFFFF;\n",
              "    }\n",
              "  </style>\n",
              "\n",
              "    <script>\n",
              "      const buttonEl =\n",
              "        document.querySelector('#df-eae46913-1021-4297-910c-47f25c17a07a button.colab-df-convert');\n",
              "      buttonEl.style.display =\n",
              "        google.colab.kernel.accessAllowed ? 'block' : 'none';\n",
              "\n",
              "      async function convertToInteractive(key) {\n",
              "        const element = document.querySelector('#df-eae46913-1021-4297-910c-47f25c17a07a');\n",
              "        const dataTable =\n",
              "          await google.colab.kernel.invokeFunction('convertToInteractive',\n",
              "                                                    [key], {});\n",
              "        if (!dataTable) return;\n",
              "\n",
              "        const docLinkHtml = 'Like what you see? Visit the ' +\n",
              "          '<a target=\"_blank\" href=https://colab.research.google.com/notebooks/data_table.ipynb>data table notebook</a>'\n",
              "          + ' to learn more about interactive tables.';\n",
              "        element.innerHTML = '';\n",
              "        dataTable['output_type'] = 'display_data';\n",
              "        await google.colab.output.renderOutput(dataTable, element);\n",
              "        const docLink = document.createElement('div');\n",
              "        docLink.innerHTML = docLinkHtml;\n",
              "        element.appendChild(docLink);\n",
              "      }\n",
              "    </script>\n",
              "  </div>\n",
              "\n",
              "\n",
              "<div id=\"df-e1749f3a-4788-4cd1-9d93-25f705b6ea5d\">\n",
              "  <button class=\"colab-df-quickchart\" onclick=\"quickchart('df-e1749f3a-4788-4cd1-9d93-25f705b6ea5d')\"\n",
              "            title=\"Suggest charts.\"\n",
              "            style=\"display:none;\">\n",
              "\n",
              "<svg xmlns=\"http://www.w3.org/2000/svg\" height=\"24px\"viewBox=\"0 0 24 24\"\n",
              "     width=\"24px\">\n",
              "    <g>\n",
              "        <path d=\"M19 3H5c-1.1 0-2 .9-2 2v14c0 1.1.9 2 2 2h14c1.1 0 2-.9 2-2V5c0-1.1-.9-2-2-2zM9 17H7v-7h2v7zm4 0h-2V7h2v10zm4 0h-2v-4h2v4z\"/>\n",
              "    </g>\n",
              "</svg>\n",
              "  </button>\n",
              "\n",
              "<style>\n",
              "  .colab-df-quickchart {\n",
              "      --bg-color: #E8F0FE;\n",
              "      --fill-color: #1967D2;\n",
              "      --hover-bg-color: #E2EBFA;\n",
              "      --hover-fill-color: #174EA6;\n",
              "      --disabled-fill-color: #AAA;\n",
              "      --disabled-bg-color: #DDD;\n",
              "  }\n",
              "\n",
              "  [theme=dark] .colab-df-quickchart {\n",
              "      --bg-color: #3B4455;\n",
              "      --fill-color: #D2E3FC;\n",
              "      --hover-bg-color: #434B5C;\n",
              "      --hover-fill-color: #FFFFFF;\n",
              "      --disabled-bg-color: #3B4455;\n",
              "      --disabled-fill-color: #666;\n",
              "  }\n",
              "\n",
              "  .colab-df-quickchart {\n",
              "    background-color: var(--bg-color);\n",
              "    border: none;\n",
              "    border-radius: 50%;\n",
              "    cursor: pointer;\n",
              "    display: none;\n",
              "    fill: var(--fill-color);\n",
              "    height: 32px;\n",
              "    padding: 0;\n",
              "    width: 32px;\n",
              "  }\n",
              "\n",
              "  .colab-df-quickchart:hover {\n",
              "    background-color: var(--hover-bg-color);\n",
              "    box-shadow: 0 1px 2px rgba(60, 64, 67, 0.3), 0 1px 3px 1px rgba(60, 64, 67, 0.15);\n",
              "    fill: var(--button-hover-fill-color);\n",
              "  }\n",
              "\n",
              "  .colab-df-quickchart-complete:disabled,\n",
              "  .colab-df-quickchart-complete:disabled:hover {\n",
              "    background-color: var(--disabled-bg-color);\n",
              "    fill: var(--disabled-fill-color);\n",
              "    box-shadow: none;\n",
              "  }\n",
              "\n",
              "  .colab-df-spinner {\n",
              "    border: 2px solid var(--fill-color);\n",
              "    border-color: transparent;\n",
              "    border-bottom-color: var(--fill-color);\n",
              "    animation:\n",
              "      spin 1s steps(1) infinite;\n",
              "  }\n",
              "\n",
              "  @keyframes spin {\n",
              "    0% {\n",
              "      border-color: transparent;\n",
              "      border-bottom-color: var(--fill-color);\n",
              "      border-left-color: var(--fill-color);\n",
              "    }\n",
              "    20% {\n",
              "      border-color: transparent;\n",
              "      border-left-color: var(--fill-color);\n",
              "      border-top-color: var(--fill-color);\n",
              "    }\n",
              "    30% {\n",
              "      border-color: transparent;\n",
              "      border-left-color: var(--fill-color);\n",
              "      border-top-color: var(--fill-color);\n",
              "      border-right-color: var(--fill-color);\n",
              "    }\n",
              "    40% {\n",
              "      border-color: transparent;\n",
              "      border-right-color: var(--fill-color);\n",
              "      border-top-color: var(--fill-color);\n",
              "    }\n",
              "    60% {\n",
              "      border-color: transparent;\n",
              "      border-right-color: var(--fill-color);\n",
              "    }\n",
              "    80% {\n",
              "      border-color: transparent;\n",
              "      border-right-color: var(--fill-color);\n",
              "      border-bottom-color: var(--fill-color);\n",
              "    }\n",
              "    90% {\n",
              "      border-color: transparent;\n",
              "      border-bottom-color: var(--fill-color);\n",
              "    }\n",
              "  }\n",
              "</style>\n",
              "\n",
              "  <script>\n",
              "    async function quickchart(key) {\n",
              "      const quickchartButtonEl =\n",
              "        document.querySelector('#' + key + ' button');\n",
              "      quickchartButtonEl.disabled = true;  // To prevent multiple clicks.\n",
              "      quickchartButtonEl.classList.add('colab-df-spinner');\n",
              "      try {\n",
              "        const charts = await google.colab.kernel.invokeFunction(\n",
              "            'suggestCharts', [key], {});\n",
              "      } catch (error) {\n",
              "        console.error('Error during call to suggestCharts:', error);\n",
              "      }\n",
              "      quickchartButtonEl.classList.remove('colab-df-spinner');\n",
              "      quickchartButtonEl.classList.add('colab-df-quickchart-complete');\n",
              "    }\n",
              "    (() => {\n",
              "      let quickchartButtonEl =\n",
              "        document.querySelector('#df-e1749f3a-4788-4cd1-9d93-25f705b6ea5d button');\n",
              "      quickchartButtonEl.style.display =\n",
              "        google.colab.kernel.accessAllowed ? 'block' : 'none';\n",
              "    })();\n",
              "  </script>\n",
              "</div>\n",
              "    </div>\n",
              "  </div>\n"
            ]
          },
          "metadata": {},
          "execution_count": 20
        }
      ]
    },
    {
      "cell_type": "code",
      "source": [
        "# save the dataset to csv to enable further inspection\n",
        "df_topic_keywords.to_csv('data/df_topic_keywords.csv')"
      ],
      "metadata": {
        "id": "CFpLZWkIuyFJ",
        "colab": {
          "base_uri": "https://localhost:8080/"
        },
        "outputId": "8c2dee3f-5e1a-4353-a24b-304859c6c04d"
      },
      "execution_count": 21,
      "outputs": [
        {
          "output_type": "stream",
          "name": "stderr",
          "text": [
            "/usr/local/lib/python3.10/dist-packages/ipykernel/ipkernel.py:283: DeprecationWarning:\n",
            "\n",
            "`should_run_async` will not call `transform_cell` automatically in the future. Please pass the result to `transformed_cell` argument and any exception that happen during thetransform in `preprocessing_exc_tuple` in IPython 7.17 and above.\n",
            "\n"
          ]
        }
      ]
    },
    {
      "cell_type": "markdown",
      "source": [
        "Align texts with topics and their probabilities"
      ],
      "metadata": {
        "id": "g5Tt-pRyvfj-"
      }
    },
    {
      "cell_type": "code",
      "source": [
        "# extract probabilities\n",
        "probabilities=[lda_model.get_document_topics(item, minimum_probability=0.0) for item in corpus]\n",
        "topics_prob = [[tupple[1] for tupple in tlist] for tlist in probabilities]"
      ],
      "metadata": {
        "id": "o_J1DjuSuyIM",
        "colab": {
          "base_uri": "https://localhost:8080/"
        },
        "outputId": "64d63957-9a97-4933-aaff-9a2653767310"
      },
      "execution_count": 22,
      "outputs": [
        {
          "output_type": "stream",
          "name": "stderr",
          "text": [
            "/usr/local/lib/python3.10/dist-packages/ipykernel/ipkernel.py:283: DeprecationWarning:\n",
            "\n",
            "`should_run_async` will not call `transform_cell` automatically in the future. Please pass the result to `transformed_cell` argument and any exception that happen during thetransform in `preprocessing_exc_tuple` in IPython 7.17 and above.\n",
            "\n"
          ]
        }
      ]
    },
    {
      "cell_type": "code",
      "source": [
        "docnames = [\"Doc\" + str(i) for i in range(len(df_classes))]\n",
        "df_document_topic = pd.DataFrame(topics_prob, columns=topics_names, index=docnames)\n",
        "\n",
        "# get dominant topic for each document\n",
        "dominant_topic = np.argmax(df_document_topic.values, axis=1)\n",
        "df_document_topic['dominant_topic'] = dominant_topic"
      ],
      "metadata": {
        "id": "NOdj2PX9uspb",
        "colab": {
          "base_uri": "https://localhost:8080/"
        },
        "outputId": "0b72dc57-80fe-407d-8bf8-af658567a2cf"
      },
      "execution_count": 23,
      "outputs": [
        {
          "output_type": "stream",
          "name": "stderr",
          "text": [
            "/usr/local/lib/python3.10/dist-packages/ipykernel/ipkernel.py:283: DeprecationWarning:\n",
            "\n",
            "`should_run_async` will not call `transform_cell` automatically in the future. Please pass the result to `transformed_cell` argument and any exception that happen during thetransform in `preprocessing_exc_tuple` in IPython 7.17 and above.\n",
            "\n"
          ]
        }
      ]
    },
    {
      "cell_type": "code",
      "source": [
        "# merge alignment with main dataframe\n",
        "\n",
        "df_document_topic.reset_index(inplace=True)\n",
        "df_classes_topics= pd.merge(df_classes, df_document_topic, left_index=True, right_index=True)\n",
        "df_classes_topics.drop('index', axis=1, inplace=True)"
      ],
      "metadata": {
        "id": "YY3B60QHussh",
        "colab": {
          "base_uri": "https://localhost:8080/"
        },
        "outputId": "ce3246c2-505e-438f-847d-417667ce0b20"
      },
      "execution_count": 24,
      "outputs": [
        {
          "output_type": "stream",
          "name": "stderr",
          "text": [
            "/usr/local/lib/python3.10/dist-packages/ipykernel/ipkernel.py:283: DeprecationWarning:\n",
            "\n",
            "`should_run_async` will not call `transform_cell` automatically in the future. Please pass the result to `transformed_cell` argument and any exception that happen during thetransform in `preprocessing_exc_tuple` in IPython 7.17 and above.\n",
            "\n"
          ]
        }
      ]
    },
    {
      "cell_type": "code",
      "source": [
        "# match topic number with topic name\n",
        "\n",
        "def label_theme(row):\n",
        "    if row['dominant_topic'] == 0 :\n",
        "        return 'Balance and Alignment'\n",
        "    if row['dominant_topic'] == 1 :\n",
        "        return 'Stress Relief/Breath Techniques'\n",
        "    if row['dominant_topic'] == 2 :\n",
        "        return 'Deep Relaxation/Mind Practice'\n",
        "    if row['dominant_topic'] == 3 :\n",
        "        return 'Stretch and Release'\n",
        "    if row['dominant_topic'] == 4 :\n",
        "        return 'Core and Strength'\n",
        "\n",
        "df_classes_topics['dominant_topic_theme'] = df_classes_topics.apply(lambda row: label_theme(row), axis=1)\n",
        "df_classes_topics.head(3)"
      ],
      "metadata": {
        "colab": {
          "base_uri": "https://localhost:8080/",
          "height": 0
        },
        "id": "fmfZxnFwvkqz",
        "outputId": "dd8ffd76-50d2-41a7-db5d-8f704117f5e0"
      },
      "execution_count": 25,
      "outputs": [
        {
          "output_type": "stream",
          "name": "stderr",
          "text": [
            "/usr/local/lib/python3.10/dist-packages/ipykernel/ipkernel.py:283: DeprecationWarning:\n",
            "\n",
            "`should_run_async` will not call `transform_cell` automatically in the future. Please pass the result to `transformed_cell` argument and any exception that happen during thetransform in `preprocessing_exc_tuple` in IPython 7.17 and above.\n",
            "\n"
          ]
        },
        {
          "output_type": "execute_result",
          "data": {
            "text/plain": [
              "                                   class_description  \\\n",
              "0  These classes use an aerial silk to create pos...   \n",
              "1  Relax your mind and align your body with aeria...   \n",
              "2  Aerial Yoga (Open Level) - this class is for e...   \n",
              "\n",
              "                            cleaned_text_with_styles  \\\n",
              "0  use aerial silk create less gravitational pull...   \n",
              "1  relax mind align body aerial yoga gently guide...   \n",
              "2  aerial yoga exist yoga practitioners aerial ex...   \n",
              "\n",
              "                              cleaned_text_no_styles  Balance and Alignment  \\\n",
              "0  use silk create less gravitational pull body c...               0.029489   \n",
              "1  relax mind align body gently guide elevate ins...               0.120759   \n",
              "2  exist practitioners experience require best ma...               0.673739   \n",
              "\n",
              "   Stress Relief/Breath Techniques  Deep Relaxation/Mind Practice  \\\n",
              "0                         0.182031                       0.028965   \n",
              "1                         0.003898                       0.393930   \n",
              "2                         0.239994                       0.028621   \n",
              "\n",
              "   Stretch and Release  Core and Strength  dominant_topic  \\\n",
              "0             0.029540           0.729975               4   \n",
              "1             0.003922           0.477491               4   \n",
              "2             0.028928           0.028717               0   \n",
              "\n",
              "    dominant_topic_theme  \n",
              "0      Core and Strength  \n",
              "1      Core and Strength  \n",
              "2  Balance and Alignment  "
            ],
            "text/html": [
              "\n",
              "  <div id=\"df-4bbaf23a-dc18-445f-8a1a-d3491bdf4114\" class=\"colab-df-container\">\n",
              "    <div>\n",
              "<style scoped>\n",
              "    .dataframe tbody tr th:only-of-type {\n",
              "        vertical-align: middle;\n",
              "    }\n",
              "\n",
              "    .dataframe tbody tr th {\n",
              "        vertical-align: top;\n",
              "    }\n",
              "\n",
              "    .dataframe thead th {\n",
              "        text-align: right;\n",
              "    }\n",
              "</style>\n",
              "<table border=\"1\" class=\"dataframe\">\n",
              "  <thead>\n",
              "    <tr style=\"text-align: right;\">\n",
              "      <th></th>\n",
              "      <th>class_description</th>\n",
              "      <th>cleaned_text_with_styles</th>\n",
              "      <th>cleaned_text_no_styles</th>\n",
              "      <th>Balance and Alignment</th>\n",
              "      <th>Stress Relief/Breath Techniques</th>\n",
              "      <th>Deep Relaxation/Mind Practice</th>\n",
              "      <th>Stretch and Release</th>\n",
              "      <th>Core and Strength</th>\n",
              "      <th>dominant_topic</th>\n",
              "      <th>dominant_topic_theme</th>\n",
              "    </tr>\n",
              "  </thead>\n",
              "  <tbody>\n",
              "    <tr>\n",
              "      <th>0</th>\n",
              "      <td>These classes use an aerial silk to create pos...</td>\n",
              "      <td>use aerial silk create less gravitational pull...</td>\n",
              "      <td>use silk create less gravitational pull body c...</td>\n",
              "      <td>0.029489</td>\n",
              "      <td>0.182031</td>\n",
              "      <td>0.028965</td>\n",
              "      <td>0.029540</td>\n",
              "      <td>0.729975</td>\n",
              "      <td>4</td>\n",
              "      <td>Core and Strength</td>\n",
              "    </tr>\n",
              "    <tr>\n",
              "      <th>1</th>\n",
              "      <td>Relax your mind and align your body with aeria...</td>\n",
              "      <td>relax mind align body aerial yoga gently guide...</td>\n",
              "      <td>relax mind align body gently guide elevate ins...</td>\n",
              "      <td>0.120759</td>\n",
              "      <td>0.003898</td>\n",
              "      <td>0.393930</td>\n",
              "      <td>0.003922</td>\n",
              "      <td>0.477491</td>\n",
              "      <td>4</td>\n",
              "      <td>Core and Strength</td>\n",
              "    </tr>\n",
              "    <tr>\n",
              "      <th>2</th>\n",
              "      <td>Aerial Yoga (Open Level) - this class is for e...</td>\n",
              "      <td>aerial yoga exist yoga practitioners aerial ex...</td>\n",
              "      <td>exist practitioners experience require best ma...</td>\n",
              "      <td>0.673739</td>\n",
              "      <td>0.239994</td>\n",
              "      <td>0.028621</td>\n",
              "      <td>0.028928</td>\n",
              "      <td>0.028717</td>\n",
              "      <td>0</td>\n",
              "      <td>Balance and Alignment</td>\n",
              "    </tr>\n",
              "  </tbody>\n",
              "</table>\n",
              "</div>\n",
              "    <div class=\"colab-df-buttons\">\n",
              "\n",
              "  <div class=\"colab-df-container\">\n",
              "    <button class=\"colab-df-convert\" onclick=\"convertToInteractive('df-4bbaf23a-dc18-445f-8a1a-d3491bdf4114')\"\n",
              "            title=\"Convert this dataframe to an interactive table.\"\n",
              "            style=\"display:none;\">\n",
              "\n",
              "  <svg xmlns=\"http://www.w3.org/2000/svg\" height=\"24px\" viewBox=\"0 -960 960 960\">\n",
              "    <path d=\"M120-120v-720h720v720H120Zm60-500h600v-160H180v160Zm220 220h160v-160H400v160Zm0 220h160v-160H400v160ZM180-400h160v-160H180v160Zm440 0h160v-160H620v160ZM180-180h160v-160H180v160Zm440 0h160v-160H620v160Z\"/>\n",
              "  </svg>\n",
              "    </button>\n",
              "\n",
              "  <style>\n",
              "    .colab-df-container {\n",
              "      display:flex;\n",
              "      gap: 12px;\n",
              "    }\n",
              "\n",
              "    .colab-df-convert {\n",
              "      background-color: #E8F0FE;\n",
              "      border: none;\n",
              "      border-radius: 50%;\n",
              "      cursor: pointer;\n",
              "      display: none;\n",
              "      fill: #1967D2;\n",
              "      height: 32px;\n",
              "      padding: 0 0 0 0;\n",
              "      width: 32px;\n",
              "    }\n",
              "\n",
              "    .colab-df-convert:hover {\n",
              "      background-color: #E2EBFA;\n",
              "      box-shadow: 0px 1px 2px rgba(60, 64, 67, 0.3), 0px 1px 3px 1px rgba(60, 64, 67, 0.15);\n",
              "      fill: #174EA6;\n",
              "    }\n",
              "\n",
              "    .colab-df-buttons div {\n",
              "      margin-bottom: 4px;\n",
              "    }\n",
              "\n",
              "    [theme=dark] .colab-df-convert {\n",
              "      background-color: #3B4455;\n",
              "      fill: #D2E3FC;\n",
              "    }\n",
              "\n",
              "    [theme=dark] .colab-df-convert:hover {\n",
              "      background-color: #434B5C;\n",
              "      box-shadow: 0px 1px 3px 1px rgba(0, 0, 0, 0.15);\n",
              "      filter: drop-shadow(0px 1px 2px rgba(0, 0, 0, 0.3));\n",
              "      fill: #FFFFFF;\n",
              "    }\n",
              "  </style>\n",
              "\n",
              "    <script>\n",
              "      const buttonEl =\n",
              "        document.querySelector('#df-4bbaf23a-dc18-445f-8a1a-d3491bdf4114 button.colab-df-convert');\n",
              "      buttonEl.style.display =\n",
              "        google.colab.kernel.accessAllowed ? 'block' : 'none';\n",
              "\n",
              "      async function convertToInteractive(key) {\n",
              "        const element = document.querySelector('#df-4bbaf23a-dc18-445f-8a1a-d3491bdf4114');\n",
              "        const dataTable =\n",
              "          await google.colab.kernel.invokeFunction('convertToInteractive',\n",
              "                                                    [key], {});\n",
              "        if (!dataTable) return;\n",
              "\n",
              "        const docLinkHtml = 'Like what you see? Visit the ' +\n",
              "          '<a target=\"_blank\" href=https://colab.research.google.com/notebooks/data_table.ipynb>data table notebook</a>'\n",
              "          + ' to learn more about interactive tables.';\n",
              "        element.innerHTML = '';\n",
              "        dataTable['output_type'] = 'display_data';\n",
              "        await google.colab.output.renderOutput(dataTable, element);\n",
              "        const docLink = document.createElement('div');\n",
              "        docLink.innerHTML = docLinkHtml;\n",
              "        element.appendChild(docLink);\n",
              "      }\n",
              "    </script>\n",
              "  </div>\n",
              "\n",
              "\n",
              "<div id=\"df-7a6c0cae-39b1-4e87-b8f7-f2b736325a9a\">\n",
              "  <button class=\"colab-df-quickchart\" onclick=\"quickchart('df-7a6c0cae-39b1-4e87-b8f7-f2b736325a9a')\"\n",
              "            title=\"Suggest charts.\"\n",
              "            style=\"display:none;\">\n",
              "\n",
              "<svg xmlns=\"http://www.w3.org/2000/svg\" height=\"24px\"viewBox=\"0 0 24 24\"\n",
              "     width=\"24px\">\n",
              "    <g>\n",
              "        <path d=\"M19 3H5c-1.1 0-2 .9-2 2v14c0 1.1.9 2 2 2h14c1.1 0 2-.9 2-2V5c0-1.1-.9-2-2-2zM9 17H7v-7h2v7zm4 0h-2V7h2v10zm4 0h-2v-4h2v4z\"/>\n",
              "    </g>\n",
              "</svg>\n",
              "  </button>\n",
              "\n",
              "<style>\n",
              "  .colab-df-quickchart {\n",
              "      --bg-color: #E8F0FE;\n",
              "      --fill-color: #1967D2;\n",
              "      --hover-bg-color: #E2EBFA;\n",
              "      --hover-fill-color: #174EA6;\n",
              "      --disabled-fill-color: #AAA;\n",
              "      --disabled-bg-color: #DDD;\n",
              "  }\n",
              "\n",
              "  [theme=dark] .colab-df-quickchart {\n",
              "      --bg-color: #3B4455;\n",
              "      --fill-color: #D2E3FC;\n",
              "      --hover-bg-color: #434B5C;\n",
              "      --hover-fill-color: #FFFFFF;\n",
              "      --disabled-bg-color: #3B4455;\n",
              "      --disabled-fill-color: #666;\n",
              "  }\n",
              "\n",
              "  .colab-df-quickchart {\n",
              "    background-color: var(--bg-color);\n",
              "    border: none;\n",
              "    border-radius: 50%;\n",
              "    cursor: pointer;\n",
              "    display: none;\n",
              "    fill: var(--fill-color);\n",
              "    height: 32px;\n",
              "    padding: 0;\n",
              "    width: 32px;\n",
              "  }\n",
              "\n",
              "  .colab-df-quickchart:hover {\n",
              "    background-color: var(--hover-bg-color);\n",
              "    box-shadow: 0 1px 2px rgba(60, 64, 67, 0.3), 0 1px 3px 1px rgba(60, 64, 67, 0.15);\n",
              "    fill: var(--button-hover-fill-color);\n",
              "  }\n",
              "\n",
              "  .colab-df-quickchart-complete:disabled,\n",
              "  .colab-df-quickchart-complete:disabled:hover {\n",
              "    background-color: var(--disabled-bg-color);\n",
              "    fill: var(--disabled-fill-color);\n",
              "    box-shadow: none;\n",
              "  }\n",
              "\n",
              "  .colab-df-spinner {\n",
              "    border: 2px solid var(--fill-color);\n",
              "    border-color: transparent;\n",
              "    border-bottom-color: var(--fill-color);\n",
              "    animation:\n",
              "      spin 1s steps(1) infinite;\n",
              "  }\n",
              "\n",
              "  @keyframes spin {\n",
              "    0% {\n",
              "      border-color: transparent;\n",
              "      border-bottom-color: var(--fill-color);\n",
              "      border-left-color: var(--fill-color);\n",
              "    }\n",
              "    20% {\n",
              "      border-color: transparent;\n",
              "      border-left-color: var(--fill-color);\n",
              "      border-top-color: var(--fill-color);\n",
              "    }\n",
              "    30% {\n",
              "      border-color: transparent;\n",
              "      border-left-color: var(--fill-color);\n",
              "      border-top-color: var(--fill-color);\n",
              "      border-right-color: var(--fill-color);\n",
              "    }\n",
              "    40% {\n",
              "      border-color: transparent;\n",
              "      border-right-color: var(--fill-color);\n",
              "      border-top-color: var(--fill-color);\n",
              "    }\n",
              "    60% {\n",
              "      border-color: transparent;\n",
              "      border-right-color: var(--fill-color);\n",
              "    }\n",
              "    80% {\n",
              "      border-color: transparent;\n",
              "      border-right-color: var(--fill-color);\n",
              "      border-bottom-color: var(--fill-color);\n",
              "    }\n",
              "    90% {\n",
              "      border-color: transparent;\n",
              "      border-bottom-color: var(--fill-color);\n",
              "    }\n",
              "  }\n",
              "</style>\n",
              "\n",
              "  <script>\n",
              "    async function quickchart(key) {\n",
              "      const quickchartButtonEl =\n",
              "        document.querySelector('#' + key + ' button');\n",
              "      quickchartButtonEl.disabled = true;  // To prevent multiple clicks.\n",
              "      quickchartButtonEl.classList.add('colab-df-spinner');\n",
              "      try {\n",
              "        const charts = await google.colab.kernel.invokeFunction(\n",
              "            'suggestCharts', [key], {});\n",
              "      } catch (error) {\n",
              "        console.error('Error during call to suggestCharts:', error);\n",
              "      }\n",
              "      quickchartButtonEl.classList.remove('colab-df-spinner');\n",
              "      quickchartButtonEl.classList.add('colab-df-quickchart-complete');\n",
              "    }\n",
              "    (() => {\n",
              "      let quickchartButtonEl =\n",
              "        document.querySelector('#df-7a6c0cae-39b1-4e87-b8f7-f2b736325a9a button');\n",
              "      quickchartButtonEl.style.display =\n",
              "        google.colab.kernel.accessAllowed ? 'block' : 'none';\n",
              "    })();\n",
              "  </script>\n",
              "</div>\n",
              "    </div>\n",
              "  </div>\n"
            ]
          },
          "metadata": {},
          "execution_count": 25
        }
      ]
    },
    {
      "cell_type": "code",
      "source": [
        "# save the dataset to csv to enable further inspection\n",
        "df_classes_topics.to_csv('data/df_with_topics.csv')"
      ],
      "metadata": {
        "id": "E00O4nROvkwP",
        "colab": {
          "base_uri": "https://localhost:8080/"
        },
        "outputId": "af4cd353-b36b-4740-c657-367a21d3dbf7"
      },
      "execution_count": 26,
      "outputs": [
        {
          "output_type": "stream",
          "name": "stderr",
          "text": [
            "/usr/local/lib/python3.10/dist-packages/ipykernel/ipkernel.py:283: DeprecationWarning:\n",
            "\n",
            "`should_run_async` will not call `transform_cell` automatically in the future. Please pass the result to `transformed_cell` argument and any exception that happen during thetransform in `preprocessing_exc_tuple` in IPython 7.17 and above.\n",
            "\n"
          ]
        }
      ]
    }
  ]
}