{
  "nbformat": 4,
  "nbformat_minor": 0,
  "metadata": {
    "colab": {
      "provenance": []
    },
    "kernelspec": {
      "name": "python3",
      "display_name": "Python 3"
    },
    "language_info": {
      "name": "python"
    }
  },
  "cells": [
    {
      "cell_type": "code",
      "source": [
        "# access google drive folder\n",
        "%cd /content/drive/MyDrive/Yoga_Classes\n",
        "\n",
        "# running the setup file containing basic libraries and functions\n",
        "%run 'notebooks/scripts/setup.ipynb'"
      ],
      "metadata": {
        "id": "v0KajqLKN1_3"
      },
      "execution_count": null,
      "outputs": []
    },
    {
      "cell_type": "code",
      "execution_count": null,
      "metadata": {
        "id": "1_Ru38pNIpw_"
      },
      "outputs": [],
      "source": [
        "# import libraries used for LDA modeling and model evaluation\n",
        "import gensim\n",
        "from gensim.models import CoherenceModel\n",
        "import gensim.corpora as corpora\n",
        "from gensim.utils import simple_preprocess\n",
        "\n",
        "!pip install pyLDAvis==2.1.2\n",
        "import pyLDAvis\n",
        "import pyLDAvis.gensim\n",
        "pyLDAvis.enable_notebook()"
      ]
    },
    {
      "cell_type": "code",
      "source": [
        "def prepare_lda_inputs(text_series, no_below=15):\n",
        "\n",
        "  # create list of texts tokenized\n",
        "  texts = [text.split() for text in text_series]\n",
        "\n",
        "  # create a word to id dictionary of words contained in the text corpus\n",
        "  id2word = corpora.Dictionary(texts)\n",
        "  id2word.filter_extremes(no_below=no_below)\n",
        "\n",
        "  # create corpus / bag of words\n",
        "  corpus = [id2word.doc2bow(text) for text in texts]\n",
        "\n",
        "  return texts, id2word, corpus"
      ],
      "metadata": {
        "id": "iR5gOgq6K9Wp"
      },
      "execution_count": null,
      "outputs": []
    },
    {
      "cell_type": "code",
      "source": [
        "def produce_lda_model(corpus, id2word, num_topics):\n",
        "\n",
        "  lda_model = gensim.models.ldamodel.LdaModel(corpus=corpus,\n",
        "                                              id2word=id2word,\n",
        "                                              num_topics=num_topics,\n",
        "                                              random_state=100,\n",
        "                                              chunksize=200,\n",
        "                                              passes=10,\n",
        "                                              per_word_topics=True)\n",
        "\n",
        "  return lda_model"
      ],
      "metadata": {
        "id": "qAli7cO2JWGV"
      },
      "execution_count": null,
      "outputs": []
    },
    {
      "cell_type": "code",
      "source": [
        "def get_lda_coherence(lda_model, texts, id2word, coherence='c_v'):\n",
        "  coherence_model_lda = CoherenceModel(model = lda_model, texts=texts, dictionary=id2word, coherence=coherence)\n",
        "  coherence_lda = coherence_model_lda.get_coherence()\n",
        "\n",
        "  return coherence_model_lda, coherence_lda\n",
        "\n",
        "# https://www.baeldung.com/cs/topic-modeling-coherence-score"
      ],
      "metadata": {
        "id": "QK3DPdpiJvaq"
      },
      "execution_count": null,
      "outputs": []
    },
    {
      "cell_type": "code",
      "source": [
        "def compare_lda_coherence(dictionary, corpus, texts, start, limit, step):\n",
        "  # create lists to store results to compare\n",
        "  coherence_values = []\n",
        "  model_list = []\n",
        "  coherence_model_list = []\n",
        "  topic_numbers = []\n",
        "\n",
        "  # iterate over defined number of topics and produce lda and coherence models\n",
        "  for num_topics in range(start, limit, step):\n",
        "    topic_numbers.append(num_topics)\n",
        "    model = produce_lda_model(corpus, dictionary, num_topics)\n",
        "    model_list.append(model)\n",
        "    coherence_model, coherence_value = get_lda_coherence(model, texts, dictionary)\n",
        "    coherence_model_list.append(coherence_model)\n",
        "    coherence_values.append(coherence_value)\n",
        "\n",
        "  # find best coherence value\n",
        "  best_coherence_value = max(coherence_values)\n",
        "  best_index = coherence_values.index(best_coherence_value)\n",
        "  best_topic_num = topic_numbers[best_index]\n",
        "\n",
        "  print(f'Best coherence value of {best_coherence_value} was reached for the LDA model with {best_topic_num} topics')\n",
        "  print(f'Index of the corresponding model: {best_index}')\n",
        "\n",
        "\n",
        "  # plot results to compare\n",
        "  x = range(start, limit, step)\n",
        "  plt.plot(x, coherence_values)\n",
        "  plt.show()\n",
        "\n",
        "  return model_list, coherence_model_list, coherence_values\n"
      ],
      "metadata": {
        "id": "O7zOVotJJ4IO"
      },
      "execution_count": null,
      "outputs": []
    },
    {
      "cell_type": "code",
      "source": [
        "def get_lda_distance_map(lda_model, corpus, id2word):\n",
        "  LDAvis_prepared = pyLDAvis.gensim.prepare(lda_model, corpus, id2word)\n",
        "\n",
        "  return LDAvis_prepared"
      ],
      "metadata": {
        "id": "RYPrktb1KHdH"
      },
      "execution_count": null,
      "outputs": []
    },
    {
      "cell_type": "code",
      "source": [
        "def plot_topics_coherence_lda(coherence_model_lda):\n",
        "\n",
        "  coherence_per_topic = coherence_model_lda.get_coherence_per_topic()\n",
        "\n",
        "  topics_str = [ 1,2,3,4,5,6,7 ]\n",
        "  data_topic_score = pd.DataFrame( data=zip(topics_str, coherence_per_topic), columns=['Topic', 'Coherence'] )\n",
        "  data_topic_score = data_topic_score.set_index('Topic')\n",
        "\n",
        "  fig, ax = plt.subplots( figsize=(2,6) )\n",
        "  ax.set_title(\"Topics coherence\\n $C_v$\")\n",
        "  sns.heatmap(data=data_topic_score, annot=True, square=True,\n",
        "              cmap='Reds', fmt='.2f',\n",
        "              linecolor='black', ax=ax )\n",
        "  plt.yticks( rotation=0 )\n",
        "  ax.set_xlabel('')\n",
        "  ax.set_ylabel('')\n",
        "  fig.show()"
      ],
      "metadata": {
        "id": "FwwwyooQKZL3"
      },
      "execution_count": null,
      "outputs": []
    }
  ]
}