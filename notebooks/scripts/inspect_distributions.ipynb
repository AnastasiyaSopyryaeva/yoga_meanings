{
  "nbformat": 4,
  "nbformat_minor": 0,
  "metadata": {
    "colab": {
      "provenance": []
    },
    "kernelspec": {
      "name": "python3",
      "display_name": "Python 3"
    },
    "language_info": {
      "name": "python"
    }
  },
  "cells": [
    {
      "cell_type": "code",
      "source": [
        "# access google drive folder\n",
        "%cd /content/drive/MyDrive/Yoga_Classes\n",
        "\n",
        "# running the setup file containing basic libraries and functions\n",
        "%run 'notebooks/scripts/setup.ipynb'"
      ],
      "metadata": {
        "colab": {
          "base_uri": "https://localhost:8080/"
        },
        "id": "7KCDAQbdAOoG",
        "outputId": "a999beea-c675-454c-9eb1-d8232dbfbaa4"
      },
      "execution_count": null,
      "outputs": [
        {
          "output_type": "stream",
          "name": "stdout",
          "text": [
            "/content/drive/MyDrive/Yoga_Classes\n"
          ]
        }
      ]
    },
    {
      "cell_type": "markdown",
      "source": [
        "## Functions to calculate frequency distributions of categorical variables\n"
      ],
      "metadata": {
        "id": "F6QqE7pJI3n8"
      }
    },
    {
      "cell_type": "code",
      "execution_count": null,
      "metadata": {
        "id": "7sKaBm3uIXST"
      },
      "outputs": [],
      "source": [
        "def cat_freq_distribution(df, group):\n",
        "  #group the data by a specified variable and compute frequencies of each value\n",
        "  df_group_size = df.groupby(group, as_index = False).size()\n",
        "\n",
        "  # calculating relative frequencies of each value to the overall number of records in a given dataset\n",
        "  total = df_group_size['size'].sum()\n",
        "  print('Total number of records: %s' % total)\n",
        "\n",
        "  relative_frequency = []\n",
        "\n",
        "  for i in range(df_group_size.shape[0]):\n",
        "      pct = (df_group_size['size'][i] / total) * 100\n",
        "      relative_frequency.append('{:.1f}%'.format(round(pct, 1)))\n",
        "\n",
        "  # the dataset styling\n",
        "  df_group_size['relative_frequency'] = relative_frequency\n",
        "  df_group_size.sort_values(by='size', inplace=True, ascending=False)\n",
        "  df_group_size.rename(columns = {'size':'frequency'}, inplace = True)\n",
        "  df_group_size.reset_index(drop=True, inplace = True)\n",
        "\n",
        "  return df_group_size\n",
        "\n",
        "\n",
        "# plot bar chart with frequency distribution of a categorical variable\n",
        "\n",
        "def cat_freq_barplot(df, var, title, xlabel, ylabel):\n",
        "  # set the chart style\n",
        "  sns.set_style('darkgrid')\n",
        "  sns.set_palette('PuRd')\n",
        "  sns.set_context('notebook')\n",
        "\n",
        "  # create the chart\n",
        "  df_group_size = cat_freq_distribution(df, var)\n",
        "  order = df_group_size[var]\n",
        "  g = sns.catplot(data=df, y=var, kind=\"count\", height=8, aspect=1.5, order=order, width=0.7, orient=\"h\")\n",
        "\n",
        "  # extract the matplotlib axes_subplot objects from the FacetGrid\n",
        "  ax = g.facet_axis(0, 0)\n",
        "  data_set = df_group_size[['frequency', 'relative_frequency']]\n",
        "  labels = list(data_set.itertuples(index=False, name=None))\n",
        "\n",
        "  # iterate through the axes containers\n",
        "  for c in ax.containers:\n",
        "      ax.bar_label(c, labels=labels, label_type='edge')\n",
        "\n",
        "  g.fig.suptitle(title, y=1.03)\n",
        "  g.set(xlabel=xlabel, ylabel=ylabel)\n",
        "\n",
        "  plt.show()"
      ]
    }
  ]
}