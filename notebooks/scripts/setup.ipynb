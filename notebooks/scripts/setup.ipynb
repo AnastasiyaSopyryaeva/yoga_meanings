{
  "nbformat": 4,
  "nbformat_minor": 0,
  "metadata": {
    "colab": {
      "provenance": []
    },
    "kernelspec": {
      "name": "python3",
      "display_name": "Python 3"
    },
    "language_info": {
      "name": "python"
    }
  },
  "cells": [
    {
      "cell_type": "markdown",
      "source": [
        "Import the common libraries necessary for data analysis in python"
      ],
      "metadata": {
        "id": "dQom12G7XwjA"
      }
    },
    {
      "cell_type": "code",
      "execution_count": null,
      "metadata": {
        "id": "OuljUh5BXuDs"
      },
      "outputs": [],
      "source": [
        "# common imports\n",
        "import os\n",
        "import collections\n",
        "from collections import Counter\n",
        "import itertools\n",
        "from itertools import combinations\n",
        "import warnings\n",
        "warnings.filterwarnings('ignore')\n",
        "\n",
        "# for data manipulation\n",
        "import numpy as np\n",
        "import pandas as pd\n",
        "import string\n",
        "import re\n",
        "\n",
        "# to plot figures\n",
        "# matplotlib inline allows one to show resulting plots below the code cell that produced it and store plots in the notebook document\n",
        "import matplotlib\n",
        "%matplotlib inline\n",
        "import matplotlib.pyplot as plt\n",
        "import seaborn as sns\n",
        "\n",
        "import random"
      ]
    },
    {
      "cell_type": "markdown",
      "source": [
        "Set file paths"
      ],
      "metadata": {
        "id": "cjgXMkGI_1ZW"
      }
    },
    {
      "cell_type": "code",
      "source": [
        "PATH = \"../\"\n",
        "\n",
        "DATA_PATH = os.path.join(PATH, \"data\")\n",
        "os.makedirs(DATA_PATH, exist_ok=True)\n",
        "\n",
        "RESULTS_PATH = os.path.join(PATH, \"saved_figures\")\n",
        "os.makedirs(RESULTS_PATH, exist_ok=True)"
      ],
      "metadata": {
        "id": "jLx4PsDJ_1lk"
      },
      "execution_count": null,
      "outputs": []
    },
    {
      "cell_type": "markdown",
      "source": [
        "Functions"
      ],
      "metadata": {
        "id": "65GawE8HYDGU"
      }
    },
    {
      "cell_type": "code",
      "source": [
        "def save_fig(fig_id, tight_layout=True, fig_extension=\"png\", resolution=300):\n",
        "    path = os.path.join(RESULTS_PATH, fig_id + \".\" + fig_extension)\n",
        "    print(\"Saving figure\", fig_id)\n",
        "\n",
        "    if tight_layout:\n",
        "        plt.tight_layout()\n",
        "\n",
        "    plt.savefig(path, format=fig_extension, dpi=resolution)"
      ],
      "metadata": {
        "id": "wxj-RU72YOEC"
      },
      "execution_count": null,
      "outputs": []
    }
  ]
}
