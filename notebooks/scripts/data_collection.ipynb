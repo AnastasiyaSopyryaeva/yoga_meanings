{
  "nbformat": 4,
  "nbformat_minor": 0,
  "metadata": {
    "colab": {
      "provenance": []
    },
    "kernelspec": {
      "name": "python3",
      "display_name": "Python 3"
    },
    "language_info": {
      "name": "python"
    }
  },
  "cells": [
    {
      "cell_type": "code",
      "source": [
        "!pip install googlemaps"
      ],
      "metadata": {
        "id": "NTyewVtm02nJ"
      },
      "execution_count": null,
      "outputs": []
    },
    {
      "cell_type": "code",
      "source": [
        "import googlemaps\n",
        "import pandas as pd\n",
        "import time"
      ],
      "metadata": {
        "id": "zRtuKREQ06GU"
      },
      "execution_count": null,
      "outputs": []
    },
    {
      "cell_type": "code",
      "source": [
        "API_KEY = open('', 'r').read()\n",
        "map_client = googlemaps.Client(API_KEY)"
      ],
      "metadata": {
        "id": "iAeaSnny1H0V"
      },
      "execution_count": null,
      "outputs": []
    },
    {
      "cell_type": "markdown",
      "source": [
        "Define central point and radius where to search for desired places\n"
      ],
      "metadata": {
        "id": "FQ2sjvb3DPPB"
      }
    },
    {
      "cell_type": "code",
      "source": [
        "location = (40.680582, -73.949895)\n",
        "search = 'yoga'\n",
        "radius = 20000 # in meters 32 000 meters is an aproximate radius around new york"
      ],
      "metadata": {
        "id": "jLGu1dBW2WUi"
      },
      "execution_count": null,
      "outputs": []
    },
    {
      "cell_type": "markdown",
      "source": [
        "Call Google maps client in order to retrieve a list of places in New York City with a key word 'yoga'"
      ],
      "metadata": {
        "id": "jwAYeTxbDr7n"
      }
    },
    {
      "cell_type": "code",
      "source": [
        "yoga_studios_list = []\n",
        "\n",
        "# keyword - the text string on which to search, for example: \"restaurant\" or \"123 Main Street\". This must be a place name, address, or category of establishments.\n",
        "# location - The point around which to retrieve place information.\n",
        "# radius - Defines the distance (in meters) within which to return place results. You may bias results to a specified circle by passing a location and a radius parameter.\n",
        "# Doing so instructs the Places service to prefer showing results within that circle; results outside of the defined area may still be displayed.\n",
        "response_studios = map_client.places_nearby(\n",
        "    location = location,\n",
        "    keyword = search,\n",
        "    radius = radius\n",
        ")\n",
        "\n",
        "yoga_studios_list.extend(response_studios.get('results'))\n",
        "next_page_token = response_studios.get('next_page_token')\n",
        "\n",
        "# page_token returns up to 20 results from a previously run search.\n",
        "# setting a pagetoken parameter will execute a search with the same parameters used previously — all parameters other than pagetoken will be ignored\n",
        "while next_page_token:\n",
        "    time.sleep(2)\n",
        "    response_studios = map_client.places_nearby(\n",
        "        location = location,\n",
        "        keyword = search,\n",
        "        radius = radius,\n",
        "        page_token=next_page_token\n",
        "    )\n",
        "    yoga_studios_list.extend(response_studios.get('results'))\n",
        "    next_page_token = response_studios.get('next_page_token')\n"
      ],
      "metadata": {
        "id": "E3zTKl9E3XfO"
      },
      "execution_count": null,
      "outputs": []
    },
    {
      "cell_type": "markdown",
      "source": [
        "Retrieve a list of yoga studios websites from the list of places"
      ],
      "metadata": {
        "id": "PYvdpI39D9Sa"
      }
    },
    {
      "cell_type": "code",
      "source": [
        "websites_list = []\n",
        "\n",
        "for i in range(len(yoga_studios_list)):\n",
        "  place_id = yoga_studios_list[i]['place_id']\n",
        "  response_place = map_client.place(\n",
        "    place_id = place_id,\n",
        "    fields = ['website'])\n",
        "\n",
        "  websites_list.append(response_place['result']['website'])\n",
        "websites_list\n",
        "\n"
      ],
      "metadata": {
        "colab": {
          "base_uri": "https://localhost:8080/"
        },
        "id": "5LysUZc2Vd9i",
        "outputId": "f6d9f883-2022-4224-acec-439425eac5c9"
      },
      "execution_count": null,
      "outputs": [
        {
          "output_type": "execute_result",
          "data": {
            "text/plain": [
              "['http://www.mylivingyoga.com/',\n",
              " 'http://www.dayayogastudio.com/',\n",
              " 'http://www.arise.yoga/brooklyn',\n",
              " 'http://www.the-yoga-room.com/',\n",
              " 'https://www.bodynbrain.com/forest-hills',\n",
              " 'http://www.soukstudio.com/',\n",
              " 'https://www.urbansoulsyoga.com/',\n",
              " 'http://www.imsoyoganewark.com/',\n",
              " 'http://simplyhotyogafitness.com/',\n",
              " 'http://centeryoganyc.com/',\n",
              " 'http://www.kalayogabk.com/',\n",
              " 'http://www.modoyoga.com/nyc',\n",
              " 'https://www.yogaspa.nyc/',\n",
              " 'http://www.bodynbrain.com/Bay-Ridge',\n",
              " 'http://babycobrayoga.com/',\n",
              " 'http://www.yogaagora.com/',\n",
              " 'https://www.hotyogachelsea.com/',\n",
              " 'http://sakshibhavayoga.com/',\n",
              " 'https://yogahellbk.com/?utm_source=GMB&utm_medium=Profile',\n",
              " 'http://suiyoga.com/',\n",
              " 'http://www.yogamaya.com/',\n",
              " 'http://www.bodynbrain.com/ridgefield',\n",
              " 'https://www.atmananda.com/',\n",
              " 'http://www.samamkayabackcare.com/',\n",
              " 'http://www.modoyoga.com/nyc',\n",
              " 'http://tangerine.yoga/',\n",
              " 'http://yogacommonstudio.com/',\n",
              " 'http://www.newvibeyoga.com/',\n",
              " 'http://www.sonicyoga.com/',\n",
              " 'https://honoryoga.com/global-live-streaming-schedule',\n",
              " 'http://www.bodynbrain.com/bayside/',\n",
              " 'https://urbansadhuyoga.com/',\n",
              " 'http://www.stmarksyoga.com/',\n",
              " 'http://secondstorymovement.com/',\n",
              " 'http://www.hummingpuppy.com/',\n",
              " 'https://www.dharmayogacenter.com/',\n",
              " 'http://www.oneyoganyc.com/',\n",
              " 'https://www.uwsyoga.com/',\n",
              " 'http://yogaspace.nyc/',\n",
              " 'http://www.nylovesyoga.com/',\n",
              " 'http://nkisoyyoga.com/',\n",
              " 'https://www.spiritlabyoga.com/',\n",
              " 'http://www.pranahotyoga.com/',\n",
              " 'https://abhayayoga.com/',\n",
              " 'http://www.skyting.com/',\n",
              " 'http://beyogadance.com/',\n",
              " 'http://www.jenniferbrilliant.com/',\n",
              " 'https://www.hotyogabensonhurst.com/',\n",
              " 'https://loomyoga.com/',\n",
              " 'http://bodenyc.com/',\n",
              " 'https://www.pure-bliss-yoga.com/',\n",
              " 'http://yogatribebrooklyn.com/',\n",
              " 'http://www.iyengarnyc.org/',\n",
              " 'http://www.urbannomadyoga.com/',\n",
              " 'http://www.beunewyork.com/',\n",
              " 'http://www.suryasideyoga.com/',\n",
              " 'https://www.solcityyoga.com/',\n",
              " 'https://llamaste.com/',\n",
              " 'http://www.thecorneryogastudio.com/',\n",
              " 'https://www.threejewels.org/']"
            ]
          },
          "metadata": {},
          "execution_count": 38
        }
      ]
    },
    {
      "cell_type": "code",
      "source": [
        "len(websites_list) # several websites refer to the same studio in different locations"
      ],
      "metadata": {
        "colab": {
          "base_uri": "https://localhost:8080/"
        },
        "id": "pmPTCmCBiWb_",
        "outputId": "8ba68318-5f2d-4bcf-d99c-90b8bfa7bfab"
      },
      "execution_count": null,
      "outputs": [
        {
          "output_type": "execute_result",
          "data": {
            "text/plain": [
              "60"
            ]
          },
          "metadata": {},
          "execution_count": 39
        }
      ]
    }
  ]
}